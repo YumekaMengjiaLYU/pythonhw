{
 "cells": [
  {
   "cell_type": "code",
   "execution_count": null,
   "metadata": {},
   "outputs": [],
   "source": []
  },
  {
   "cell_type": "code",
   "execution_count": null,
   "metadata": {},
   "outputs": [],
   "source": []
  },
  {
   "cell_type": "code",
   "execution_count": null,
   "metadata": {},
   "outputs": [],
   "source": []
  },
  {
   "cell_type": "code",
   "execution_count": 2,
   "metadata": {},
   "outputs": [],
   "source": [
    "import csv\n",
    "import numpy as np\n",
    "from scipy.optimize import minimize\n",
    "from numpy import log\n",
    "with open('problem3.csv', newline='') as csvfile:\n",
    "    data = list(csv.reader(csvfile))"
   ]
  },
  {
   "cell_type": "code",
   "execution_count": null,
   "metadata": {},
   "outputs": [],
   "source": []
  },
  {
   "cell_type": "code",
   "execution_count": 3,
   "metadata": {},
   "outputs": [],
   "source": [
    "fval_history=[]\n",
    "theta_history=[]\n"
   ]
  },
  {
   "cell_type": "code",
   "execution_count": 4,
   "metadata": {},
   "outputs": [],
   "source": [
    "datanp = np.array([float(i[0]) for i in data])\n",
    "def objective_function(theta,datanp):\n",
    "    x_0 = theta[0]\n",
    "    gamma = theta[1]\n",
    "    fval = 1000*np.log(np.pi) + 1000*gamma + np.sum(np.log(1+(datanp-x_0)**2/np.exp(gamma)**2))\n",
    "    global fval_history\n",
    "    fval_history += [fval]\n",
    "    global theta_history\n",
    "    theta_history += [theta]\n",
    "    return fval\n",
    "\n",
    "def objective_gradient(theta,datanp):\n",
    "    x_0 = theta[0]\n",
    "    gamma = theta[1]\n",
    "    numerator = (datanp-x_0)\n",
    "    denominator = np.exp(2*gamma)*(1+(datanp-x_0)**2/np.exp(2*gamma))\n",
    "    \n",
    "    gradient = np.array([np.sum(-2*(numerator/denominator)), 1000+np.sum((-2*(numerator)**2/denominator))])\n",
    "    return gradient\n",
    "    "
   ]
  },
  {
   "cell_type": "code",
   "execution_count": 5,
   "metadata": {},
   "outputs": [
    {
     "name": "stdout",
     "output_type": "stream",
     "text": [
      "      fun: 358.9539187908588\n",
      " hess_inv: array([[ 2.29131327e-05, -7.89141638e-08],\n",
      "       [-7.89141638e-08,  2.08683100e-03]])\n",
      "      jac: array([1.41106355e-07, 6.48833520e-09])\n",
      "  message: 'Optimization terminated successfully.'\n",
      "     nfev: 39\n",
      "      nit: 18\n",
      "     njev: 39\n",
      "   status: 0\n",
      "  success: True\n",
      "        x: array([ 1.49348727, -2.21055569])\n"
     ]
    }
   ],
   "source": [
    "initial_guess = np.array([-20,-20])  # initial guess can be anything\n",
    "result = minimize(objective_function, initial_guess, jac=objective_gradient, method = \"BFGS\", args=(datanp,))\n",
    "print (result)"
   ]
  },
  {
   "cell_type": "code",
   "execution_count": 6,
   "metadata": {},
   "outputs": [
    {
     "name": "stdout",
     "output_type": "stream",
     "text": [
      "[27269.273792252217, 26255.24099028449, 22198.58932979026, 5991.015727954464, 66655.61779969232, 11479.996871182093, 4811.823507442348, 7657.035016513437, 4207.843368229264, 3530.235657654892, 5173.095271644563, 3200.9376161881523, 3146.3189598643003, 14970.144555824954, 3414.0003217727835, 3125.577108183428, 3083.4603062876486, 2910.6332682549937, 2265.366436328617, 4372.573003434626, 2060.8397793684476, 1622.3672626806886, 3019.8376129650082, 1146.592923423926, 4395.5710824396965, 991.8664578564591, 708.1288285793761, 618.234417389257, 511.05208499820105, 387.96875576484877, 443.7990006579703, 371.91148492076627, 359.79334870287926, 358.9626129390613, 358.95430662255944, 358.95391909739396, 358.9539187910857, 358.9539187908588, 358.9539187908588]\n"
     ]
    }
   ],
   "source": [
    "print(fval_history)"
   ]
  },
  {
   "cell_type": "code",
   "execution_count": 7,
   "metadata": {},
   "outputs": [
    {
     "name": "stdout",
     "output_type": "stream",
     "text": [
      "[array([-20., -20.]), array([-19.91031732, -18.99398955]), array([-19.55158662, -14.96994777]), array([-18.1166638 ,   1.12621937]), array([-12.37697251,  65.51088791]), array([-17.29570612,  10.33526648]), array([-17.94959394,   3.0003162 ]), array([32.63700152,  0.37247083]), array([-8.8723816 ,  2.52877803]), array([-2.32061678,  2.18843046]), array([15.15819237,  1.28045064]), array([1.06769478, 2.01241627]), array([2.80333181, 1.92225432]), array([65.25741595, -5.51317193]), array([6.15062618, 1.52374459]), array([3.47797006, 1.84193575]), array([3.36176695, 1.80166252]), array([2.8969545 , 1.64056959]), array([1.03770469, 0.99619787]), array([-1.09190588, -1.28446087]), array([0.70053356, 0.635112  ]), array([1.07338003, 0.17974146]), array([ 2.56476593, -1.64174069]), array([ 1.46732073, -0.3013922 ]), array([ 2.79769962, -2.67761583]), array([ 1.61314999, -0.56186155]), array([ 1.57414664, -1.03318585]), array([ 1.35992611, -1.91450823]), array([ 1.48248693, -1.41028209]), array([ 1.47458779, -2.49134278]), array([ 1.55333611, -2.31327003]), array([ 1.49765412, -2.43918313]), array([ 1.49067724, -2.15739118]), array([ 1.49285425, -2.21067793]), array([ 1.49336768, -2.21112742]), array([ 1.49348676, -2.21059116]), array([ 1.49348731, -2.21055658]), array([ 1.49348727, -2.21055569]), array([ 1.49348727, -2.21055569])]\n"
     ]
    }
   ],
   "source": [
    "print(theta_history)"
   ]
  },
  {
   "cell_type": "code",
   "execution_count": 8,
   "metadata": {},
   "outputs": [
    {
     "name": "stdout",
     "output_type": "stream",
     "text": [
      "-20.000 & -20.000 \\\\\n",
      "-19.910 & -18.994 \\\\\n",
      "-19.552 & -14.970 \\\\\n",
      "-18.117 & 1.126 \\\\\n",
      "-12.377 & 65.511 \\\\\n",
      "-17.296 & 10.335 \\\\\n",
      "-17.950 & 3.000 \\\\\n",
      "32.637 & 0.372 \\\\\n",
      "-8.872 & 2.529 \\\\\n",
      "-2.321 & 2.188 \\\\\n",
      "15.158 & 1.280 \\\\\n",
      "1.068 & 2.012 \\\\\n",
      "2.803 & 1.922 \\\\\n",
      "65.257 & -5.513 \\\\\n",
      "6.151 & 1.524 \\\\\n",
      "3.478 & 1.842 \\\\\n",
      "3.362 & 1.802 \\\\\n",
      "2.897 & 1.641 \\\\\n",
      "1.038 & 0.996 \\\\\n",
      "-1.092 & -1.284 \\\\\n",
      "0.701 & 0.635 \\\\\n",
      "1.073 & 0.180 \\\\\n",
      "2.565 & -1.642 \\\\\n",
      "1.467 & -0.301 \\\\\n",
      "2.798 & -2.678 \\\\\n",
      "1.613 & -0.562 \\\\\n",
      "1.574 & -1.033 \\\\\n",
      "1.360 & -1.915 \\\\\n",
      "1.482 & -1.410 \\\\\n",
      "1.475 & -2.491 \\\\\n",
      "1.553 & -2.313 \\\\\n",
      "1.498 & -2.439 \\\\\n",
      "1.491 & -2.157 \\\\\n",
      "1.493 & -2.211 \\\\\n",
      "1.493 & -2.211 \\\\\n",
      "1.493 & -2.211 \\\\\n",
      "1.493 & -2.211 \\\\\n",
      "1.493 & -2.211 \\\\\n",
      "1.493 & -2.211\n"
     ]
    }
   ],
   "source": [
    "print(\" \\\\\\\\\\n\".join([\" & \".join(map('{0:.3f}'.format, line)) for line in theta_history]))"
   ]
  },
  {
   "cell_type": "code",
   "execution_count": null,
   "metadata": {},
   "outputs": [],
   "source": []
  },
  {
   "cell_type": "code",
   "execution_count": null,
   "metadata": {},
   "outputs": [],
   "source": []
  }
 ],
 "metadata": {
  "kernelspec": {
   "display_name": "Python 3",
   "language": "python",
   "name": "python3"
  },
  "language_info": {
   "codemirror_mode": {
    "name": "ipython",
    "version": 3
   },
   "file_extension": ".py",
   "mimetype": "text/x-python",
   "name": "python",
   "nbconvert_exporter": "python",
   "pygments_lexer": "ipython3",
   "version": "3.7.4"
  }
 },
 "nbformat": 4,
 "nbformat_minor": 2
}
