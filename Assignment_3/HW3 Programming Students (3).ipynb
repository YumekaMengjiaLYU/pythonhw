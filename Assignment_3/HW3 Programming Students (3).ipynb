{
 "cells": [
  {
   "cell_type": "markdown",
   "metadata": {},
   "source": [
    "# CTR Prediction with Stochastic Gradient Descent\n",
    "In this assignment, you will work on implementing a widely used solution for click-through rate prediction problem. \n",
    "\n",
    "Click-through rate prediction problem is a computational problem considered at many search engine and e-commerce companies. The goal is to decide which ad to display along with the search results (e.g. web pages, videos, products). Many ads are sold on pay-per-click basis and the company only pays for ad clicks, not ad views. As a research scientist or a research engineer, your goal is to implement and deploy an algorithmic solution that predicts whether an ad will be clicked.\n",
    "\n",
    "Throughout the notebook you'll see TODO tags in the comments. This is where you should insert your own code to make the functions work! If you get stuck, we encourage you to come to office hours. You can also try to look at APIs and documentation online to try to get a sense how certain methods work. If you take inspiration from any source online other than official documentation, please be sure to cite the resource! Good luck!\n",
    "\n",
    "First we will start with mandatory imports."
   ]
  },
  {
   "cell_type": "code",
   "execution_count": 65,
   "metadata": {},
   "outputs": [],
   "source": [
    "# Mandatory imports.\n",
    "from matplotlib import colors\n",
    "import matplotlib.pyplot as plt\n",
    "import math\n",
    "import numpy\n",
    "import scipy\n",
    "from scipy.optimize import minimize\n",
    "from numpy.lib import recfunctions as rfn\n",
    "from sklearn.preprocessing import OneHotEncoder"
   ]
  },
  {
   "cell_type": "markdown",
   "metadata": {},
   "source": [
    "# Preprocessing (5 points)\n",
    "In this section, we will load a sample of Criteo data and preprocess categorical features into one-hot-encoding."
   ]
  },
  {
   "cell_type": "code",
   "execution_count": 66,
   "metadata": {},
   "outputs": [
    {
     "name": "stdout",
     "output_type": "stream",
     "text": [
      "20000  training points found with the features: \n",
      "[('id', '<f8'), ('click', '<f8'), ('hour', '<f8'), ('C1', '<f8'), ('banner_pos', '<f8'), ('site_id', '<f8'), ('site_domain', '<f8'), ('site_category', '<f8'), ('app_id', '<f8'), ('app_domain', '<f8'), ('app_category', '<f8'), ('device_id', '<f8'), ('device_ip', '<f8'), ('device_model', '<f8'), ('device_type', '<f8'), ('device_conn_type', '<f8'), ('C14', '<f8'), ('C15', '<f8'), ('C16', '<f8'), ('C17', '<f8'), ('C18', '<f8'), ('C19', '<f8'), ('C20', '<f8'), ('C21', '<f8')]\n",
      "A total of  24  features.\n"
     ]
    }
   ],
   "source": [
    "# Load the training data and check features.\n",
    "labeled_data = numpy.genfromtxt('train_subsampled', dtype=float, delimiter=',', names=True) \n",
    "print(len(labeled_data), ' training points found with the features: ')\n",
    "print(labeled_data.dtype)\n",
    "print('A total of ', len(labeled_data.dtype), ' features.')"
   ]
  },
  {
   "cell_type": "code",
   "execution_count": 67,
   "metadata": {},
   "outputs": [
    {
     "name": "stdout",
     "output_type": "stream",
     "text": [
      "20000  training points found with the features: \n",
      "{'names':['click','C1','device_type','C15','C16'], 'formats':['<f8','<f8','<f8','<f8','<f8'], 'offsets':[8,24,112,136,144], 'itemsize':192}\n",
      "A total of  5  features.\n"
     ]
    }
   ],
   "source": [
    "# These are the features we will use for classification so subselect fields.\n",
    "features_to_use = ['click', 'C1', 'device_type', 'C15', 'C16']\n",
    "labeled_data = labeled_data[features_to_use]\n",
    "print(len(labeled_data), ' training points found with the features: ')\n",
    "print(labeled_data.dtype)\n",
    "print('A total of ', len(labeled_data.dtype), ' features.')\n",
    "\n",
    "# Convert the labeled data into unstructured array.\n",
    "labeled_data = rfn.structured_to_unstructured(labeled_data)\n",
    "labeled_data_X = labeled_data[:, 1:]\n",
    "labeled_data_Y = labeled_data[:, 0]\n",
    "\n",
    "# Since the Y's in the Criteo data is {0, 1}, need to convert to use {-1, 1}.\n",
    "for i in range(labeled_data_Y.shape[0]):\n",
    "    labeled_data_Y[i] = 1 if labeled_data_Y[i] > 0 else -1"
   ]
  },
  {
   "cell_type": "code",
   "execution_count": 85,
   "metadata": {},
   "outputs": [
    {
     "name": "stderr",
     "output_type": "stream",
     "text": [
      "/Users/mengjialyu/opt/anaconda3/lib/python3.7/site-packages/sklearn/preprocessing/_encoders.py:415: FutureWarning: The handling of integer data will change in version 0.22. Currently, the categories are determined based on the range [0, max(values)], while in the future they will be determined based on the unique values.\n",
      "If you want the future behaviour and silence this warning, you can specify \"categories='auto'\".\n",
      "In case you used a LabelEncoder before this OneHotEncoder to convert the categories to integers, then you can now use the OneHotEncoder directly.\n",
      "  warnings.warn(msg, FutureWarning)\n"
     ]
    }
   ],
   "source": [
    "# importing one hot encoder from sklearn \n",
    "from sklearn.preprocessing import OneHotEncoder \n",
    "from sklearn.model_selection import train_test_split\n",
    "\n",
    "# TODO: Converts an unstructued numpy 2-D array consisting of categorical values into a numpy 2-D array\n",
    "# consisting of one-hot-encoded vectors.\n",
    "#\n",
    "# You may find OneHotEncoder in sklearn useful.\n",
    "def preprocess_one_hot_encoding(labeled_data_X, labeled_data_Y):\n",
    "    \n",
    "    # Apply one-hot-encoding.\n",
    "    # creating one hot encoder object with categorical feature 0 \n",
    "    # indicating the first column \n",
    "    onehotencoder = OneHotEncoder() \n",
    "    labeled_data_X = onehotencoder.fit_transform(labeled_data_X).toarray()\n",
    "   \n",
    "    # Divide the data into train/validation.\n",
    "    training_data_X, validation_data_X, training_data_Y, validation_data_Y = \\\n",
    "    train_test_split(labeled_data_X, labeled_data_Y, test_size=0.2, random_state=0)\n",
    "        \n",
    "    return training_data_X, training_data_Y, validation_data_X, validation_data_Y\n",
    "\n",
    "training_data_X, training_data_Y, validation_data_X, validation_data_Y = \\\n",
    "    preprocess_one_hot_encoding(labeled_data_X, labeled_data_Y)"
   ]
  },
  {
   "cell_type": "markdown",
   "metadata": {},
   "source": [
    "We will also load a small dataset (from homework 3) for sanity checks."
   ]
  },
  {
   "cell_type": "code",
   "execution_count": 86,
   "metadata": {},
   "outputs": [
    {
     "name": "stdout",
     "output_type": "stream",
     "text": [
      "Loaded a small data for sanity check:  (200, 3)\n"
     ]
    }
   ],
   "source": [
    "# Load the small data.\n",
    "small_data = numpy.genfromtxt('logistic_regression.csv', dtype=float, delimiter=',', names=True)\n",
    "small_data = rfn.structured_to_unstructured(small_data)\n",
    "print('Loaded a small data for sanity check: ', small_data.shape)\n",
    "small_data_X = small_data[:, 0:2]\n",
    "small_data_Y = small_data[:, 2]"
   ]
  },
  {
   "cell_type": "markdown",
   "metadata": {},
   "source": [
    "# Classifier Class\n",
    "Here is a generic classifier class with some useful functions. As we define more classifiers, we will inherit from this base class and implement supplementary methods. Please take a moment and read through the code to understand the logic. **You do not need to modify this class**."
   ]
  },
  {
   "cell_type": "code",
   "execution_count": 87,
   "metadata": {},
   "outputs": [],
   "source": [
    "# Generic classifier class.\n",
    "class classifier:\n",
    "    \n",
    "    # Takes the number of features as an input and initializes the classifier.\n",
    "    def __init__(self, num_dimensions):\n",
    "        \n",
    "        # Each classifier stores a weight vector whose size is equal to the number of features.\n",
    "        self.weight_ = numpy.zeros( (num_dimensions,) )\n",
    "\n",
    "    # Sets the mini batch size used for the classifier.\n",
    "    def set_mini_batch_size(self, mini_batch_size_in):\n",
    "        self.mini_batch_size_ = mini_batch_size_in\n",
    "    \n",
    "    # Initializes the history vectors.\n",
    "    def init_history(self, num_epochs):\n",
    "        self.obj_val_history_ = numpy.zeros( (num_epochs + 1, ))\n",
    "        self.l2_norm_gradient_history_ = numpy.zeros(( num_epochs + 1, ))\n",
    "        self.training_unregularized_loss_history_ = numpy.zeros( (num_epochs + 1, ) )\n",
    "        self.validation_unregularized_loss_history_ = numpy.zeros( (num_epochs + 1, ) )\n",
    "    \n",
    "    # Takes a 2-D numpy array in which each row is a point and returns a numpy 1-D array consisting of\n",
    "    # classification results (-1 or 1).\n",
    "    def batch_classify(self, x_mat):\n",
    "        return numpy.array([ self.classify(x_vec) for x_vec in x_mat])\n",
    "       \n",
    "    # Takes the learning rate, weight gradient and performs one update to the weight vector. Please lecture notes\n",
    "    # for more details.\n",
    "    def update_weight(self, learning_rate, weight_gradient):\n",
    "        self.weight_ = self.weight_ - learning_rate * weight_gradient\n",
    "    \n",
    "    # Stores history of optimization progress.\n",
    "    def add_to_history(self, obj_val, weight_gradient, epoch_num, X, Y, validation_data_X, validation_data_Y ):\n",
    "    \n",
    "        self.obj_val_history_[epoch_num] = obj_val\n",
    "        self.l2_norm_gradient_history_[epoch_num] = numpy.linalg.norm(weight_gradient, 2)\n",
    "        self.training_unregularized_loss_history_[epoch_num] = self.compute_unregularized_loss(X, Y)\n",
    "\n",
    "        if validation_data_X is not None:\n",
    "            self.validation_unregularized_loss_history_[epoch_num] = \\\n",
    "                self.compute_unregularized_loss(validation_data_X, validation_data_Y)"
   ]
  },
  {
   "cell_type": "markdown",
   "metadata": {},
   "source": [
    "# Plotting Utility\n",
    "This may be useful in debugging using the small dataset used in homework 3; use this function only for two dimensional datasets. **Again, no need to modify the code here**."
   ]
  },
  {
   "cell_type": "code",
   "execution_count": 88,
   "metadata": {},
   "outputs": [],
   "source": [
    "# Plots the data with the decision boundary.\n",
    "def plot_data(classifier, X, Y):\n",
    "    weight = classifier.weight_\n",
    "    y_pred = [classifier.classify(x) for x in X]\n",
    "    tp = (Y == y_pred)  # Correctly classified\n",
    "    tp0, tp1 = tp[Y == -1], tp[Y == 1]\n",
    "    X0, X1 = X[Y == -1], X[Y == 1]\n",
    "    X0_tp, X0_fp = X0[tp0], X0[~tp0]\n",
    "    X1_tp, X1_fp = X1[tp1], X1[~tp1]\n",
    "\n",
    "    # class 0: dots\n",
    "    plt.scatter(X0_tp[:, 0], X0_tp[:, 1], marker='.', color='red')\n",
    "    plt.scatter(X0_fp[:, 0], X0_fp[:, 1], marker='x',\n",
    "                s=20, color='#990000')  # dark red\n",
    "\n",
    "    # class 1: dots\n",
    "    plt.scatter(X1_tp[:, 0], X1_tp[:, 1], marker='.', color='blue')\n",
    "    plt.scatter(X1_fp[:, 0], X1_fp[:, 1], marker='x',\n",
    "                s=20, color='#000099')  # dark blue\n",
    "\n",
    "    # class 0 and 1 : areas\n",
    "    nx, ny = 200, 200\n",
    "    x_min, x_max = (-20, 20)\n",
    "    y_min, y_max = (-20, 20)\n",
    "    plt.xlim(-20, 20)\n",
    "    plt.ylim(-20, 20)\n",
    "    xx, yy = numpy.meshgrid(\n",
    "        numpy.linspace(x_min, x_max, nx),\n",
    "        numpy.linspace(y_min, y_max, ny))\n",
    "    \n",
    "    xgrid = numpy.arange(-20, 20, 0.1)\n",
    "    ygrid = [ - weight[0] / weight[1] * x_val for x_val in xgrid ]\n",
    "    plt.plot(xgrid, ygrid, '--')\n",
    "\n",
    "    # Show plots.\n",
    "    plt.gca().set_aspect('equal', 'datalim')\n",
    "    plt.show()"
   ]
  },
  {
   "cell_type": "markdown",
   "metadata": {},
   "source": [
    "# Regularized Logistic Regression Classifier (5 points)\n",
    "In this section, you will extend the base **classifier** class to implement the **logistic_regression_classifier** class. Recall from our lecture: the regularized logistic regression is the solution to the following optimization problem,\n",
    "$$\\arg \\min\\limits_{\\mathbf{w}} \\frac{\\lambda \\mathbf{w}^T \\mathbf{w} }{2} + \\frac{1}{N} \\sum\\limits_{i = 1}^N \n",
    "\\ell_{\\mathsf{logistic}}(y^{(i)}, \\mathbf{w}^T \\mathbf{x}^{(i)})$$\n",
    "where the logistic loss is defined by:\n",
    "$$\\begin{align*}\n",
    "\\ell_{\\mathsf{logistic}}(y, \\mathbf{w}^T \\mathbf{x}) = \\ln \\left ( 1 + \\exp(- y \\cdot \\mathbf{w}^T \\mathbf{x} ) \\right )\n",
    "\\end{align*}$$\n",
    "for some regularization parameter $\\lambda > 0$.\n",
    "\n",
    "In the class below, implement the **obj_gradient_function** which computes the regularized objective value and its gradient using a subset of training points whose indices are in **mini_batch_indices** variable. For the regularized objective value, this function computes a *Monte Carlo approximation* of the regulariezd objective function at the current parameter $\\mathbf{w}$:\n",
    "$$\\frac{\\lambda \\mathbf{w}^T \\mathbf{w}}{2} + \\frac{1}{| M |} \\sum\\limits_{\n",
    "( \\mathbf{x}^{i_j}, y^{i_j}) \\in M} \\ell_{\\mathsf{logistic}}(y^{(i_j)}, \\mathbf{w}^T \\mathbf{x}^{(i_j)})$$\n",
    "and a *Monte Carlo approximation* of the gradient:\n",
    "$$\\lambda \\mathbf{w} + \\frac{1}{| M |} \\sum\\limits_{\n",
    "( \\mathbf{x}^{i_j}, y^{i_j}) \\in M} \n",
    "\\frac{\\partial }{\\partial \\mathbf{w}}\n",
    "\\ell_{\\mathsf{logistic}}(y^{(i_j)}, \\mathbf{w}^T \\mathbf{x}^{(i_j)})$$\n",
    "Note that the batch gradient descent is a special case: $M = \\{ ( \\mathbf{x}^{(i)}, y^{(i)})\\}_{i = 1}^N$.\n",
    "\n",
    "What is $\\frac{\\partial }{\\partial \\mathbf{w}}\n",
    "\\ell_{\\mathsf{logistic}}(y^{(i_j)}, \\mathbf{w}^T \\mathbf{x}^{(i_j)})$?"
   ]
  },
  {
   "cell_type": "markdown",
   "metadata": {},
   "source": [
    "$$\\frac{\\partial }{\\partial \\mathbf{w}}\n",
    "\\ell_{\\mathsf{logistic}}(y^{(i_j)}, \\mathbf{w}^T \\mathbf{x}^{(i_j)}) =  -\\frac{y^{(i_j)} \\cdot \\mathbf{x}^{(i_j)}\\exp(- y^{(i_j)} \\cdot \\mathbf{w}^T \\mathbf{x}^{(i_j)})}{ 1 + \\exp(- y^{(i_j)} \\cdot \\mathbf{w}^T \\mathbf{x}^{(i_j)})}$$"
   ]
  },
  {
   "cell_type": "code",
   "execution_count": 89,
   "metadata": {},
   "outputs": [],
   "source": [
    "class logistic_regression_classifier(classifier):\n",
    "\n",
    "    def __init__(self, num_dimensions):\n",
    "        super(logistic_regression_classifier, self).__init__(num_dimensions)\n",
    "        \n",
    "    # TODO: Takes a vector and outputs 1, -1 based on the classifier.\n",
    "    def classify(self, x_vec):\n",
    "        dot_product = numpy.dot(x_vec, self.weight_)\n",
    "        if (dot_product <= -1):\n",
    "            return -1\n",
    "        elif (dot_product >= 1):\n",
    "            return 1\n",
    "        return 0\n",
    "\n",
    "    # Takes a 2-D numpy array X and 1-D numpy array Y and returns the unregularized average loss.\n",
    "    def compute_unregularized_loss(self, x_mat, y_vec):\n",
    "        return numpy.mean([ numpy.log(1 + numpy.exp(-y_vec[i] * numpy.dot(self.weight_, x_vec))) for i, x_vec in enumerate(x_mat) ])\n",
    "            \n",
    "    # TODO: \n",
    "    #\n",
    "    # weight: the weight vector\n",
    "    # X: the data matrix\n",
    "    # Y: the y vector\n",
    "    # mini_batch_indices: the subsample rows to choose in the X, Y pair.\n",
    "    # regularization: the $\\lambda$ parameter.\n",
    "    # compute_obj_val: whether the function returns the objective value.\n",
    "    # compute_gradient: whether the function returns the gradient.\n",
    "    @staticmethod\n",
    "    def obj_gradient_function(\n",
    "        weight, X, Y, mini_batch_indices, regularization, compute_obj_val=True, compute_gradient=True):\n",
    "        \n",
    "        obj_val = 0.0\n",
    "        weight_gradient = numpy.zeros((X.shape[1],))\n",
    "        counter = 0\n",
    "        for i, (x_vec, y_label) in enumerate(\n",
    "            zip(X[mini_batch_indices, :], Y[mini_batch_indices])):\n",
    "         \n",
    "            # You probably need to do something here...\n",
    "            numerator = -y_label*x_vec*numpy.exp(-y_label * numpy.dot(weight.T, x_vec))\n",
    "            denominator = 1 + numpy.exp(-y_label * numpy.dot(weight.T, x_vec))\n",
    "            weight_gradient += numerator/denominator  \n",
    "            obj_val +=  numpy.log(1 + numpy.exp(-y_label * numpy.dot(weight.T, x_vec)))\n",
    "            counter += 1\n",
    "        # regularized\n",
    "        obj_val = obj_val/counter + regularization * numpy.dot(weight.T,weight)/2\n",
    "        weight_gradient = weight_gradient/counter + regularization * weight\n",
    "\n",
    "        if compute_obj_val:\n",
    "            if compute_gradient:\n",
    "                return obj_val, weight_gradient\n",
    "            else:\n",
    "                return obj_val\n",
    "        else:\n",
    "            return weight_gradient"
   ]
  },
  {
   "cell_type": "markdown",
   "metadata": {},
   "source": [
    "# Checkpoint: Regularized Logistic Regression Classifier\n",
    "Here is a sanity check on your implementation of logistic regression classifier. You can run your code through **scipy.optimize.minimize** function by supplying the function returning the objective value and the function returning the gradient; it is an essentially batch gradient optimization. Let us sovlve the regularized logistic regression for $\\lambda = 100$. The following should return $\\mathbf{x} = \\begin{bmatrix} -0.00327102\\\\ -0.02627279\\end{bmatrix}$ on the data used in homework 3."
   ]
  },
  {
   "cell_type": "code",
   "execution_count": 90,
   "metadata": {},
   "outputs": [
    {
     "name": "stdout",
     "output_type": "stream",
     "text": [
      "      fun: 0.6524165237953092\n",
      " hess_inv: array([[0.00927898, 0.00058996],\n",
      "       [0.00058996, 0.00851353]])\n",
      "      jac: array([ 1.44574989e-07, -3.01204584e-07])\n",
      "  message: 'Optimization terminated successfully.'\n",
      "     nfev: 7\n",
      "      nit: 4\n",
      "     njev: 7\n",
      "   status: 0\n",
      "  success: True\n",
      "        x: array([-0.00327102, -0.02627279])\n"
     ]
    }
   ],
   "source": [
    "res = scipy.optimize.minimize(\n",
    "    lambda weight, X, Y, mini_batch_indices, regularization: logistic_regression_classifier.obj_gradient_function(weight, X, Y, mini_batch_indices, regularization, True, False), \n",
    "    numpy.zeros(small_data_X.shape[1]), \n",
    "    args=(small_data_X, small_data_Y, [x for x in range(small_data_X.shape[0])], 100),\n",
    "    jac=lambda weight, X, Y, mini_batch_indices, regularization: logistic_regression_classifier.obj_gradient_function(weight, X, Y, mini_batch_indices, regularization, False, True), method='BFGS'  )\n",
    "print(res)"
   ]
  },
  {
   "cell_type": "markdown",
   "metadata": {},
   "source": [
    "# Regularized Hinge Loss Support Vector Machine Classifier (5 points)\n",
    "In this section, you will extend the base **classifier** class to implement the **support vector machine classifier** class. Recall from our lecture: the regularized logistic regression is the solution to the following optimization problem,\n",
    "$$\\arg \\min\\limits_{\\mathbf{w}} \\frac{\\lambda \\mathbf{w}^T \\mathbf{w} }{2} + \\frac{1}{N} \\sum\\limits_{i = 1}^N \n",
    "\\ell_{\\mathsf{hinge}}(y^{(i)}, \\mathbf{w}^T \\mathbf{x}^{(i)})$$\n",
    "where the hinge loss is defined by:\n",
    "$$\\begin{align*}\n",
    "\\ell_{\\mathsf{hinge}}(y, \\mathbf{w}^T \\mathbf{x}) =\n",
    "\\max \\{ 0, 1 - y \\cdot \\mathbf{w}^T \\mathbf{x}\\}\n",
    "\\end{align*}$$\n",
    "for some regularization parameter $\\lambda > 0$.\n",
    "\n",
    "In the class below, implement the **obj_gradient_function** which computes the regularized objective value and its gradient using a subset of training points whose indices are in **mini_batch_indices** variable. For the regularized objective value, this function computes a *Monte Carlo approximation* of the regulariezd objective function at the current parameter $\\mathbf{w}$:\n",
    "$$\\frac{\\lambda \\mathbf{w}^T \\mathbf{w}}{2} + \\frac{1}{| M |} \\sum\\limits_{\n",
    "( \\mathbf{x}^{i_j}, y^{i_j}) \\in M} \\ell_{\\mathsf{hinge}}(y^{(i_j)}, \\mathbf{w}^T \\mathbf{x}^{(i_j)})$$\n",
    "and a *Monte Carlo approximation* of the gradient:\n",
    "$$\\lambda \\mathbf{w} + \\frac{1}{| M |} \\sum\\limits_{\n",
    "( \\mathbf{x}^{i_j}, y^{i_j}) \\in M} \n",
    "\\frac{\\partial }{\\partial \\mathbf{w}}\n",
    "\\ell_{\\mathsf{hinge}}(y^{(i_j)}, \\mathbf{w}^T \\mathbf{x}^{(i_j)})$$\n",
    "Note that the batch gradient descent is a special case: $M = \\{ ( \\mathbf{x}^{(i)}, y^{(i)})\\}_{i = 1}^N$.\n",
    "\n",
    "What is $\\frac{\\partial }{\\partial \\mathbf{w}}\n",
    "\\ell_{\\mathsf{hinge}}(y^{(i_j)}, \\mathbf{w}^T \\mathbf{x}^{(i_j)})$?"
   ]
  },
  {
   "cell_type": "markdown",
   "metadata": {},
   "source": [
    "$$\\frac{\\partial }{\\partial \\mathbf{w}}\n",
    "\\ell_{\\mathsf{hinge}}(y^{(i_j)}, \\mathbf{w}^T \\mathbf{x}^{(i_j)}) = \\begin{cases}\n",
    "      0, & \\text{if}\\ y^{(i_j)}\\cdot \\mathbf{w}^T \\mathbf{x}^{(i_j)} \\geq 1 \\\\\n",
    "      -y^{(i_j)}\\cdot\\mathbf{x}^{(i_j)}, & \\text{otherwise}\n",
    "    \\end{cases}$$"
   ]
  },
  {
   "cell_type": "code",
   "execution_count": 91,
   "metadata": {},
   "outputs": [],
   "source": [
    "class svm_classifier(classifier):\n",
    "\n",
    "    def __init__(self, num_dimensions):\n",
    "        super(svm_classifier, self).__init__(num_dimensions)\n",
    "\n",
    "    # TODO: Implement me.\n",
    "    def classify(self, x_vec):\n",
    "        dot_product = 1 - numpy.dot(x_vec, self.weight_)\n",
    "        if (dot_product <= -1):\n",
    "            return -1\n",
    "        elif (dot_product >= 1):\n",
    "            return 1\n",
    "        return 0\n",
    "\n",
    "    # Takes a 2-D numpy array X and 1-D numpy array Y and returns the unregularized average loss.\n",
    "    def compute_unregularized_loss(self, x_mat, y_vec):\n",
    "        return numpy.mean([ max(0, 1 - y_vec[i] * numpy.dot(self.weight_, x_vec)) for i, x_vec in enumerate(x_mat) ])\n",
    "    \n",
    "    # TODO: Implement me.\n",
    "    @staticmethod\n",
    "    def obj_gradient_function(weight, X, Y, mini_batch_indices, regularization, compute_obj_val=True, compute_gradient=True):\n",
    "        obj_val = 0.0\n",
    "        counter = 0\n",
    "        weight_gradient = numpy.zeros((X.shape[1],))\n",
    "        for i, (x_vec, y_label) in enumerate(\n",
    "            zip(X[mini_batch_indices, :], Y[mini_batch_indices])):\n",
    "            criteria = y_label * numpy.dot(weight.T, x_vec)\n",
    "            if criteria >= 1:\n",
    "                obj_val += 0\n",
    "                weight_gradient += 0\n",
    "            else:\n",
    "                obj_val += 1 - y_label * numpy.dot(weight.T, x_vec)\n",
    "                weight_gradient += - y_label * x_vec\n",
    "            counter += 1\n",
    "        # regularized\n",
    "        obj_val = obj_val/counter + regularization * numpy.dot(weight.T, weight)/2\n",
    "        weight_gradient = weight_gradient/counter + regularization * weight \n",
    "        if compute_obj_val:\n",
    "            if compute_gradient:\n",
    "                return obj_val, weight_gradient\n",
    "            else:\n",
    "                return obj_val\n",
    "        else:\n",
    "            return weight_gradient"
   ]
  },
  {
   "cell_type": "markdown",
   "metadata": {},
   "source": [
    "# Checkpoint: Regularized SVM\n",
    "Here is a sanity check on your implementation of SVM classifier. You can run your code through **scipy.optimize.minimize** function by supplying the function returning the objective value and the function returning the gradient. Let us sovlve the regularized logistic regression for $\\lambda = 100$. The following should return $\\mathbf{x} = \\begin{bmatrix} -0.00436965\\\\ -0.05892061\\end{bmatrix}$ on the data used in homework 3."
   ]
  },
  {
   "cell_type": "code",
   "execution_count": 92,
   "metadata": {},
   "outputs": [
    {
     "name": "stdout",
     "output_type": "stream",
     "text": [
      "      fun: 0.8104632542689072\n",
      " hess_inv: array([[ 0.00974516, -0.00014299],\n",
      "       [-0.00014299,  0.00991977]])\n",
      "      jac: array([3.35671637e-06, 1.88341902e-06])\n",
      "  message: 'Optimization terminated successfully.'\n",
      "     nfev: 11\n",
      "      nit: 8\n",
      "     njev: 11\n",
      "   status: 0\n",
      "  success: True\n",
      "        x: array([-0.00436965, -0.05892061])\n"
     ]
    }
   ],
   "source": [
    "res = scipy.optimize.minimize(\n",
    "    lambda weight, X, Y, mini_batch_indices, regularization: svm_classifier.obj_gradient_function(weight, X, Y, mini_batch_indices, regularization, True, False), \n",
    "    numpy.zeros(small_data_X.shape[1]), \n",
    "    args=(small_data_X, small_data_Y, [x for x in range(small_data_X.shape[0])], 100),\n",
    "    jac=lambda weight, X, Y, mini_batch_indices, regularization: svm_classifier.obj_gradient_function(weight, X, Y, mini_batch_indices, regularization, False, True), method='BFGS')\n",
    "print(res)"
   ]
  },
  {
   "cell_type": "markdown",
   "metadata": {},
   "source": [
    "# Implementing the Pegasos Algorithm (15 points)\n",
    "Note that the **obj_gradient_function** function has a parameter named **mini_batch_indices** which denote the training point indices that are used for computing the objective and the gradient."
   ]
  },
  {
   "cell_type": "code",
   "execution_count": 93,
   "metadata": {},
   "outputs": [],
   "source": [
    "# Pegasos algorithm for regularized objective functions.\n",
    "#\n",
    "# X: the data matrix\n",
    "# Y: the label y values take {-1, 1}.\n",
    "# regularization: the $\\lambda$ value > 0.\n",
    "# num_epochs: $T$\n",
    "# mini_batch_size: the size of the mini-batch.\n",
    "#\n",
    "# Returns the weight, the obj val/gradient norm history.\n",
    "import random\n",
    "def pegasos(\n",
    "    classifier, X, Y, validation_data_X, validation_data_Y, regularization=0, \n",
    "    num_epochs=1000, mini_batch_size=1):\n",
    "\n",
    "    # Sets the mini batch size for the classifier.\n",
    "    classifier.set_mini_batch_size(mini_batch_size)\n",
    "    \n",
    "    # The indices representing the training data numbered from $0, ..., X.shape[0]$\n",
    "    training_data_indices = numpy.arange( X.shape[0] )\n",
    "    num_mini_batches = int(math.ceil( X.shape[0] / mini_batch_size ))\n",
    "\n",
    "    # Initialize the classifier for storing the history values.\n",
    "    classifier.init_history(num_epochs)\n",
    "    \n",
    "    # Evaluate the regularized objective value and the L2 norm gradient \n",
    "    # before running the algorithm.\n",
    "    classifier.add_to_history(\n",
    "        *classifier.obj_gradient_function(\n",
    "            classifier.weight_, X, Y, training_data_indices, regularization), 0, \n",
    "        X, Y, validation_data_X, validation_data_Y )\n",
    "    \n",
    "    # init weight\n",
    "    #weight = numpy.zeros((X.shape[1],))\n",
    "      # init weight\n",
    "    \n",
    "    \n",
    "    # The main algorithm.\n",
    "    for epoch in range(1, num_epochs + 1):\n",
    "       \n",
    "        # shuffle indices training indices\n",
    "        numpy.random.shuffle(training_data_indices)\n",
    "      \n",
    "        # Hint: what is my learning rate?\n",
    "        learning_rate = 1/(epoch * regularization)\n",
    "       \n",
    "        # For each mini batch, apply gradient descent.\n",
    "        \n",
    "        # each epoch scann the data exactly once\n",
    "        for mini_batch_num in range(num_mini_batches):\n",
    "            \n",
    "            # Determine the start/end indices.\n",
    "            start_index = mini_batch_size * mini_batch_num\n",
    "            end_index = min(start_index + mini_batch_size, X.shape[0])\n",
    "            \n",
    "            # call obj function\n",
    "            obj_val, weight_gradient = \\\n",
    "            classifier.obj_gradient_function(classifier.weight_, X, Y, training_data_indices[start_index:end_index], regularization)\n",
    "             \n",
    "            classifier.update_weight(learning_rate, weight_gradient)\n",
    "            \n",
    "        # Compute the objective value and the L2 norm gradient after each epoch.\n",
    "        classifier.add_to_history(\n",
    "            *classifier.obj_gradient_function(\n",
    "                classifier.weight_, X, Y, training_data_indices, regularization), epoch,\n",
    "            X, Y, validation_data_X, validation_data_Y )\n",
    "        \n",
    "        if epoch % 10 == 0:\n",
    "            print('Epoch ', epoch, ' is complete...')"
   ]
  },
  {
   "cell_type": "markdown",
   "metadata": {},
   "source": [
    "# Checkpoint: Pegasos for Regularized Logistic Regression\n",
    "We can run with the initial $\\eta = 0.1$ and the regularization parameter $\\lambda = 100$ for $T = 300$. As $| M |$ becomes larger, the result should converge to that of the first checkpoint."
   ]
  },
  {
   "cell_type": "code",
   "execution_count": 94,
   "metadata": {},
   "outputs": [
    {
     "name": "stdout",
     "output_type": "stream",
     "text": [
      "Epoch  10  is complete...\n",
      "Epoch  20  is complete...\n",
      "Epoch  30  is complete...\n",
      "Epoch  40  is complete...\n",
      "Epoch  50  is complete...\n",
      "Epoch  60  is complete...\n",
      "Epoch  70  is complete...\n",
      "Epoch  80  is complete...\n",
      "Epoch  90  is complete...\n",
      "Epoch  100  is complete...\n",
      "Epoch  110  is complete...\n",
      "Epoch  120  is complete...\n",
      "Epoch  130  is complete...\n",
      "Epoch  140  is complete...\n",
      "Epoch  150  is complete...\n",
      "Epoch  160  is complete...\n",
      "Epoch  170  is complete...\n",
      "Epoch  180  is complete...\n",
      "Epoch  190  is complete...\n",
      "Epoch  200  is complete...\n",
      "Epoch  210  is complete...\n",
      "Epoch  220  is complete...\n",
      "Epoch  230  is complete...\n",
      "Epoch  240  is complete...\n",
      "Epoch  250  is complete...\n",
      "Epoch  260  is complete...\n",
      "Epoch  270  is complete...\n",
      "Epoch  280  is complete...\n",
      "Epoch  290  is complete...\n",
      "Epoch  300  is complete...\n",
      "[-0.00319153 -0.0264499 ]\n",
      "Epoch  10  is complete...\n",
      "Epoch  20  is complete...\n",
      "Epoch  30  is complete...\n",
      "Epoch  40  is complete...\n",
      "Epoch  50  is complete...\n",
      "Epoch  60  is complete...\n",
      "Epoch  70  is complete...\n",
      "Epoch  80  is complete...\n",
      "Epoch  90  is complete...\n",
      "Epoch  100  is complete...\n",
      "Epoch  110  is complete...\n",
      "Epoch  120  is complete...\n",
      "Epoch  130  is complete...\n",
      "Epoch  140  is complete...\n",
      "Epoch  150  is complete...\n",
      "Epoch  160  is complete...\n",
      "Epoch  170  is complete...\n",
      "Epoch  180  is complete...\n",
      "Epoch  190  is complete...\n",
      "Epoch  200  is complete...\n",
      "Epoch  210  is complete...\n",
      "Epoch  220  is complete...\n",
      "Epoch  230  is complete...\n",
      "Epoch  240  is complete...\n",
      "Epoch  250  is complete...\n",
      "Epoch  260  is complete...\n",
      "Epoch  270  is complete...\n",
      "Epoch  280  is complete...\n",
      "Epoch  290  is complete...\n",
      "Epoch  300  is complete...\n",
      "[-0.00326654 -0.02627744]\n",
      "Epoch  10  is complete...\n",
      "Epoch  20  is complete...\n",
      "Epoch  30  is complete...\n",
      "Epoch  40  is complete...\n",
      "Epoch  50  is complete...\n",
      "Epoch  60  is complete...\n",
      "Epoch  70  is complete...\n",
      "Epoch  80  is complete...\n",
      "Epoch  90  is complete...\n",
      "Epoch  100  is complete...\n",
      "Epoch  110  is complete...\n",
      "Epoch  120  is complete...\n",
      "Epoch  130  is complete...\n",
      "Epoch  140  is complete...\n",
      "Epoch  150  is complete...\n",
      "Epoch  160  is complete...\n",
      "Epoch  170  is complete...\n",
      "Epoch  180  is complete...\n",
      "Epoch  190  is complete...\n",
      "Epoch  200  is complete...\n",
      "Epoch  210  is complete...\n",
      "Epoch  220  is complete...\n",
      "Epoch  230  is complete...\n",
      "Epoch  240  is complete...\n",
      "Epoch  250  is complete...\n",
      "Epoch  260  is complete...\n",
      "Epoch  270  is complete...\n",
      "Epoch  280  is complete...\n",
      "Epoch  290  is complete...\n",
      "Epoch  300  is complete...\n",
      "[-0.00347003 -0.02611771]\n"
     ]
    }
   ],
   "source": [
    "# Train Pegasos logistic regression classifier.\n",
    "lr_classifiers = []\n",
    "for mini_batch_size in [1, 8, 64]:\n",
    "    lr_classifier = logistic_regression_classifier(small_data_X.shape[1])\n",
    "    pegasos(lr_classifier, small_data_X, small_data_Y, None, None, regularization=100, num_epochs=300, mini_batch_size=mini_batch_size)\n",
    "    print(lr_classifier.weight_)\n",
    "    lr_classifiers += [ lr_classifier ]"
   ]
  },
  {
   "cell_type": "markdown",
   "metadata": {},
   "source": [
    "Here is an example of using the **plot_data** function for debugging. The following code will plot one of the trained classifiers."
   ]
  },
  {
   "cell_type": "code",
   "execution_count": 95,
   "metadata": {},
   "outputs": [
    {
     "data": {
      "image/png": "[encoded data removed]",
      "text/plain": [
       "<Figure size 432x288 with 1 Axes>"
      ]
     },
     "metadata": {
      "needs_background": "light"
     },
     "output_type": "display_data"
    }
   ],
   "source": [
    "plot_data(lr_classifiers[0], small_data_X, small_data_Y)"
   ]
  },
  {
   "cell_type": "code",
   "execution_count": 96,
   "metadata": {},
   "outputs": [
    {
     "data": {
      "text/plain": [
       "<matplotlib.legend.Legend at 0x1a18c10f10>"
      ]
     },
     "execution_count": 96,
     "metadata": {},
     "output_type": "execute_result"
    },
    {
     "data": {
      "image/png": "[encoded data removed]",
      "text/plain": [
       "<Figure size 432x288 with 1 Axes>"
      ]
     },
     "metadata": {
      "needs_background": "light"
     },
     "output_type": "display_data"
    },
    {
     "data": {
      "image/png": "[encoded data removed]",
      "text/plain": [
       "<Figure size 432x288 with 1 Axes>"
      ]
     },
     "metadata": {
      "needs_background": "light"
     },
     "output_type": "display_data"
    }
   ],
   "source": [
    "# Plot L2 norm gradient history.\n",
    "plt.figure()\n",
    "plt.yscale('log')\n",
    "\n",
    "plt.ylabel('L2 norm Gradient')\n",
    "plt.xlabel('Epoch Num')\n",
    "plt.title('L2 norm Gradient History')\n",
    "for lr_classifier in lr_classifiers:\n",
    "    plt.plot([epoch for epoch in range(len(lr_classifier.l2_norm_gradient_history_))], lr_classifier.l2_norm_gradient_history_, label=lr_classifier.mini_batch_size_)\n",
    "plt.legend()\n",
    "\n",
    "# Plot training histories.\n",
    "plt.figure()\n",
    "plt.yscale('log')\n",
    "plt.xlabel('Epoch Num')\n",
    "plt.ylabel('Unrregularized Loss on the Training Set')\n",
    "for lr_classifier in lr_classifiers:\n",
    "    plt.plot([epoch for epoch in range(len(lr_classifier.training_unregularized_loss_history_))], lr_classifier.training_unregularized_loss_history_, label=lr_classifier.mini_batch_size_)\n",
    "plt.legend()"
   ]
  },
  {
   "cell_type": "markdown",
   "metadata": {},
   "source": [
    "# Checkpoint: Pegasos for Regularized Hinge Loss SVM\n",
    "We can run with the initial $\\eta = 0.1$ and the regularization parameter $\\lambda = 100$ for $T = 300$. As $| M |$ becomes larger, the result should converge to that of the second checkpoint."
   ]
  },
  {
   "cell_type": "code",
   "execution_count": 97,
   "metadata": {},
   "outputs": [
    {
     "name": "stdout",
     "output_type": "stream",
     "text": [
      "Epoch  10  is complete...\n",
      "Epoch  20  is complete...\n",
      "Epoch  30  is complete...\n",
      "Epoch  40  is complete...\n",
      "Epoch  50  is complete...\n",
      "Epoch  60  is complete...\n",
      "Epoch  70  is complete...\n",
      "Epoch  80  is complete...\n",
      "Epoch  90  is complete...\n",
      "Epoch  100  is complete...\n",
      "Epoch  110  is complete...\n",
      "Epoch  120  is complete...\n",
      "Epoch  130  is complete...\n",
      "Epoch  140  is complete...\n",
      "Epoch  150  is complete...\n",
      "Epoch  160  is complete...\n",
      "Epoch  170  is complete...\n",
      "Epoch  180  is complete...\n",
      "Epoch  190  is complete...\n",
      "Epoch  200  is complete...\n",
      "Epoch  210  is complete...\n",
      "Epoch  220  is complete...\n",
      "Epoch  230  is complete...\n",
      "Epoch  240  is complete...\n",
      "Epoch  250  is complete...\n",
      "Epoch  260  is complete...\n",
      "Epoch  270  is complete...\n",
      "Epoch  280  is complete...\n",
      "Epoch  290  is complete...\n",
      "Epoch  300  is complete...\n",
      "[-0.00437457 -0.05891292]\n"
     ]
    }
   ],
   "source": [
    "# Train Pegasos logistic regression classifier.\n",
    "svm_classifier_obj = svm_classifier(small_data_X.shape[1])\n",
    "pegasos(svm_classifier_obj, small_data_X, small_data_Y, None, None, regularization=100, num_epochs=300, mini_batch_size=20)\n",
    "print(svm_classifier_obj.weight_)"
   ]
  },
  {
   "cell_type": "markdown",
   "metadata": {},
   "source": [
    "# Pegasos on Criteo CTR Prediction Data\n",
    "Once you are here, now you are ready to run on a real data. First let us try the regularized logistic regression. Use $\\lambda = 0.1$, and $T = 100$."
   ]
  },
  {
   "cell_type": "code",
   "execution_count": 98,
   "metadata": {},
   "outputs": [
    {
     "name": "stdout",
     "output_type": "stream",
     "text": [
      "<class 'numpy.ndarray'>\n",
      "(16000, 24)\n",
      "<class 'numpy.ndarray'>\n",
      "(16000,)\n",
      "Epoch  10  is complete...\n",
      "Epoch  20  is complete...\n",
      "Epoch  30  is complete...\n",
      "Epoch  40  is complete...\n",
      "Epoch  50  is complete...\n",
      "Epoch  60  is complete...\n",
      "Epoch  70  is complete...\n",
      "Epoch  80  is complete...\n",
      "Epoch  90  is complete...\n",
      "Epoch  100  is complete...\n",
      "[-5.45018792e-04 -3.42917512e-02 -3.27959123e-01 -1.58289939e-03\n",
      " -1.06311181e-04 -4.29563990e-02 -1.64302138e-03 -3.42917512e-02\n",
      " -3.31836374e-01 -3.46306997e-02 -8.32569930e-03 -1.58590920e-02\n",
      "  1.41968004e-02 -4.01470675e-01 -2.78288444e-04 -5.75676089e-03\n",
      "  8.34918107e-05 -1.58590920e-02 -4.10411461e-01 -5.75676089e-03\n",
      "  2.83453170e-02 -2.78288444e-04 -5.20773009e-03  8.34918107e-05]\n"
     ]
    }
   ],
   "source": [
    "# Train Pegasos logistic regression classifier.\n",
    "lr_classifier = logistic_regression_classifier(training_data_X.shape[1])\n",
    "print(type(training_data_X))\n",
    "print(training_data_X.shape)\n",
    "print(type(training_data_Y))\n",
    "print(training_data_Y.shape)\n",
    "pegasos(lr_classifier, training_data_X, training_data_Y, validation_data_X, \\\n",
    "        validation_data_Y, regularization=0.1, num_epochs=100, mini_batch_size=64)\n",
    "print(lr_classifier.weight_)"
   ]
  },
  {
   "cell_type": "code",
   "execution_count": 99,
   "metadata": {},
   "outputs": [
    {
     "data": {
      "text/plain": [
       "<matplotlib.legend.Legend at 0x1a1cc1c950>"
      ]
     },
     "execution_count": 99,
     "metadata": {},
     "output_type": "execute_result"
    },
    {
     "data": {
      "image/png": "[encoded data removed]",
      "text/plain": [
       "<Figure size 432x288 with 1 Axes>"
      ]
     },
     "metadata": {
      "needs_background": "light"
     },
     "output_type": "display_data"
    }
   ],
   "source": [
    "# Plot validation histories.\n",
    "plt.figure()\n",
    "plt.yscale('log')\n",
    "plt.xlabel('Epoch Num')\n",
    "plt.ylabel('Unrregularized Loss on the Validation Set')\n",
    "plt.plot([epoch for epoch in range(len(lr_classifier.validation_unregularized_loss_history_))], lr_classifier.validation_unregularized_loss_history_, label=lr_classifier.mini_batch_size_)\n",
    "plt.legend()"
   ]
  },
  {
   "cell_type": "markdown",
   "metadata": {},
   "source": [
    "Next, run on the regularized hinge loss SVM. Again, use $\\lambda = 0.1$, and $T = 100$."
   ]
  },
  {
   "cell_type": "code",
   "execution_count": 100,
   "metadata": {},
   "outputs": [
    {
     "name": "stdout",
     "output_type": "stream",
     "text": [
      "Epoch  10  is complete...\n",
      "Epoch  20  is complete...\n",
      "Epoch  30  is complete...\n",
      "Epoch  40  is complete...\n",
      "Epoch  50  is complete...\n",
      "Epoch  60  is complete...\n",
      "Epoch  70  is complete...\n",
      "Epoch  80  is complete...\n",
      "Epoch  90  is complete...\n",
      "Epoch  100  is complete...\n",
      "[-2.61786512e-03 -1.69519069e-01 -2.32989883e-01 -3.52035491e-03\n",
      " -1.54984157e-03 -1.30416873e-01 -1.53312537e-02 -1.69519069e-01\n",
      " -2.56009198e-01 -1.07924913e-01 -2.24919593e-02 -5.44713527e-02\n",
      " -1.49906914e-01 -3.38186153e-01 -6.84340727e-04 -1.28219424e-02\n",
      "  1.25563196e-04 -5.44713527e-02 -4.01931735e-01 -1.28219424e-02\n",
      " -6.60682670e-02 -6.84340727e-04 -2.00930648e-02  1.25563196e-04]\n"
     ]
    }
   ],
   "source": [
    "# Train Pegasos logistic regression classifier.\n",
    "svm_classifier_obj = svm_classifier(training_data_X.shape[1])\n",
    "pegasos(svm_classifier_obj, training_data_X, training_data_Y, validation_data_X, validation_data_Y, regularization=0.1, num_epochs=100, mini_batch_size=64)\n",
    "print(svm_classifier_obj.weight_)"
   ]
  },
  {
   "cell_type": "code",
   "execution_count": 101,
   "metadata": {},
   "outputs": [
    {
     "data": {
      "text/plain": [
       "<matplotlib.legend.Legend at 0x1a1cc98590>"
      ]
     },
     "execution_count": 101,
     "metadata": {},
     "output_type": "execute_result"
    },
    {
     "data": {
      "image/png": "[encoded data removed]",
      "text/plain": [
       "<Figure size 432x288 with 1 Axes>"
      ]
     },
     "metadata": {
      "needs_background": "light"
     },
     "output_type": "display_data"
    }
   ],
   "source": [
    "# Plot validation histories.\n",
    "plt.figure()\n",
    "plt.yscale('log')\n",
    "plt.xlabel('Epoch Num')\n",
    "plt.ylabel('Unrregularized Loss on the Validation Set')\n",
    "plt.plot([epoch for epoch in range(len(svm_classifier_obj.validation_unregularized_loss_history_))], svm_classifier_obj.validation_unregularized_loss_history_, label=lr_classifier.mini_batch_size_)\n",
    "plt.legend()"
   ]
  },
  {
   "cell_type": "markdown",
   "metadata": {},
   "source": [
    "For both of classifiers, try to find a setting of parameters $\\lambda$ and $| M |$ that gives the best accuracy on the validation set.\n",
    "\n",
    "For the few brave students, try to optimize your code to work on sparse data."
   ]
  }
 ],
 "metadata": {
  "kernelspec": {
   "display_name": "Python 3",
   "language": "python",
   "name": "python3"
  },
  "language_info": {
   "codemirror_mode": {
    "name": "ipython",
    "version": 3
   },
   "file_extension": ".py",
   "mimetype": "text/x-python",
   "name": "python",
   "nbconvert_exporter": "python",
   "pygments_lexer": "ipython3",
   "version": "3.7.4"
  }
 },
 "nbformat": 4,
 "nbformat_minor": 2
}
