{
 "cells": [
  {
   "cell_type": "markdown",
   "metadata": {},
   "source": [
    "# Recommendation Using Factorization Machine\n",
    "\n",
    "In this assignment, you will work on implementing the factorization machine for recommendation problems. You will implement factorization machine for both classification and regression.\n",
    "\n",
    "We will be re-using the dataset from the previous homework: the Criteo data (https://www.kaggle.com/c/avazu-ctr-prediction) and using another dataset: the MovieLens 100K Dataset (https://grouplens.org/datasets/movielens/). Both of these datasets are included in your homework package.\n",
    "\n",
    "Throughout the notebook you'll see TODO tags in the comments. This is where you should insert your own code to make the functions work! If you get stuck, we encourage you to come to office hours. You can also try to look at APIs and documentation online to try to get a sense how certain methods work. If you take inspiration from any source online other than official documentation, please be sure to cite the resource! Good luck!\n",
    "\n",
    "**Small warning**: This homework may be time-consuming for those who are not strong in Python. If you feel you may spend too much time on this homework, complete as much as you can, as there are parts that are not intensive. Please budget your time carefully since we are near the end of the semester.\n",
    "\n",
    "You will also see a new decorator for enabling Numba which is a just-in-time compiler for Python which can optimize numpy-based code. Unlike the last homework, we will not be using dense **numpy.array** to store the feature data **X**. Instead, it will be stored using **scipy.sparse.csr_matrix**. It is advised that the prototypes for each of the functions you implement are kept intact.\n",
    "\n",
    "First we will start with mandatory imports."
   ]
  },
  {
   "cell_type": "code",
   "execution_count": 265,
   "metadata": {},
   "outputs": [],
   "source": [
    "# Mandatory imports\n",
    "from IPython.display import Image\n",
    "import math\n",
    "import matplotlib.pyplot as plt\n",
    "from numba import njit\n",
    "import numpy\n",
    "from numpy.lib import recfunctions as rfn\n",
    "import os\n",
    "import scipy\n",
    "import scipy.sparse as sparse\n",
    "import scipy.optimize as optimize\n",
    "import scipy.special as special\n",
    "from sklearn.preprocessing import OneHotEncoder\n",
    "from tqdm import trange"
   ]
  },
  {
   "cell_type": "markdown",
   "metadata": {},
   "source": [
    "# Supporting Test Functions for MovieLens and Criteo Datasets\n",
    "There are two functions *test_movie_lens_data* and *test_criteo_data* which can be used to test and plot validation error cruves. For the Criteo dataset, we will be using it for classification. For the MovieLens dataset, it will be used for both classification and regression. There are couple of small sanity test routines at the end which will be used in a later part. **There is no need to modify any of the following functions.**"
   ]
  },
  {
   "cell_type": "code",
   "execution_count": 266,
   "metadata": {},
   "outputs": [],
   "source": [
    "## Converts the X consisting of all categorical data into one-hot-encoding and splits\n",
    "#  the X and Y data set into training/validation with the ratio of 4:1.\n",
    "def preprocess_one_hot_encoding(labeled_data_X, labeled_data_Y):\n",
    "    \n",
    "    # Apply one-hot-encoding.\n",
    "    enc = OneHotEncoder(handle_unknown='ignore')\n",
    "    x = enc.fit_transform(labeled_data_X)\n",
    "\n",
    "    # Divide the data into train/validation.\n",
    "    validation_data_size = int(labeled_data_X.shape[0] / 5)\n",
    "    validation_data_X = x[ 0 :validation_data_size, : ]\n",
    "    training_data_X = x[ validation_data_size:, : ]\n",
    "    validation_data_Y = labeled_data_Y[ 0 :validation_data_size]\n",
    "    training_data_Y = labeled_data_Y[ validation_data_size: ]\n",
    "    print('Divided into the training set of size ', training_data_X.shape[0])\n",
    "    print('and the validation set of size ', validation_data_X.shape[0])\n",
    "    return training_data_X, training_data_Y, validation_data_X, validation_data_Y\n",
    "\n",
    "## Loads the MovieLens 10k dataset either for classfication or regression and trains factorization machine.\n",
    "#\n",
    "#  task: 'classification' for classification, 'regression' for regression\n",
    "def test_movie_lens_data(num_factors=3, task='classification'):\n",
    "        \n",
    "    # Open the data.\n",
    "    train_data = numpy.genfromtxt(\n",
    "        'ua.base', \n",
    "        dtype=[('userid', '<i8'), ('movieid', '<i8'), ('rating', '<i8'), ('timestamp', 'S20')], delimiter='\\t') \n",
    "    print(len(train_data), ' training points found with the features: ')\n",
    "    print(train_data.dtype)\n",
    "    print('A total of ', len(train_data.dtype), ' features.')\n",
    "\n",
    "    # These are the features we will use for classification so subselect fields.\n",
    "    features_to_use = ['userid', 'movieid', 'rating']\n",
    "    train_data = train_data[features_to_use]\n",
    "    print(len(train_data), ' training points found with the features: ')\n",
    "    print(train_data.dtype)\n",
    "    print('A total of ', len(train_data.dtype), ' features.')\n",
    "\n",
    "    # Convert the labeled data into unstructured array.\n",
    "    labeled_data = rfn.structured_to_unstructured(train_data)\n",
    "    numpy.random.shuffle(labeled_data)\n",
    "    labeled_data_X = labeled_data[:, :-1]\n",
    "    labeled_data_Y = labeled_data[:, -1]\n",
    "    \n",
    "    if task == 'classification':\n",
    "        for i in range(labeled_data_Y.shape[0]):\n",
    "            labeled_data_Y[i] = 1 if labeled_data_Y[i] > 3 else -1\n",
    "        \n",
    "    X_train, Y_train, X_valid, Y_valid = \\\n",
    "        preprocess_one_hot_encoding(labeled_data_X, labeled_data_Y)\n",
    "    print('After one-hot-encoding: the training set has ', X_train.shape)\n",
    "    print('Validation set has ', X_valid.shape)\n",
    "    fm = fm_model(X_train, Y_train, X_valid, Y_valid, task=task, num_factors=num_factors)\n",
    "    fm.train(num_epochs=300, learning_rate=0.01, regularization=0.1)\n",
    "    \n",
    "    # Plot validation loss\n",
    "    plt.rcParams['figure.figsize'] = 8, 6\n",
    "    plt.rcParams['font.size'] = 12\n",
    "    plt.plot(fm.training_history_, label='training')    \n",
    "    plt.plot(fm.validation_history_, label='validation')\n",
    "    plt.xlabel('Epoch')\n",
    "    plt.ylabel('Mean Log Loss' if task == 'classification' else 'Mean Squared Error')\n",
    "    plt.legend()\n",
    "    plt.show()\n",
    "\n",
    "## Loads the Criteo dataset either for classfication and trains factorization machine.\n",
    "def test_criteo_data(num_factors=3):\n",
    "        \n",
    "    # Load the training data and check features.\n",
    "    labeled_data = numpy.genfromtxt('criteo_train.csv', dtype=float, delimiter=',', names=True) \n",
    "    print(len(labeled_data), ' training points found with the features: ')\n",
    "    print(labeled_data.dtype)\n",
    "    print('A total of ', len(labeled_data.dtype), ' features.')\n",
    "    \n",
    "    # These are the features we will use for classification so subselect fields.\n",
    "    features_to_use = ['click', 'C1', 'device_type', 'C15', 'C16']\n",
    "    labeled_data = labeled_data[features_to_use]\n",
    "    print(len(labeled_data), ' training points found with the features: ')\n",
    "    print(labeled_data.dtype)\n",
    "    print('A total of ', len(labeled_data.dtype), ' features before one-hot-encoding.')\n",
    "\n",
    "    # Convert the labeled data into unstructured array.\n",
    "    labeled_data = rfn.structured_to_unstructured(labeled_data)\n",
    "    numpy.random.shuffle(labeled_data)\n",
    "    labeled_data_X = labeled_data[:, 1:]\n",
    "    labeled_data_Y = labeled_data[:, 0]\n",
    "\n",
    "    # Since the Y's in the Criteo data is {0, 1}, need to convert to use {-1, 1}.\n",
    "    for i in range(labeled_data_Y.shape[0]):\n",
    "        labeled_data_Y[i] = 1 if labeled_data_Y[i] > 0 else -1\n",
    "\n",
    "    X_train, Y_train, X_valid, Y_valid = \\\n",
    "        preprocess_one_hot_encoding(labeled_data_X, labeled_data_Y)\n",
    "    print('After one-hot-encoding: the training set has ', X_train.shape)\n",
    "    print('Validation set has ', X_valid.shape)\n",
    "    fm = fm_model(X_train, Y_train, X_valid, Y_valid, task='classification', num_factors=num_factors)\n",
    "    fm.train(num_epochs=300, learning_rate=0.01, regularization=0.1)\n",
    "\n",
    "    # Plot validation loss\n",
    "    plt.rcParams['figure.figsize'] = 8, 6\n",
    "    plt.rcParams['font.size'] = 12\n",
    "    plt.plot(fm.training_history_, label='training')\n",
    "    plt.plot(fm.validation_history_, label='validation')\n",
    "    plt.xlabel('Epoch')\n",
    "    plt.ylabel('Mean Log Loss')\n",
    "    plt.legend()\n",
    "    plt.show()\n",
    "    \n",
    "## Generate random test cases to test your multiply routine. No need to modify.\n",
    "def sanity_test_sparse_data():\n",
    "    numpy.random.seed(3000)\n",
    "    for trial in range(20):\n",
    "        \n",
    "        # Test the compute_dot_products\n",
    "        print('Test #', trial)\n",
    "        print('-------------')\n",
    "        print('\\n\\nTesting the compute_dot_products')\n",
    "        test_V_matrix = numpy.random.randint(low=-3, high=5, size=(6, 4))\n",
    "        test_sq_V_matrix = test_V_matrix.copy()\n",
    "        test_sq_V_matrix = numpy.power(test_sq_V_matrix, 2)\n",
    "        \n",
    "        point_id = numpy.random.randint(low=0,high=3)\n",
    "        test_matrix = scipy.sparse.csr_matrix(\n",
    "            [[0, numpy.random.randint(1, high=10), 0, 0], \n",
    "             [0, 0, numpy.random.randint(1, high=10), 0], \n",
    "             [numpy.random.randint(1, high=10), 0, 0, numpy.random.randint(1, high=10)]])\n",
    "        test_matrix_sq = test_matrix.copy()\n",
    "        test_matrix_sq = test_matrix_sq.power(2)\n",
    "        naive_dot_products = numpy.ravel(test_matrix[point_id].dot( test_V_matrix.T ))\n",
    "        naive_squared_dot_products = numpy.ravel(test_matrix_sq[point_id].dot( test_sq_V_matrix.T ))\n",
    "        \n",
    "        # Fast method results.\n",
    "        fast_dot_products, fast_squared_dot_products = compute_dot_products(\n",
    "           test_V_matrix, test_matrix.data, test_matrix.indptr, test_matrix.indices, point_id)\n",
    "\n",
    "        print('V matrix: ',)\n",
    "        print(test_V_matrix)\n",
    "        print('X matrix: ',)\n",
    "        print(test_matrix)\n",
    "        print('point_id from X matrix: ', point_id)\n",
    "        print('Naive dot products: ', naive_dot_products)\n",
    "        print('Naive squared dot products: ', naive_squared_dot_products)\n",
    "        print('Fast dot products: ', fast_dot_products)\n",
    "        print('Fast squared dot products: ', fast_squared_dot_products)\n",
    "        assert(numpy.array_equal(naive_dot_products, fast_dot_products) and \\\n",
    "               numpy.array_equal(naive_squared_dot_products, fast_squared_dot_products))\n",
    "        \n",
    "        # Test compute_dot_between_dense_and_sparse(w, X_data, X_indptr, X_indices, point_id)\n",
    "        print('\\n\\nTesting the compute_dot_between_dense_and_sparse')\n",
    "        w = numpy.random.randint(low=-10, high=2, size=(4,))\n",
    "        naive_dot_product = test_matrix.getrow(point_id).dot(w)[0]\n",
    "        print('The weight vector: ', w)\n",
    "        print('Naive dot product: ', naive_dot_product)\n",
    "        fast_dot_product = compute_dot_between_dense_and_sparse(\n",
    "            w, test_matrix.data, test_matrix.indptr, test_matrix.indices, point_id)\n",
    "        print('Fast dot product: ', fast_dot_product)\n",
    "        assert(naive_dot_product == fast_dot_product)\n",
    "    \n",
    "    print('\\n\\nAll tests passed...')\n",
    "    \n",
    "def test_prediction():\n",
    "    X = scipy.sparse.csr_matrix(\n",
    "        [[6, 1],\n",
    "        [2, 3],\n",
    "        [3, 0],\n",
    "        [6, 1],\n",
    "        [4, 5]])\n",
    "    y = numpy.array([298, 266, 29, 298, 848])\n",
    "    V = numpy.array([[6, 0 ],\n",
    "                     [5, 8 ]])\n",
    "    w = numpy.array([9, 2])\n",
    "    bias = numpy.array([2])\n",
    "    for point_id in range(X.shape[0]):\n",
    "        fm_prediction = predict_instance(X.data, X.indptr, X.indices, bias, w, V, V.shape[0], point_id)[0]\n",
    "        print(fm_prediction, y[point_id])\n",
    "        assert(fm_prediction == y[point_id])\n",
    "    print('Prediction function passes the test...')"
   ]
  },
  {
   "cell_type": "markdown",
   "metadata": {},
   "source": [
    "# Factorization Machine\n",
    "Factorization Machine (FM) type algorithms (*Rendle, Steffen. \"Factorization machines.\" 2010 IEEE International Conference on Data Mining. IEEE, 2010.*) combines the best of both worlds in linear regression and matrix factorization. It can model interactions between features using factorized parameters. FM models work considerably better on extremely sparse data compared to kernel methods and neural network.\n",
    "\n",
    "Recall that in linear regression, we have the following model for input data in\n",
    "$\\mathbb{R}^d$:\n",
    "$$\\hat{f}(\\mathbf{x}) = w_0 + \\mathbf{w}^T \\mathbf{x}$$\n",
    "where $w_0$ is the bias term and $\\mathbf{w} \\in \\mathbb{R}^d$ is the weight vector. This can be computed in $O(d)$ time but it is unable to handle features interactions.\n",
    "\n",
    "One way to cpature feature interaction is to utilize basis expansion. The resulting model is shown below:\n",
    "$$\\hat{f}(\\mathbf{x}) = w_0 + \\mathbf{w}^T \\mathbf{x} + \n",
    "\\sum\\limits_{j=1}^d \\sum\\limits_{j'=j + 1}^d w_j w_{j'} x_j x_{j'}\n",
    "$$\n",
    "This model now has $O(d^2)$ complexity for prediction. In addition, after one-hot-encoding of sparse data, we have many columns with zero and have the same problem of not having enough data.\n",
    "\n",
    "FM uses a latent factor $\\mathbf{v}_j \\in \\mathbb{R}^k$ (where $k$ is hyperparameter we can tune) for each feature for \n",
    "$1\\leq j \\leq d$ and the interaction between the feature $j$ and \n",
    "the feature $j'$ is modeled between the dot product $\\mathbf{v}_j^T \n",
    "\\mathbf{v}_{j'}$. The resulting model is the following:\n",
    "$$\\hat{f}(\\mathbf{x}) = w_0 + \\mathbf{w}^T \\mathbf{x} + \n",
    "\\sum\\limits_{j=1}^d \\sum\\limits_{j'=j + 1}^d \n",
    "\\mathbf{v}_j^T \n",
    "\\mathbf{v}_{j'}\n",
    " x_j x_{j'}\n",
    "$$\n",
    "Naively evaluating the expression above results in $O(k d^2)$. However, we can rewrite the expression above into a form that is more efficient to evaluate:\n",
    "$$\\hat{f}(\\mathbf{x}) = w_0 + \\mathbf{w}^T \\mathbf{x} + \n",
    "\\frac{1}{2}\n",
    "\\sum\\limits_{f = 1}^k\n",
    "\\left ( \n",
    "    \\left( v_f^T \\mathbf{x} \\right )^2 - \n",
    "\\sum\\limits_{j=1}^d v_{f, j}^2 x_j^2\n",
    "    \\right )\n",
    "$$\n",
    "This new expression can be evaluated in $O(kd)$ time (more efficient!)\n",
    "Collectively note that we have the following parameters in FM models:\n",
    "the bias term $w_0 \\in \\mathbb{R}$, \n",
    "the weight term $\\mathbf{w} \\in \\mathbb{R}^d$,\n",
    "and the factor matrix $\\mathbf{V} = \\begin{bmatrix}\n",
    "\\leftarrow & \\mathbf{v}_1^T & \\rightarrow  \\\\\n",
    " & \\vdots & \\\\\n",
    " \\leftarrow & \\mathbf{v}_k^T & \\rightarrow  \\\\\n",
    "\\end{bmatrix} \\in \\mathbb{R}^{k \\times d}$\n",
    "\n",
    "Now we need to discuss the loss functions which are used to optimize\n",
    "the parameters $\\mathbf{\\Theta} = \\{w_0, \\mathbf{w}, \n",
    "\\mathbf{V} \\}$. We can discuss the two loss functions, each for regression and classification. First, the\n",
    "optimization problem:\n",
    "$$\n",
    "\\underset{w_0, \\mathbf{w} \\in \\mathbb{R}^d,\n",
    "\\mathbf{V} \\in \\mathbb{R}^{k \\times d}}{\\operatorname{argmin}}\n",
    "\\underbrace{\n",
    "\\frac{1}{N} \\sum\\limits_{i = 1}^N\n",
    "\\ell( y^{(i)}, \\hat{f}(\\mathbf{x}^{(i)}) )}_{training\\ error} +\n",
    "\\underbrace{\\frac{\\lambda}{2} \\left (\n",
    "\\mathbf{w}^T \\mathbf{w} + || \\mathbf{V} ||_F^2\n",
    "\\right )}_{regularization}\n",
    "$$\n",
    "and then the loss functions:\n",
    "\\begin{align*}\n",
    "\\ell_{sq}( y, \\hat{f}(\\mathbf{x}) )  &= \n",
    "( y - \\hat{f}(\\mathbf{x}) )^2\n",
    "\\\\\n",
    "\\ell_{logistic}( y, \\hat{f}(\\mathbf{x} ) ) &= \n",
    "\\ln (1 + \\exp( - y\\cdot \\hat{f}(\\mathbf{x})))\n",
    "\\\\\n",
    "\\end{align*}\n",
    "We will learn the parameters by stochastic gradient descent. This requires us to derive for each parameter\n",
    "$\\theta \\in \\Theta$, the expression for $\\frac{\\partial \n",
    "\\ell( y, \\hat{f}(\\mathbf{x}) )\n",
    "}{\\partial \\theta}$.\n",
    "Note that by the application of chain rule, for each $\\theta \\in \\mathbf{\\Theta}$:\n",
    "$$\\frac{\\partial \n",
    "\\ell( y, \\hat{f}(\\mathbf{x}) )\n",
    "}{\\partial \\theta} = \n",
    "\\frac{\\partial \n",
    "\\ell( y, \\hat{f}(\\mathbf{x}) )\n",
    "}{\\partial \\hat{f}(\\mathbf{x})} \n",
    "\\frac{\\partial \\hat{f}(\\mathbf{x})\n",
    "}{ \\partial \\theta}\n",
    "$$"
   ]
  },
  {
   "cell_type": "markdown",
   "metadata": {},
   "source": [
    "# Task 1: Implementing the Loss Functions and Their Partial Derivatives (12 points)\n",
    "First, we need to derive the partial derivatives of the loss function with respect to $\\hat{f}(\\mathbf{x})$.\n",
    "\n",
    "What is:\n",
    "$$\\frac{\\partial \n",
    "\\ell_{sq}( y, \\hat{f}(\\mathbf{x}) )\n",
    "}{\\partial \\hat{f}(\\mathbf{x})} = 2\\hat{f}(\\mathbf{x})-2y$$\n",
    "\n",
    "What is:\n",
    "$$\\frac{\\partial \n",
    "\\ell_{logistic}( y, \\hat{f}(\\mathbf{x}) )\n",
    "}{\\partial \\hat{f}(\\mathbf{x})} = \\frac{-y\\cdot \\exp(-y \\cdot\\hat{f}(\\mathbf{x}))}{1+\\exp(-y\\cdot \\hat{f}(\\mathbf{x}))}$$\n",
    "\n",
    "Given your derivations, now we are ready to implement the classes corresponding to the regression classification. Implement the following functions below (see TODO tags):\n",
    "\n",
    "1. **squared_loss** which takes the $y$ and the $\\hat{f}(\\mathbf{x})$ and outputs the squared loss.\n",
    "2. **partial_derivative_squared_loss** which takes the $y$ and the $\\hat{f}(\\mathbf{x})$ and outputs the partial derivative of the squared loss with respect to the model output.\n",
    "3. **log_loss** which takes the $y$ and the $\\hat{f}(\\mathbf{x})$ and outputs the log loss.\n",
    "4. **partial_derivative_log_loss** which takes the $y$ and the $\\hat{f}(\\mathbf{x})$ and outputs the partial derivative of the log loss with respect to the model output."
   ]
  },
  {
   "cell_type": "code",
   "execution_count": 284,
   "metadata": {},
   "outputs": [],
   "source": [
    "## TODO\n",
    "#@njit\n",
    "def squared_loss(y_label, prediction):\n",
    "    \n",
    "    return numpy.square(y_label-prediction)   \n",
    "\n",
    "## TODO\n",
    "#@njit\n",
    "def partial_derivative_squared_loss(y_label, prediction):\n",
    "    return 2*prediction-2*y_label\n",
    "       \n",
    "#@njit\n",
    "def sigmoid_function(sigmoid_arg):\n",
    "    return 1.0 / (1.0 + numpy.exp(- sigmoid_arg))\n",
    "\n",
    "## TODO\n",
    "#@njit\n",
    "def log_loss(y_label, prediction):\n",
    "    return numpy.log(1+numpy.exp(-y_label*prediction))    \n",
    "\n",
    "## TODO\n",
    "#@njit\n",
    "def partial_derivative_log_loss(y_label, prediction):\n",
    "    return -y_label * numpy.exp(-y_label*prediction) / (1.0 + numpy.exp(-y_label*prediction))"
   ]
  },
  {
   "cell_type": "markdown",
   "metadata": {},
   "source": [
    "# Exercise with Sparse Data\n",
    "In this exercise, you will learn the internals of **scipy.sparse.csr_matrix** which can optimize numpy-based code.\n",
    "Unfortunately, the documentation on sparse matrices is not so great: https://docs.scipy.org/doc/scipy/reference/generated/scipy.sparse.csr_matrix.html In addition, some of these functions such as getting a row involve copying intermediate data and turn out to be very slow, if we are accessing a subset of the matrix at a time.\n",
    "\n",
    "This is why we need to go a bit deeper into how Python implements this data structure. Here is a useful picture:"
   ]
  },
  {
   "cell_type": "code",
   "execution_count": 285,
   "metadata": {},
   "outputs": [
    {
     "data": {
      "image/png": "[encoded data removed]",
      "text/plain": [
       "<IPython.core.display.Image object>"
      ]
     },
     "execution_count": 285,
     "metadata": {},
     "output_type": "execute_result"
    }
   ],
   "source": [
    "Image(filename = \"./sparse_data_internals.png\")"
   ]
  },
  {
   "cell_type": "markdown",
   "metadata": {},
   "source": [
    "# Task 2: Learning the Sparse Data Manipulation (12 points)\n",
    "In the picture above, each row is a point, as our data is laid out in row-wise. Essentially, all the data is laid out in sequentially in memory to optimize performance (e.g. locality). **indptr** gives the beginning index in this sequential layer for each point (row). For example, **indptr[3] = 4** and **indptr[4] = 7** gives you the starting and the ending index for the *point 3*. In addition, **0**'s are never stored in **scipy.sparse.csr_matrix** (unless computation modifies a previously non-zero entry), and **indices** gives the feature numbers corresponding to the non-zero entries.\n",
    "\n",
    "In order to write efficient code using scipy.sparse.csr_matrix, you should use **indptr**, **data**, and **indices** variables to access the data. For example, to access the *row 3* of the picture above, one will write a for-loop like the following:\n",
    "\n",
    "```python\n",
    "def operate_on_scipy_sparse_matrix(X_data, X_indptr, X_indices):\n",
    "    for row in range(X.shape[0]):\n",
    "        for index in range(X.indptr[row], X.indptr[row]):\n",
    "            feature_num = X.indices[ index ]\n",
    "            print('Feature #', feature_num, ' has value ', X.data[index])\n",
    "\n",
    "# Some data matrix here.\n",
    "X = scipy.sparse.csr_matrix(...)\n",
    "operate_on_scipy_sparse_matrix(X.data, X.indptr, X.indices)\n",
    "```\n",
    "\n",
    "In factorization machine, the prediction requires evaluating the following:\n",
    "$$\\hat{f}(\\mathbf{x}) = w_0 + \\mathbf{w}^T \\mathbf{x} + \n",
    "\\frac{1}{2}\n",
    "\\sum\\limits_{f = 1}^k\n",
    "\\left ( \n",
    "    \\left( \\underbrace{v_f^T \\mathbf{x}}_{\\mbox{first dot product}} \\right )^2 - \n",
    "\\underbrace{\\sum\\limits_{j=1}^d v_{f, j}^2 x_j^2}_{\\mbox{second dot product}}\n",
    "    \\right )\n",
    "$$\n",
    "\n",
    "Recall the factor matrix (in 2-D **numpy.array**)\n",
    "$$\\mathbf{V} = \\begin{bmatrix}\n",
    "\\leftarrow & \\mathbf{v}_1^T & \\rightarrow  \\\\\n",
    " & \\vdots & \\\\\n",
    " \\leftarrow & \\mathbf{v}_k^T & \\rightarrow  \\\\\n",
    "\\end{bmatrix} \\in \\mathbb{R}^{k \\times d}$$\n",
    "and the data matrix (in **scipy.sparse.csr_matrix**) $$\\mathbf{X} = \\begin{bmatrix}\n",
    "\\leftarrow & \\mathbf{x}_1^T & \\rightarrow  \\\\\n",
    " & \\vdots & \\\\\n",
    " \\leftarrow & \\mathbf{x}_k^T & \\rightarrow  \\\\\n",
    "\\end{bmatrix} \\in \\mathbb{R}^{N \\times d}$$\n",
    "\n",
    "**Question (6 points) **: Recall that $\\mathbf{x} \\in \\mathbb{R}^d$ is extremely sparse. If you are in doubt, you may want to recall that one-hot-encoding for a fairly low-dimensional Criteo data used in the previous assignment produced more features. You can imagine what this could do for categorical data with features taking multiple values.\n",
    "\n",
    "Suppose a single input $\\mathbf{x}$ has $N_z(\\mathbf{x})$ non-zero entries. What is the complexity of evaluating $$\\hat{f}(\\mathbf{x}) = w_0 + \\mathbf{w}^T \\mathbf{x} + \n",
    "\\frac{1}{2}\n",
    "\\sum\\limits_{f = 1}^k\n",
    "\\left ( \n",
    "    \\left( \\underbrace{v_f^T \\mathbf{x}}_{\\mbox{first dot product}} \\right )^2 - \n",
    "\\underbrace{\\sum\\limits_{j=1}^d v_{f, j}^2 x_j^2}_{\\mbox{second dot product}}\n",
    "    \\right )$$\n",
    "Please provide your answer to this question in the following Python function returning a string. Your answer should be in big O notation, e.g. $O(...)$ where the inside expression is possibly in terms of $d$, $k$, \n",
    "$N_z(\\mathbf{x})$, $N$."
   ]
  },
  {
   "cell_type": "code",
   "execution_count": 286,
   "metadata": {},
   "outputs": [],
   "source": [
    "def prediction_complexity():\n",
    "    return 'O(kNz(x))'"
   ]
  },
  {
   "cell_type": "markdown",
   "metadata": {},
   "source": [
    "**Task (3 points)**:\n",
    "After you answer the previous question, you may be enlightened why sparse data makes evaluation much faster. Armed with this knowledge, let us move onto the implementation part.\n",
    "First, let us tackle the computation of $\\mathbf{w}^T \\mathbf{x}$. Keep in mind that $\\mathbf{w}$ is usually a dense vector whereas our feature vector $\\mathbf{x} \\in \\mathbb{R}^d$ is extremely sparse. The key idea is to leverage the sparsity in $\\mathbb{x}$ to speed up the evaluation. Please write a function that computes this dot product (see the TODO tag below for the function **compute_dot_between_dense_and_sparse**)\n",
    "\n",
    "**Task (3 points)**:\n",
    "After you complete the first function, let us tackle the computing the cross terms in factorization machine. Using the logic above, write a small function to evaluate the product between a **scipy.sparse.csr_matrix** and a 1-dimensional **numpy.array**. **compute_dot_products** function computes the two quantities.\n",
    "1. The product between $V$ and the row *point_id* or $\\mathbf{X}$ ( $\\in \\mathbb{R}^d$); you need $k$ of the **first dot product** for $1 \\leq f \\leq k$.\n",
    "2. The product between $V \\odot V$ and $X[point\\_id] \\odot X[point\\_id]$ ($\\in \\mathbb{R}^d$) where $\\odot$ denotes the Hadamard product (https://en.wikipedia.org/wiki/Hadamard_product_(matrices)); you need $k$ of the **second dot product** for $1 \\leq f \\leq k$."
   ]
  },
  {
   "cell_type": "code",
   "execution_count": 300,
   "metadata": {},
   "outputs": [
    {
     "name": "stdout",
     "output_type": "stream",
     "text": [
      "Test # 0\n",
      "-------------\n",
      "\n",
      "\n",
      "Testing the compute_dot_products\n",
      "V matrix: \n",
      "[[ 1  0 -3 -2]\n",
      " [ 3  2 -1  1]\n",
      " [-2  3  2 -1]\n",
      " [ 3  3 -3 -2]\n",
      " [-1 -2  4  2]\n",
      " [-3  3 -1  0]]\n",
      "X matrix: \n",
      "  (0, 1)\t9\n",
      "  (1, 2)\t3\n",
      "  (2, 0)\t3\n",
      "  (2, 3)\t1\n",
      "point_id from X matrix:  2\n",
      "Naive dot products:  [ 1 10 -7  7 -1 -9]\n",
      "Naive squared dot products:  [13 82 37 85 13 81]\n",
      "Fast dot products:  [ 1. 10. -7.  7. -1. -9.]\n",
      "Fast squared dot products:  [13. 82. 37. 85. 13. 81.]\n",
      "\n",
      "\n",
      "Testing the compute_dot_between_dense_and_sparse\n",
      "The weight vector:  [-7 -9 -6 -3]\n",
      "Naive dot product:  -24\n",
      "Fast dot product:  -24\n",
      "Test # 1\n",
      "-------------\n",
      "\n",
      "\n",
      "Testing the compute_dot_products\n",
      "V matrix: \n",
      "[[-1  0  2  2]\n",
      " [ 2  4  3 -2]\n",
      " [ 1  3  3  1]\n",
      " [-3  0 -2 -2]\n",
      " [-1  0 -3 -3]\n",
      " [ 4  1  2 -1]]\n",
      "X matrix: \n",
      "  (0, 1)\t1\n",
      "  (1, 2)\t3\n",
      "  (2, 0)\t1\n",
      "  (2, 3)\t8\n",
      "point_id from X matrix:  1\n",
      "Naive dot products:  [ 6  9  9 -6 -9  6]\n",
      "Naive squared dot products:  [36 81 81 36 81 36]\n",
      "Fast dot products:  [ 6.  9.  9. -6. -9.  6.]\n",
      "Fast squared dot products:  [36. 81. 81. 36. 81. 36.]\n",
      "\n",
      "\n",
      "Testing the compute_dot_between_dense_and_sparse\n",
      "The weight vector:  [ -6  -9 -10  -5]\n",
      "Naive dot product:  -30\n",
      "Fast dot product:  -30\n",
      "Test # 2\n",
      "-------------\n",
      "\n",
      "\n",
      "Testing the compute_dot_products\n",
      "V matrix: \n",
      "[[ 2  0  4 -2]\n",
      " [ 0  2  2 -1]\n",
      " [ 0 -2 -2  1]\n",
      " [-3  4 -2  2]\n",
      " [ 2  4 -1 -3]\n",
      " [ 0  2  4  4]]\n",
      "X matrix: \n",
      "  (0, 1)\t6\n",
      "  (1, 2)\t5\n",
      "  (2, 0)\t5\n",
      "  (2, 3)\t5\n",
      "point_id from X matrix:  2\n",
      "Naive dot products:  [ 0 -5  5 -5 -5 20]\n",
      "Naive squared dot products:  [200  25  25 325 325 400]\n",
      "Fast dot products:  [ 0. -5.  5. -5. -5. 20.]\n",
      "Fast squared dot products:  [200.  25.  25. 325. 325. 400.]\n",
      "\n",
      "\n",
      "Testing the compute_dot_between_dense_and_sparse\n",
      "The weight vector:  [-4  1 -9  0]\n",
      "Naive dot product:  -20\n",
      "Fast dot product:  -20\n",
      "Test # 3\n",
      "-------------\n",
      "\n",
      "\n",
      "Testing the compute_dot_products\n",
      "V matrix: \n",
      "[[ 3 -1 -3  4]\n",
      " [-1  2 -3 -2]\n",
      " [ 4  1  3 -2]\n",
      " [ 2 -3  4  2]\n",
      " [-2  1  4  3]\n",
      " [ 3 -1 -1 -3]]\n",
      "X matrix: \n",
      "  (0, 1)\t9\n",
      "  (1, 2)\t1\n",
      "  (2, 0)\t3\n",
      "  (2, 3)\t1\n",
      "point_id from X matrix:  2\n",
      "Naive dot products:  [13 -5 10  8 -3  6]\n",
      "Naive squared dot products:  [ 97  13 148  40  45  90]\n",
      "Fast dot products:  [13. -5. 10.  8. -3.  6.]\n",
      "Fast squared dot products:  [ 97.  13. 148.  40.  45.  90.]\n",
      "\n",
      "\n",
      "Testing the compute_dot_between_dense_and_sparse\n",
      "The weight vector:  [ 0 -8 -6 -7]\n",
      "Naive dot product:  -7\n",
      "Fast dot product:  -7\n",
      "Test # 4\n",
      "-------------\n",
      "\n",
      "\n",
      "Testing the compute_dot_products\n",
      "V matrix: \n",
      "[[ 4 -1  1 -3]\n",
      " [-1  0  2  0]\n",
      " [ 1  3 -2  0]\n",
      " [ 0  4 -3  2]\n",
      " [ 3  4  0 -2]\n",
      " [-3 -2  2  2]]\n",
      "X matrix: \n",
      "  (0, 1)\t7\n",
      "  (1, 2)\t6\n",
      "  (2, 0)\t3\n",
      "  (2, 3)\t7\n",
      "point_id from X matrix:  0\n",
      "Naive dot products:  [ -7   0  21  28  28 -14]\n",
      "Naive squared dot products:  [ 49   0 441 784 784 196]\n",
      "Fast dot products:  [ -7.   0.  21.  28.  28. -14.]\n",
      "Fast squared dot products:  [ 49.   0. 441. 784. 784. 196.]\n",
      "\n",
      "\n",
      "Testing the compute_dot_between_dense_and_sparse\n",
      "The weight vector:  [-10  -1 -10  -3]\n",
      "Naive dot product:  -7\n",
      "Fast dot product:  -7\n",
      "Test # 5\n",
      "-------------\n",
      "\n",
      "\n",
      "Testing the compute_dot_products\n",
      "V matrix: \n",
      "[[-1 -1  2  3]\n",
      " [ 1  3  0 -3]\n",
      " [-1 -2 -2  4]\n",
      " [-1  4  1  3]\n",
      " [-3  4  1  4]\n",
      " [ 3  0 -1 -1]]\n",
      "X matrix: \n",
      "  (0, 1)\t4\n",
      "  (1, 2)\t3\n",
      "  (2, 0)\t2\n",
      "  (2, 3)\t4\n",
      "point_id from X matrix:  1\n",
      "Naive dot products:  [ 6  0 -6  3  3 -3]\n",
      "Naive squared dot products:  [36  0 36  9  9  9]\n",
      "Fast dot products:  [ 6.  0. -6.  3.  3. -3.]\n",
      "Fast squared dot products:  [36.  0. 36.  9.  9.  9.]\n",
      "\n",
      "\n",
      "Testing the compute_dot_between_dense_and_sparse\n",
      "The weight vector:  [-10  -2  -9  -5]\n",
      "Naive dot product:  -27\n",
      "Fast dot product:  -27\n",
      "Test # 6\n",
      "-------------\n",
      "\n",
      "\n",
      "Testing the compute_dot_products\n",
      "V matrix: \n",
      "[[ 2  0  1 -1]\n",
      " [ 3 -3  1 -3]\n",
      " [ 1 -2 -2  3]\n",
      " [ 2  3 -2 -3]\n",
      " [ 3  4 -2 -3]\n",
      " [-3  0 -2 -2]]\n",
      "X matrix: \n",
      "  (0, 1)\t6\n",
      "  (1, 2)\t2\n",
      "  (2, 0)\t2\n",
      "  (2, 3)\t1\n",
      "point_id from X matrix:  2\n",
      "Naive dot products:  [ 3  3  5  1  3 -8]\n",
      "Naive squared dot products:  [17 45 13 25 45 40]\n",
      "Fast dot products:  [ 3.  3.  5.  1.  3. -8.]\n",
      "Fast squared dot products:  [17. 45. 13. 25. 45. 40.]\n",
      "\n",
      "\n",
      "Testing the compute_dot_between_dense_and_sparse\n",
      "The weight vector:  [-5 -1 -8 -8]\n",
      "Naive dot product:  -18\n",
      "Fast dot product:  -18\n",
      "Test # 7\n",
      "-------------\n",
      "\n",
      "\n",
      "Testing the compute_dot_products\n",
      "V matrix: \n",
      "[[ 1  4  1 -3]\n",
      " [-2  4  0  4]\n",
      " [ 1 -2  1  1]\n",
      " [ 1  0 -2 -3]\n",
      " [ 1  1 -1  1]\n",
      " [-2 -1 -1 -2]]\n",
      "X matrix: \n",
      "  (0, 1)\t1\n",
      "  (1, 2)\t5\n",
      "  (2, 0)\t7\n",
      "  (2, 3)\t2\n",
      "point_id from X matrix:  1\n",
      "Naive dot products:  [  5   0   5 -10  -5  -5]\n",
      "Naive squared dot products:  [ 25   0  25 100  25  25]\n",
      "Fast dot products:  [  5.   0.   5. -10.  -5.  -5.]\n",
      "Fast squared dot products:  [ 25.   0.  25. 100.  25.  25.]\n",
      "\n",
      "\n",
      "Testing the compute_dot_between_dense_and_sparse\n",
      "The weight vector:  [-1  0 -1 -1]\n",
      "Naive dot product:  -5\n",
      "Fast dot product:  -5\n",
      "Test # 8\n",
      "-------------\n",
      "\n",
      "\n",
      "Testing the compute_dot_products\n",
      "V matrix: \n",
      "[[ 1 -3  0  1]\n",
      " [-3 -2 -1  2]\n",
      " [ 4  3  0  4]\n",
      " [-1  4  3 -2]\n",
      " [-3  3  1  2]\n",
      " [ 4  4  1 -3]]\n",
      "X matrix: \n",
      "  (0, 1)\t2\n",
      "  (1, 2)\t3\n",
      "  (2, 0)\t9\n",
      "  (2, 3)\t9\n",
      "point_id from X matrix:  2\n",
      "Naive dot products:  [ 18  -9  72 -27  -9   9]\n",
      "Naive squared dot products:  [ 162 1053 2592  405 1053 2025]\n",
      "Fast dot products:  [ 18.  -9.  72. -27.  -9.   9.]\n",
      "Fast squared dot products:  [ 162. 1053. 2592.  405. 1053. 2025.]\n",
      "\n",
      "\n",
      "Testing the compute_dot_between_dense_and_sparse\n",
      "The weight vector:  [-3 -9 -6 -8]\n",
      "Naive dot product:  -99\n",
      "Fast dot product:  -99\n",
      "Test # 9\n",
      "-------------\n",
      "\n",
      "\n",
      "Testing the compute_dot_products\n",
      "V matrix: \n",
      "[[ 0  1  4 -2]\n",
      " [ 1  1 -1  1]\n",
      " [ 4  2  0  2]\n",
      " [ 4 -3  4  1]\n",
      " [ 3  3 -1  3]\n",
      " [ 0  2  4  3]]\n",
      "X matrix: \n",
      "  (0, 1)\t2\n",
      "  (1, 2)\t6\n",
      "  (2, 0)\t8\n",
      "  (2, 3)\t8\n",
      "point_id from X matrix:  2\n",
      "Naive dot products:  [-16  16  48  40  48  24]\n",
      "Naive squared dot products:  [ 256  128 1280 1088 1152  576]\n",
      "Fast dot products:  [-16.  16.  48.  40.  48.  24.]\n",
      "Fast squared dot products:  [ 256.  128. 1280. 1088. 1152.  576.]\n",
      "\n",
      "\n",
      "Testing the compute_dot_between_dense_and_sparse\n",
      "The weight vector:  [-1 -8  0 -4]\n",
      "Naive dot product:  -40\n",
      "Fast dot product:  -40\n",
      "Test # 10\n",
      "-------------\n",
      "\n",
      "\n",
      "Testing the compute_dot_products\n",
      "V matrix: \n",
      "[[-1 -1 -2 -1]\n",
      " [ 1  3  0  0]\n",
      " [-3  1 -2  4]\n",
      " [ 1 -2  4  2]\n",
      " [ 0  3 -3 -2]\n",
      " [ 0  2  2  1]]\n",
      "X matrix: \n",
      "  (0, 1)\t2\n",
      "  (1, 2)\t5\n",
      "  (2, 0)\t3\n",
      "  (2, 3)\t4\n",
      "point_id from X matrix:  0\n",
      "Naive dot products:  [-2  6  2 -4  6  4]\n",
      "Naive squared dot products:  [ 4 36  4 16 36 16]\n",
      "Fast dot products:  [-2.  6.  2. -4.  6.  4.]\n",
      "Fast squared dot products:  [ 4. 36.  4. 16. 36. 16.]\n",
      "\n",
      "\n",
      "Testing the compute_dot_between_dense_and_sparse\n",
      "The weight vector:  [ -3 -10  -8 -10]\n",
      "Naive dot product:  -20\n",
      "Fast dot product:  -20\n",
      "Test # 11\n",
      "-------------\n",
      "\n",
      "\n",
      "Testing the compute_dot_products\n",
      "V matrix: \n",
      "[[-3 -1  2 -1]\n",
      " [-2 -1  2 -1]\n",
      " [-2  4  0 -1]\n",
      " [-1  1 -3  4]\n",
      " [ 2  4 -3  4]\n",
      " [ 1 -2  3 -1]]\n",
      "X matrix: \n",
      "  (0, 1)\t6\n",
      "  (1, 2)\t3\n",
      "  (2, 0)\t5\n",
      "  (2, 3)\t4\n",
      "point_id from X matrix:  0\n",
      "Naive dot products:  [ -6  -6  24   6  24 -12]\n",
      "Naive squared dot products:  [ 36  36 576  36 576 144]\n",
      "Fast dot products:  [ -6.  -6.  24.   6.  24. -12.]\n",
      "Fast squared dot products:  [ 36.  36. 576.  36. 576. 144.]\n",
      "\n",
      "\n",
      "Testing the compute_dot_between_dense_and_sparse\n",
      "The weight vector:  [-1 -8 -8 -7]\n",
      "Naive dot product:  -48\n",
      "Fast dot product:  -48\n",
      "Test # 12\n",
      "-------------\n",
      "\n",
      "\n",
      "Testing the compute_dot_products\n",
      "V matrix: \n",
      "[[ 4 -1 -3 -1]\n",
      " [ 0  1  4 -3]\n",
      " [-3  3 -3 -3]\n",
      " [ 1  2  1  2]\n",
      " [-1 -3 -2  2]\n",
      " [ 3 -2 -1  3]]\n",
      "X matrix: \n",
      "  (0, 1)\t5\n",
      "  (1, 2)\t9\n",
      "  (2, 0)\t4\n",
      "  (2, 3)\t1\n",
      "point_id from X matrix:  0\n",
      "Naive dot products:  [ -5   5  15  10 -15 -10]\n",
      "Naive squared dot products:  [ 25  25 225 100 225 100]\n",
      "Fast dot products:  [ -5.   5.  15.  10. -15. -10.]\n",
      "Fast squared dot products:  [ 25.  25. 225. 100. 225. 100.]\n",
      "\n",
      "\n",
      "Testing the compute_dot_between_dense_and_sparse\n",
      "The weight vector:  [ 1 -9  0 -6]\n",
      "Naive dot product:  -45\n",
      "Fast dot product:  -45\n",
      "Test # 13\n",
      "-------------\n",
      "\n",
      "\n",
      "Testing the compute_dot_products\n",
      "V matrix: \n",
      "[[ 1 -1  3  4]\n",
      " [ 1 -3 -2  2]\n",
      " [ 1  3  1 -1]\n",
      " [-1  4  0 -2]\n",
      " [-1 -1  0 -3]\n",
      " [ 0 -1 -3  3]]\n",
      "X matrix: \n",
      "  (0, 1)\t8\n",
      "  (1, 2)\t9\n",
      "  (2, 0)\t9\n",
      "  (2, 3)\t7\n",
      "point_id from X matrix:  2\n",
      "Naive dot products:  [ 37  23   2 -23 -30  21]\n",
      "Naive squared dot products:  [865 277 130 277 522 441]\n",
      "Fast dot products:  [ 37.  23.   2. -23. -30.  21.]\n",
      "Fast squared dot products:  [865. 277. 130. 277. 522. 441.]\n",
      "\n",
      "\n",
      "Testing the compute_dot_between_dense_and_sparse\n",
      "The weight vector:  [ -3 -10  -7  -1]\n",
      "Naive dot product:  -34\n",
      "Fast dot product:  -34\n",
      "Test # 14\n",
      "-------------\n",
      "\n",
      "\n",
      "Testing the compute_dot_products\n",
      "V matrix: \n",
      "[[-2  0  1  0]\n",
      " [ 2  2  1 -2]\n",
      " [ 3 -3  4 -3]\n",
      " [ 0 -2 -2  0]\n",
      " [ 1  4  4 -3]\n",
      " [-3 -3  3 -2]]\n",
      "X matrix: \n",
      "  (0, 1)\t9\n",
      "  (1, 2)\t2\n",
      "  (2, 0)\t8\n",
      "  (2, 3)\t6\n",
      "point_id from X matrix:  0\n",
      "Naive dot products:  [  0  18 -27 -18  36 -27]\n",
      "Naive squared dot products:  [   0  324  729  324 1296  729]\n",
      "Fast dot products:  [  0.  18. -27. -18.  36. -27.]\n",
      "Fast squared dot products:  [   0.  324.  729.  324. 1296.  729.]\n",
      "\n",
      "\n",
      "Testing the compute_dot_between_dense_and_sparse\n",
      "The weight vector:  [-9 -2 -2 -3]\n",
      "Naive dot product:  -18\n",
      "Fast dot product:  -18\n",
      "Test # 15\n",
      "-------------\n",
      "\n",
      "\n",
      "Testing the compute_dot_products\n",
      "V matrix: \n",
      "[[-2  1  2  3]\n",
      " [-3 -1 -2 -2]\n",
      " [ 4  2  4  4]\n",
      " [ 1 -3  3 -3]\n",
      " [-2  3  3  0]\n",
      " [-2  4 -1  1]]\n",
      "X matrix: \n",
      "  (0, 1)\t4\n",
      "  (1, 2)\t1\n",
      "  (2, 0)\t5\n",
      "  (2, 3)\t7\n",
      "point_id from X matrix:  0\n",
      "Naive dot products:  [  4  -4   8 -12  12  16]\n",
      "Naive squared dot products:  [ 16  16  64 144 144 256]\n",
      "Fast dot products:  [  4.  -4.   8. -12.  12.  16.]\n",
      "Fast squared dot products:  [ 16.  16.  64. 144. 144. 256.]\n",
      "\n",
      "\n",
      "Testing the compute_dot_between_dense_and_sparse\n",
      "The weight vector:  [-8  1 -5 -2]\n",
      "Naive dot product:  4\n",
      "Fast dot product:  4\n",
      "Test # 16\n",
      "-------------\n",
      "\n",
      "\n",
      "Testing the compute_dot_products\n",
      "V matrix: \n",
      "[[ 0  2  3  0]\n",
      " [ 3  4  2  4]\n",
      " [-3 -2  4 -2]\n",
      " [-3  4  3  0]\n",
      " [ 3  0  0 -1]\n",
      " [ 3  3  1 -2]]\n",
      "X matrix: \n",
      "  (0, 1)\t8\n",
      "  (1, 2)\t2\n",
      "  (2, 0)\t3\n",
      "  (2, 3)\t7\n",
      "point_id from X matrix:  0\n",
      "Naive dot products:  [ 16  32 -16  32   0  24]\n",
      "Naive squared dot products:  [ 256 1024  256 1024    0  576]\n",
      "Fast dot products:  [ 16.  32. -16.  32.   0.  24.]\n",
      "Fast squared dot products:  [ 256. 1024.  256. 1024.    0.  576.]\n",
      "\n",
      "\n",
      "Testing the compute_dot_between_dense_and_sparse\n",
      "The weight vector:  [-3  0  0 -6]\n",
      "Naive dot product:  0\n",
      "Fast dot product:  0\n",
      "Test # 17\n",
      "-------------\n",
      "\n",
      "\n",
      "Testing the compute_dot_products\n",
      "V matrix: \n",
      "[[ 3 -1  2  0]\n",
      " [ 2  1  0  0]\n",
      " [ 0  4  2 -1]\n",
      " [-1  1  0  2]\n",
      " [ 0  4  3  3]\n",
      " [-3  1 -2 -2]]\n",
      "X matrix: \n",
      "  (0, 1)\t4\n",
      "  (1, 2)\t7\n",
      "  (2, 0)\t7\n",
      "  (2, 3)\t1\n",
      "point_id from X matrix:  2\n",
      "Naive dot products:  [ 21  14  -1  -5   3 -23]\n",
      "Naive squared dot products:  [441 196   1  53   9 445]\n",
      "Fast dot products:  [ 21.  14.  -1.  -5.   3. -23.]\n",
      "Fast squared dot products:  [441. 196.   1.  53.   9. 445.]\n",
      "\n",
      "\n",
      "Testing the compute_dot_between_dense_and_sparse\n",
      "The weight vector:  [-9 -8 -2 -9]\n",
      "Naive dot product:  -72\n",
      "Fast dot product:  -72\n",
      "Test # 18\n",
      "-------------\n",
      "\n",
      "\n",
      "Testing the compute_dot_products\n",
      "V matrix: \n",
      "[[ 4 -3  3  2]\n",
      " [ 4  4  3  2]\n",
      " [ 1  0  3  1]\n",
      " [-2  3  0  2]\n",
      " [ 4  0  3 -2]\n",
      " [ 4  4  4  1]]\n",
      "X matrix: \n",
      "  (0, 1)\t6\n",
      "  (1, 2)\t1\n",
      "  (2, 0)\t7\n",
      "  (2, 3)\t8\n",
      "point_id from X matrix:  1\n",
      "Naive dot products:  [3 3 3 0 3 4]\n",
      "Naive squared dot products:  [ 9  9  9  0  9 16]\n",
      "Fast dot products:  [3. 3. 3. 0. 3. 4.]\n",
      "Fast squared dot products:  [ 9.  9.  9.  0.  9. 16.]\n",
      "\n",
      "\n",
      "Testing the compute_dot_between_dense_and_sparse\n",
      "The weight vector:  [-4  1 -2 -6]\n",
      "Naive dot product:  -2\n",
      "Fast dot product:  -2\n",
      "Test # 19\n",
      "-------------\n",
      "\n",
      "\n",
      "Testing the compute_dot_products\n",
      "V matrix: \n",
      "[[-2 -3  2  2]\n",
      " [-3 -3 -3  0]\n",
      " [ 2  4  2  2]\n",
      " [ 1  0  3 -2]\n",
      " [ 1 -1  3  0]\n",
      " [ 2  3 -2  3]]\n",
      "X matrix: \n",
      "  (0, 1)\t1\n",
      "  (1, 2)\t6\n",
      "  (2, 0)\t1\n",
      "  (2, 3)\t9\n",
      "point_id from X matrix:  1\n",
      "Naive dot products:  [ 12 -18  12  18  18 -12]\n",
      "Naive squared dot products:  [144 324 144 324 324 144]\n",
      "Fast dot products:  [ 12. -18.  12.  18.  18. -12.]\n",
      "Fast squared dot products:  [144. 324. 144. 324. 324. 144.]\n",
      "\n",
      "\n",
      "Testing the compute_dot_between_dense_and_sparse\n",
      "The weight vector:  [ 1 -3 -4  1]\n",
      "Naive dot product:  -24\n",
      "Fast dot product:  -24\n",
      "\n",
      "\n",
      "All tests passed...\n"
     ]
    }
   ],
   "source": [
    "## TODO: computes the dot product between a 1-D numpy.array and a given row in another scipy.sparse.csr_matrix.\n",
    "#\n",
    "#  w: the weight vector (1-D numpy.array in $\\mathbb{R}^d$)\n",
    "#  X_data: the scipy.sparse.csr_matrix holding the row oriented data ($N \\times d$). This is the raw data pointer.\n",
    "#  X_indptr: the beginning index of each of the row in $X$ scipy.sparse.csr_matrix.\n",
    "#  X_indices: the corresponding feature numbers.\n",
    "#  point_id: the row number from $X$ to access.\n",
    "#\n",
    "#  Returns the $\\mathbf{w}^T X[point_id]$\n",
    "\n",
    "def compute_dot_between_dense_and_sparse(w, X_data, X_indptr, X_indices, point_id):\n",
    "    sum = 0\n",
    "    #print(X_data)\n",
    "    #print(w)\n",
    "    #print(X_indptr)\n",
    "    \n",
    "    for index in range(X_indptr[point_id], X_indptr[point_id + 1]):\n",
    "        #print (index)\n",
    "        feature_num = X_indices[ index ]\n",
    "        sum += X_data[index]*w.T[feature_num] \n",
    "            \n",
    "    return sum\n",
    "\n",
    "## TODO: computes the products between a 2-D numpy.array and a given row in another scipy.sparse.csr_matrix.\n",
    "#\n",
    "#  V: the 2-D numpy.array ($k \\times d$).\n",
    "#  X_data: the scipy.sparse.csr_matrix holding the row oriented data ($N \\times d$). This is the raw data pointer.\n",
    "#  X_indptr: the beginning index of each of the row in $X$ scipy.sparse.csr_matrix.\n",
    "#  X_indices: the corresponding feature numbers.\n",
    "#  point_id: the row number from $X$ to access.\n",
    "#\n",
    "#  Returns the products $V ( X[point_id] )^T  \\in \\mathbb{R}^k$ and $(V \\odot V) (X[point_id] \\odot\n",
    "#  X[point_id]) \\in \\mathbb{R}^k$\n",
    "\n",
    "def compute_dot_products(V, X_data, X_indptr, X_indices, point_id):\n",
    "    dot_products = numpy.zeros((V.shape[0],))\n",
    "    squared_dot_products = numpy.zeros((V.shape[0],))\n",
    "    #print(V)\n",
    "    #for row in range(X.shape[0]):\n",
    "    for index in range(X_indptr[point_id], X_indptr[point_id+1]):\n",
    "        feature_num = X_indices[ index ]\n",
    "        #for column in range(V.shape[1]):\n",
    "        dot_products += X_data[index]*V.T[feature_num]\n",
    "        squared_dot_products += numpy.square(X_data[index])*numpy.square(V.T[feature_num])\n",
    "        \n",
    "    return dot_products, squared_dot_products\n",
    "\n",
    "# Call sanity test. At the end, it should print \"All tests passed...\"\n",
    "sanity_test_sparse_data()"
   ]
  },
  {
   "cell_type": "markdown",
   "metadata": {},
   "source": [
    "# Task 3: Implementing the Prediction Function (2 points)\n",
    "If you are able to pass the previous checkpoint, then you are ready to implement the following function which outputs $$\\hat{f}(\\mathbf{x}) = w_0 + \\mathbf{w}^T \\mathbf{x} + \n",
    "\\frac{1}{2}\n",
    "\\sum\\limits_{f = 1}^k\n",
    "\\left ( \n",
    "    \\left( v_f^T \\mathbf{x} \\right )^2 - \n",
    "\\sum\\limits_{j=1}^d v_{f, j}^2 x_j^2\n",
    "    \\right )\n",
    "$$\n",
    "You may find the functions implemented in the previous part useful. See the TODO tag below."
   ]
  },
  {
   "cell_type": "code",
   "execution_count": 288,
   "metadata": {},
   "outputs": [
    {
     "name": "stdout",
     "output_type": "stream",
     "text": [
      "[6 1 2 3 3 6 1 4 5]\n",
      "[9 2]\n",
      "[0 2 4 5 7 9]\n",
      "0\n",
      "1\n",
      "298.0 298\n",
      "[6 1 2 3 3 6 1 4 5]\n",
      "[9 2]\n",
      "[0 2 4 5 7 9]\n",
      "2\n",
      "3\n",
      "266.0 266\n",
      "[6 1 2 3 3 6 1 4 5]\n",
      "[9 2]\n",
      "[0 2 4 5 7 9]\n",
      "4\n",
      "29.0 29\n",
      "[6 1 2 3 3 6 1 4 5]\n",
      "[9 2]\n",
      "[0 2 4 5 7 9]\n",
      "5\n",
      "6\n",
      "298.0 298\n",
      "[6 1 2 3 3 6 1 4 5]\n",
      "[9 2]\n",
      "[0 2 4 5 7 9]\n",
      "7\n",
      "8\n",
      "848.0 848\n",
      "Prediction function passes the test...\n"
     ]
    }
   ],
   "source": [
    "## TODO: For $\\mathbf{x}$ which is the row point_id of the sparse data whose representation is\n",
    "#        given by (data, indptr, indices) variable set, return the $\\hat{f}(\\mathbf{x})$ and the \n",
    "#        feature factor dot product $v_f^T \\mathbf{x}$ for $1 \\leq f \\leq k$.\n",
    "#\n",
    "#  X_data: the scipy.sparse.csr_matrix holding the row oriented data ($N \\times d$). This is the raw data pointer.\n",
    "#  X_indptr: the beginning index of each of the row in $X$ scipy.sparse.csr_matrix.\n",
    "#  X_indices: the corresponding feature numbers.\n",
    "#  w0: the bias (1-D numpy.array, this variable can be modified) \\in \\mathbb{R}\n",
    "#  w: the weight vector (1-D numpy.array, this variable can be modified) \\in \\mathbb{R}^d\n",
    "#  V: the factor matrix (2-D numpy.array, this variable can be modified) \\in \\mathbb{R}^{k \\times d}\n",
    "#  n_factors: this is the $k$ in our formulation, e.g. number of factors.\n",
    "#  point_id: the row number from $X$ to access.\n",
    "#\n",
    "#  Returns the $\\hat{f}(\\mathbf{x})$ and the dot products between each of the factors and the $\\mathbf{x}$.\n",
    "\n",
    "def predict_instance(X_data, X_indptr, X_indices, w0, w, V, n_factors, point_id):\n",
    "    #print(\"n_factor\",n_factors)\n",
    "    #print(\"V.shape is\",V.shape)\n",
    "    #print(\"X shape\", X_data.shape)\n",
    "    #print(X_data)\n",
    "    # Initialize the prediction to the bias first.\n",
    "    pred = w0[0]\n",
    "    #print(\"first\", pred)\n",
    "    # Add the linear term. Some code here...\n",
    "    pred += compute_dot_between_dense_and_sparse(w.T, X_data, X_indptr, X_indices, point_id)\n",
    "    #dot_products, squared_dot_products = compute_dot_products(V, X_data, X_indptr, X_indices, point_id)\n",
    "    #pred += 1/2*numpy.sum(numpy.square(dot_products))\n",
    "    #print(\"second\", pred)\n",
    "    # Add the cross terms. Some code here...\n",
    "    #dot_products, squared_dot_products = compute_dot_products(V, X_data, X_indptr, X_indices, point_id)\n",
    "    for row in range(n_factors): #k\n",
    "        #dot_product = compute_dot_between_dense_and_sparse(V[row].T, X_data, X_indptr, X_indices, point_id)\n",
    "        #pred += 1/2*numpy.square(dot_product)\n",
    "        #print(\"dot prod\", dot_product)\n",
    "        #for col in range(V.shape[1]): #d\n",
    "            #squared_dot_products = compute_dot_products(V, X_data, X_indptr, X_indices, point_id)[1]\n",
    "        #print(\"row\", V[row])\n",
    "        #print(\"V\", V)\n",
    "        dot_products, squared_dot_products = compute_dot_products(V, X_data, X_indptr, X_indices, point_id)\n",
    "        #print(\"sqred\", squared_dot_products,)\n",
    "        pred += 1/2*numpy.sum(numpy.square(dot_products)[row])\n",
    "        pred -= 1/2*numpy.sum(squared_dot_products[row])\n",
    "            #print(\"X_indices[col]\", X_indices[col])\n",
    "            #print(\"col\", col)\n",
    "            #pred -= 0.5*squared_dot_products\n",
    "    #print(\"squared d\", squared_dot_products)\n",
    "    #print(\"dot\", dot_products)\n",
    "    #print(\"sqe\", numpy.square(dot_products))\n",
    "    # Returns the $\\hat{f}(\\mathbf{x})$ and the dot products between each of the factors and the $\\mathbf{x}$.\n",
    "    # You should replace the second argument of this return statement...\n",
    "    #print(dot_products)\n",
    "    \n",
    "    \n",
    "    #print(\"third\", pred)\n",
    "    return pred, dot_products\n",
    "\n",
    "# This function should print out \"Prediction function passes the test...\"\n",
    "test_prediction()"
   ]
  },
  {
   "cell_type": "markdown",
   "metadata": {},
   "source": [
    "# Task 4: Implementing the Stochastic Gradient Descent (2 points)\n",
    "\n",
    "Once you are here, now you are ready to implement the stochastic gradient descent algorithm for FMs. Please implement the inner loop that iterates over all the data points in Algorithm 1 in the factorization machines paper (without the **repeat**/**until** which iterates over the epochs)."
   ]
  },
  {
   "cell_type": "code",
   "execution_count": 295,
   "metadata": {},
   "outputs": [],
   "source": [
    "## TODO: Performs one pass over the training data in the order specified by training_data_indices numpy.array.\n",
    "#        Applies a SGD update using only one point using the algorithm above.\n",
    "#\n",
    "#  training_data_indices: the numpy.array (1-D) containing the order in which the training data X, Y should\n",
    "#                         be examined.\n",
    "#  X_data: the scipy.sparse.csr_matrix holding the row oriented data ($N \\times d$). This is the raw data pointer.\n",
    "#  X_indptr: the beginning index of each of the row in $X$ scipy.sparse.csr_matrix.\n",
    "#  X_indices: the corresponding feature numbers.\n",
    "#  y: numpy.array (1-D) containing the labels.\n",
    "#  w0: the bias (1-D numpy.array, this variable can be modified) \\in \\mathbb{R}\n",
    "#  w: the weight vector (1-D numpy.array, this variable can be modified) \\in \\mathbb{R}^d\n",
    "#  V: the factor matrix (2-D numpy.array, this variable can be modified) \\in \\mathbb{R}^{k \\times d}\n",
    "#  n_factors: this is the $k$ in our formulation, e.g. number of factors.\n",
    "#  learning rate: $\\eta$ for learning rate.\n",
    "#  regularization: $\\lambda$ regularizer.\n",
    "#  loss function: the function that takes $y$ and $\\hat{f}(\\mathbf{x})$ and outputs the loss.\n",
    "#  partial_derivative_loss_function: the function that takes $y$ and $\\hat{f}(\\mathbf{x})$ and outputs\n",
    "#                                    the partial derivative with respect to the output $\\hat{f}(\\mathbf{x})$.\n",
    "\n",
    "def sgd_update(\n",
    "    training_data_indices, X_data, X_indptr, X_indices, y, \n",
    "    w0, w, V, n_factors, learning_rate, regularization, loss_function, partial_derivative_loss_function):\n",
    "    #print(\"typs is\", type(V))\n",
    "    total_loss = 0\n",
    "    for point_id in training_data_indices:\n",
    "        \n",
    "        # Predict on the instance and get the dot products with the factors.\n",
    "        pred, dot_products = predict_instance(X_data, X_indptr, X_indices, w0, w, V, n_factors, point_id)\n",
    "           \n",
    "        # calculate loss gradient. Some code here...\n",
    "        total_loss += loss_function(y[point_id], pred)\n",
    "        loss_gradient = partial_derivative_loss_function(y[point_id],pred)\n",
    "        # update bias/intercept term. Some code here...\n",
    "        w0[0] = w0[0] - learning_rate*loss_gradient \n",
    "        \n",
    "        # update weight. Some code here...\n",
    "        for index in range(X_indptr[point_id], X_indptr[point_id + 1]):\n",
    "            feature_num = X_indices[index]\n",
    "            w[feature_num] -= learning_rate * (loss_gradient * X_data[index] +  regularization * w[feature_num])\n",
    "        \n",
    "\n",
    "        # update factor. Some code here...\n",
    "        for factor in range(n_factors):\n",
    "            for index in range(X_indptr[point_id], X_indptr[point_id + 1]):\n",
    "                feature_num = X_indices[index]\n",
    "                V_derivative = loss_gradient*(dot_products[factor] - V[factor,feature_num]*X_data[index])*X_data[index]\n",
    "                V[factor, feature_num] -= learning_rate * (V_derivative + regularization*V[factor, feature_num])\n",
    "        \n",
    "    total_loss /= len(training_data_indices)\n",
    "        \n",
    "    # The following is just to make sure the code compiles.\n",
    "    return total_loss"
   ]
  },
  {
   "cell_type": "markdown",
   "metadata": {},
   "source": [
    "# Task 5: Finishing Touches (2 points)\n",
    "Please complete the remaining module in the **fm_model** class below. See the TODO tags."
   ]
  },
  {
   "cell_type": "code",
   "execution_count": 301,
   "metadata": {},
   "outputs": [],
   "source": [
    "class fm_model:\n",
    "\n",
    "    ## TODO: Initializes the various parameters (training, validation sets) as well as\n",
    "    #  the model parameters defining a FM model.\n",
    "    #\n",
    "    #  X_train: training data in scipy.sparse.csr_matrix\n",
    "    #  Y_train: training label in numpy.array\n",
    "    #  X_validation: validation data in scipy.sparse.csr_matrix\n",
    "    #  Y_validation: validation label in numpy.array\n",
    "    #  num_factors: $k$ latent factors.\n",
    "    #  random_state: the random number seed.\n",
    "    #  task: whether the FM model is classification or regression.\n",
    "    def __init__(\n",
    "        self, X_train, Y_train, X_validation, Y_validation, \n",
    "        num_factors = 12, random_state = 1000, task='classification'):\n",
    "\n",
    "        # Set train/validation sets, number of factors $k$ and random seed.\n",
    "        self.X_train_ = X_train\n",
    "        self.Y_train_ = Y_train\n",
    "        self.X_validation_ = X_validation\n",
    "        self.Y_validation_ = Y_validation\n",
    "        self.num_factors_ = num_factors\n",
    "        self.random_state_ = random_state\n",
    "        \n",
    "        # Initialize the model parameter.\n",
    "        self.intercept_ = numpy.zeros((1,))\n",
    "        self.coef_ = numpy.zeros(self.X_train_.shape[1])\n",
    "        \n",
    "        # TODO: Complete me. Initialize each of the factor matrix entries with a mean of 0 and\n",
    "        # a standard deviation of 1 / sqrt(number of latent factor). Replace the right hand side\n",
    "        # with the appropriate numpy.array.\n",
    "        self.feature_factors_ = numpy.random.normal(loc = 0, scale = 1/numpy.sqrt(num_factors), size = (num_factors, X_train.shape[1]))\n",
    "        \n",
    "        if task == 'classification':\n",
    "            print('Task is classification...')\n",
    "            self.loss_function_ = log_loss\n",
    "            self.partial_derivative_loss_function_ = partial_derivative_log_loss\n",
    "            self.batch_predict_function_ = self.batch_logistic\n",
    "            self.avg_loss_function_ = self.avg_log_loss\n",
    "        else:\n",
    "            print('Task is regression...')\n",
    "            self.loss_function_ = squared_loss\n",
    "            self.partial_derivative_loss_function_ = partial_derivative_squared_loss\n",
    "            self.batch_predict_function_ = self.batch_regress\n",
    "            self.avg_loss_function_ = self.avg_sq_loss\n",
    "    \n",
    "    ## Trains the FM model.\n",
    "    #\n",
    "    #  num_epochs: the number of epochs to run.\n",
    "    #  learning_rate: $\\eta$\n",
    "    #  rgularization: $\\lambda$ regularizer.\n",
    "    def train(self, num_epochs=10, learning_rate=0.1, regularization=0.1):\n",
    "        n_samples, n_features = self.X_train_.shape        \n",
    "        numpy.random.seed(self.random_state_)        \n",
    "        self.validation_history_ = []\n",
    "        self.training_history_ = []\n",
    "        \n",
    "        training_data_indices = numpy.arange( n_samples )\n",
    "        for epoch in trange(num_epochs):\n",
    "                        \n",
    "            # Shuffle the indices and perform one pass over the training set.\n",
    "            numpy.random.shuffle(training_data_indices)\n",
    "            loss = sgd_update(\n",
    "                training_data_indices, \n",
    "                self.X_train_.data, self.X_train_.indptr, self.X_train_.indices, self.Y_train_, \n",
    "                self.intercept_, self.coef_, self.feature_factors_, self.num_factors_,\n",
    "                learning_rate, regularization, \n",
    "                self.loss_function_, self.partial_derivative_loss_function_)\n",
    "            \n",
    "            # Compute the validation loss.\n",
    "            self.validation_history_.append(self.avg_loss_function_(self.X_validation_, self.Y_validation_))\n",
    "                     \n",
    "            # Compute the training loss.        \n",
    "            self.training_history_.append(self.avg_loss_function_(self.X_train_, self.Y_train_))\n",
    "\n",
    "    ## Computes batch logistic on a given input set using the FM model.\n",
    "    def batch_logistic(self, X):\n",
    "        pred = self.batch_regress(X)\n",
    "        return 1.0 / (1.0 + numpy.exp(-pred))\n",
    "\n",
    "    ## Computes the average log loss on the given $(X, Y)$ data pairs.\n",
    "    def avg_log_loss(self, X, Y):\n",
    "        batch_pred = self.batch_logistic(X)\n",
    "        return numpy.mean([log_loss(y, y_hat) for y_hat, y in zip(batch_pred, Y)] )\n",
    "        \n",
    "    ## Computes the batch regression on a given input set using the FM model.\n",
    "    def batch_regress(self, X):\n",
    "        return numpy.array(\n",
    "            [  predict_instance(\n",
    "                X.data, X.indptr, X.indices, self.intercept_, self.coef_, \n",
    "                self.feature_factors_, self.feature_factors_.shape[0], point_id)[0] \\\n",
    "             for point_id in range(X.shape[0])] )\n",
    "    \n",
    "    ## Computes the average squared loss on the given $(X, Y)$ data pairs.\n",
    "    def avg_sq_loss(self, X, Y):\n",
    "        batch_pred = self.batch_regress(X)\n",
    "        return numpy.mean([squared_loss(y, y_hat) for y_hat, y in zip(batch_pred, Y)] )"
   ]
  },
  {
   "cell_type": "markdown",
   "metadata": {},
   "source": [
    "# Testing Your Code\n",
    "You are now ready to run your code on the Criteo dataset and the MovieLens dataset. For each of these test cases, you may wish to tune the number of factors $k$ and find out what works the best. For classification test cases, see how this compares to the results in the previous assignment using logistic regression. For this part, no writeup is required and doing additional analysis is up to you.\n",
    "\n",
    "Keep in mind that SGD methods converge quickly in the few first ierations. Usually, these methods are stopped early and the ending iterates are used as a warm start for another optimization. You may want to try this technique to improve your model."
   ]
  },
  {
   "cell_type": "code",
   "execution_count": null,
   "metadata": {
    "scrolled": false
   },
   "outputs": [
    {
     "name": "stderr",
     "output_type": "stream",
     "text": [
      "\n",
      "\n",
      "\n",
      "\n",
      "\n",
      "\n",
      "\n",
      "\n",
      "\n",
      "\n",
      "\n",
      "  0%|          | 0/300 [00:00<?, ?it/s]\u001b[A\u001b[A\u001b[A\u001b[A\u001b[A\u001b[A\u001b[A\u001b[A\u001b[A\u001b[A\u001b[A"
     ]
    },
    {
     "name": "stdout",
     "output_type": "stream",
     "text": [
      "90570  training points found with the features: \n",
      "[('userid', '<i8'), ('movieid', '<i8'), ('rating', '<i8'), ('timestamp', 'S20')]\n",
      "A total of  4  features.\n",
      "90570  training points found with the features: \n",
      "{'names':['userid','movieid','rating'], 'formats':['<i8','<i8','<i8'], 'offsets':[0,8,16], 'itemsize':44}\n",
      "A total of  3  features.\n",
      "Divided into the training set of size  72456\n",
      "and the validation set of size  18114\n",
      "After one-hot-encoding: the training set has  (72456, 2623)\n",
      "Validation set has  (18114, 2623)\n",
      "Task is regression...\n",
      "typs is <class 'numpy.ndarray'>\n"
     ]
    },
    {
     "name": "stderr",
     "output_type": "stream",
     "text": [
      "\n",
      "\n",
      "\n",
      "\n",
      "\n",
      "\n",
      "\n",
      "\n",
      "\n",
      "\n",
      "\n",
      "  0%|          | 1/300 [00:29<2:25:39, 29.23s/it]\u001b[A\u001b[A\u001b[A\u001b[A\u001b[A\u001b[A\u001b[A\u001b[A\u001b[A\u001b[A\u001b[A"
     ]
    },
    {
     "name": "stdout",
     "output_type": "stream",
     "text": [
      "typs is <class 'numpy.ndarray'>\n"
     ]
    },
    {
     "name": "stderr",
     "output_type": "stream",
     "text": [
      "\n",
      "\n",
      "\n",
      "\n",
      "\n",
      "\n",
      "\n",
      "\n",
      "\n",
      "\n",
      "\n",
      "  1%|          | 2/300 [01:00<2:28:52, 29.98s/it]\u001b[A\u001b[A\u001b[A\u001b[A\u001b[A\u001b[A\u001b[A\u001b[A\u001b[A\u001b[A\u001b[A"
     ]
    },
    {
     "name": "stdout",
     "output_type": "stream",
     "text": [
      "typs is <class 'numpy.ndarray'>\n"
     ]
    },
    {
     "name": "stderr",
     "output_type": "stream",
     "text": [
      "\n",
      "\n",
      "\n",
      "\n",
      "\n",
      "\n",
      "\n",
      "\n",
      "\n",
      "\n",
      "\n",
      "  1%|          | 3/300 [01:31<2:28:58, 30.09s/it]\u001b[A\u001b[A\u001b[A\u001b[A\u001b[A\u001b[A\u001b[A\u001b[A\u001b[A\u001b[A\u001b[A"
     ]
    },
    {
     "name": "stdout",
     "output_type": "stream",
     "text": [
      "typs is <class 'numpy.ndarray'>\n"
     ]
    },
    {
     "name": "stderr",
     "output_type": "stream",
     "text": [
      "\n",
      "\n",
      "\n",
      "\n",
      "\n",
      "\n",
      "\n",
      "\n",
      "\n",
      "\n",
      "\n",
      "  1%|▏         | 4/300 [02:04<2:33:39, 31.15s/it]\u001b[A\u001b[A\u001b[A\u001b[A\u001b[A\u001b[A\u001b[A\u001b[A\u001b[A\u001b[A\u001b[A"
     ]
    },
    {
     "name": "stdout",
     "output_type": "stream",
     "text": [
      "typs is <class 'numpy.ndarray'>\n"
     ]
    },
    {
     "name": "stderr",
     "output_type": "stream",
     "text": [
      "\n",
      "\n",
      "\n",
      "\n",
      "\n",
      "\n",
      "\n",
      "\n",
      "\n",
      "\n",
      "\n",
      "  2%|▏         | 5/300 [02:37<2:34:36, 31.45s/it]\u001b[A\u001b[A\u001b[A\u001b[A\u001b[A\u001b[A\u001b[A\u001b[A\u001b[A\u001b[A\u001b[A"
     ]
    },
    {
     "name": "stdout",
     "output_type": "stream",
     "text": [
      "typs is <class 'numpy.ndarray'>\n"
     ]
    },
    {
     "name": "stderr",
     "output_type": "stream",
     "text": [
      "\n",
      "\n",
      "\n",
      "\n",
      "\n",
      "\n",
      "\n",
      "\n",
      "\n",
      "\n",
      "\n",
      "  2%|▏         | 6/300 [03:08<2:33:39, 31.36s/it]\u001b[A\u001b[A\u001b[A\u001b[A\u001b[A\u001b[A\u001b[A\u001b[A\u001b[A\u001b[A\u001b[A"
     ]
    },
    {
     "name": "stdout",
     "output_type": "stream",
     "text": [
      "typs is <class 'numpy.ndarray'>\n"
     ]
    },
    {
     "name": "stderr",
     "output_type": "stream",
     "text": [
      "\n",
      "\n",
      "\n",
      "\n",
      "\n",
      "\n",
      "\n",
      "\n",
      "\n",
      "\n",
      "\n",
      "  2%|▏         | 7/300 [03:39<2:33:13, 31.38s/it]\u001b[A\u001b[A\u001b[A\u001b[A\u001b[A\u001b[A\u001b[A\u001b[A\u001b[A\u001b[A\u001b[A"
     ]
    },
    {
     "name": "stdout",
     "output_type": "stream",
     "text": [
      "typs is <class 'numpy.ndarray'>\n"
     ]
    },
    {
     "name": "stderr",
     "output_type": "stream",
     "text": [
      "\n",
      "\n",
      "\n",
      "\n",
      "\n",
      "\n",
      "\n",
      "\n",
      "\n",
      "\n",
      "\n",
      "  3%|▎         | 8/300 [04:10<2:31:44, 31.18s/it]\u001b[A\u001b[A\u001b[A\u001b[A\u001b[A\u001b[A\u001b[A\u001b[A\u001b[A\u001b[A\u001b[A"
     ]
    },
    {
     "name": "stdout",
     "output_type": "stream",
     "text": [
      "typs is <class 'numpy.ndarray'>\n"
     ]
    },
    {
     "name": "stderr",
     "output_type": "stream",
     "text": [
      "\n",
      "\n",
      "\n",
      "\n",
      "\n",
      "\n",
      "\n",
      "\n",
      "\n",
      "\n",
      "\n",
      "  3%|▎         | 9/300 [04:41<2:30:48, 31.09s/it]\u001b[A\u001b[A\u001b[A\u001b[A\u001b[A\u001b[A\u001b[A\u001b[A\u001b[A\u001b[A\u001b[A"
     ]
    },
    {
     "name": "stdout",
     "output_type": "stream",
     "text": [
      "typs is <class 'numpy.ndarray'>\n"
     ]
    },
    {
     "name": "stderr",
     "output_type": "stream",
     "text": [
      "\n",
      "\n",
      "\n",
      "\n",
      "\n",
      "\n",
      "\n",
      "\n",
      "\n",
      "\n",
      "\n",
      "  3%|▎         | 10/300 [05:14<2:33:59, 31.86s/it]\u001b[A\u001b[A\u001b[A\u001b[A\u001b[A\u001b[A\u001b[A\u001b[A\u001b[A\u001b[A\u001b[A"
     ]
    },
    {
     "name": "stdout",
     "output_type": "stream",
     "text": [
      "typs is <class 'numpy.ndarray'>\n"
     ]
    },
    {
     "name": "stderr",
     "output_type": "stream",
     "text": [
      "\n",
      "\n",
      "\n",
      "\n",
      "\n",
      "\n",
      "\n",
      "\n",
      "\n",
      "\n",
      "\n",
      "  4%|▎         | 11/300 [05:47<2:33:56, 31.96s/it]\u001b[A\u001b[A\u001b[A\u001b[A\u001b[A\u001b[A\u001b[A\u001b[A\u001b[A\u001b[A\u001b[A"
     ]
    },
    {
     "name": "stdout",
     "output_type": "stream",
     "text": [
      "typs is <class 'numpy.ndarray'>\n"
     ]
    },
    {
     "name": "stderr",
     "output_type": "stream",
     "text": [
      "\n",
      "\n",
      "\n",
      "\n",
      "\n",
      "\n",
      "\n",
      "\n",
      "\n",
      "\n",
      "\n",
      "  4%|▍         | 12/300 [06:21<2:36:26, 32.59s/it]\u001b[A\u001b[A\u001b[A\u001b[A\u001b[A\u001b[A\u001b[A\u001b[A\u001b[A\u001b[A\u001b[A"
     ]
    },
    {
     "name": "stdout",
     "output_type": "stream",
     "text": [
      "typs is <class 'numpy.ndarray'>\n"
     ]
    },
    {
     "name": "stderr",
     "output_type": "stream",
     "text": [
      "\n",
      "\n",
      "\n",
      "\n",
      "\n",
      "\n",
      "\n",
      "\n",
      "\n",
      "\n",
      "\n",
      "  4%|▍         | 13/300 [06:53<2:36:12, 32.66s/it]\u001b[A\u001b[A\u001b[A\u001b[A\u001b[A\u001b[A\u001b[A\u001b[A\u001b[A\u001b[A\u001b[A"
     ]
    },
    {
     "name": "stdout",
     "output_type": "stream",
     "text": [
      "typs is <class 'numpy.ndarray'>\n"
     ]
    },
    {
     "name": "stderr",
     "output_type": "stream",
     "text": [
      "\n",
      "\n",
      "\n",
      "\n",
      "\n",
      "\n",
      "\n",
      "\n",
      "\n",
      "\n",
      "\n",
      "  5%|▍         | 14/300 [07:28<2:37:38, 33.07s/it]\u001b[A\u001b[A\u001b[A\u001b[A\u001b[A\u001b[A\u001b[A\u001b[A\u001b[A\u001b[A\u001b[A"
     ]
    },
    {
     "name": "stdout",
     "output_type": "stream",
     "text": [
      "typs is <class 'numpy.ndarray'>\n"
     ]
    },
    {
     "name": "stderr",
     "output_type": "stream",
     "text": [
      "\n",
      "\n",
      "\n",
      "\n",
      "\n",
      "\n",
      "\n",
      "\n",
      "\n",
      "\n",
      "\n",
      "  5%|▌         | 15/300 [08:01<2:37:07, 33.08s/it]\u001b[A\u001b[A\u001b[A\u001b[A\u001b[A\u001b[A\u001b[A\u001b[A\u001b[A\u001b[A\u001b[A"
     ]
    },
    {
     "name": "stdout",
     "output_type": "stream",
     "text": [
      "typs is <class 'numpy.ndarray'>\n"
     ]
    },
    {
     "name": "stderr",
     "output_type": "stream",
     "text": [
      "\n",
      "\n",
      "\n",
      "\n",
      "\n",
      "\n",
      "\n",
      "\n",
      "\n",
      "\n",
      "\n",
      "  5%|▌         | 16/300 [08:35<2:38:48, 33.55s/it]\u001b[A\u001b[A\u001b[A\u001b[A\u001b[A\u001b[A\u001b[A\u001b[A\u001b[A\u001b[A\u001b[A"
     ]
    },
    {
     "name": "stdout",
     "output_type": "stream",
     "text": [
      "typs is <class 'numpy.ndarray'>\n"
     ]
    },
    {
     "name": "stderr",
     "output_type": "stream",
     "text": [
      "\n",
      "\n",
      "\n",
      "\n",
      "\n",
      "\n",
      "\n",
      "\n",
      "\n",
      "\n",
      "\n",
      "  6%|▌         | 17/300 [09:07<2:35:26, 32.96s/it]\u001b[A\u001b[A\u001b[A\u001b[A\u001b[A\u001b[A\u001b[A\u001b[A\u001b[A\u001b[A\u001b[A"
     ]
    },
    {
     "name": "stdout",
     "output_type": "stream",
     "text": [
      "typs is <class 'numpy.ndarray'>\n"
     ]
    },
    {
     "name": "stderr",
     "output_type": "stream",
     "text": [
      "\n",
      "\n",
      "\n",
      "\n",
      "\n",
      "\n",
      "\n",
      "\n",
      "\n",
      "\n",
      "\n",
      "  6%|▌         | 18/300 [09:40<2:35:38, 33.12s/it]\u001b[A\u001b[A\u001b[A\u001b[A\u001b[A\u001b[A\u001b[A\u001b[A\u001b[A\u001b[A\u001b[A"
     ]
    },
    {
     "name": "stdout",
     "output_type": "stream",
     "text": [
      "typs is <class 'numpy.ndarray'>\n"
     ]
    },
    {
     "name": "stderr",
     "output_type": "stream",
     "text": [
      "\n",
      "\n",
      "\n",
      "\n",
      "\n",
      "\n",
      "\n",
      "\n",
      "\n",
      "\n",
      "\n",
      "  6%|▋         | 19/300 [10:13<2:34:09, 32.92s/it]\u001b[A\u001b[A\u001b[A\u001b[A\u001b[A\u001b[A\u001b[A\u001b[A\u001b[A\u001b[A\u001b[A"
     ]
    },
    {
     "name": "stdout",
     "output_type": "stream",
     "text": [
      "typs is <class 'numpy.ndarray'>\n"
     ]
    },
    {
     "name": "stderr",
     "output_type": "stream",
     "text": [
      "\n",
      "\n",
      "\n",
      "\n",
      "\n",
      "\n",
      "\n",
      "\n",
      "\n",
      "\n",
      "\n",
      "  7%|▋         | 20/300 [10:45<2:32:08, 32.60s/it]\u001b[A\u001b[A\u001b[A\u001b[A\u001b[A\u001b[A\u001b[A\u001b[A\u001b[A\u001b[A\u001b[A"
     ]
    },
    {
     "name": "stdout",
     "output_type": "stream",
     "text": [
      "typs is <class 'numpy.ndarray'>\n"
     ]
    },
    {
     "name": "stderr",
     "output_type": "stream",
     "text": [
      "\n",
      "\n",
      "\n",
      "\n",
      "\n",
      "\n",
      "\n",
      "\n",
      "\n",
      "\n",
      "\n",
      "  7%|▋         | 21/300 [11:20<2:34:54, 33.31s/it]\u001b[A\u001b[A\u001b[A\u001b[A\u001b[A\u001b[A\u001b[A\u001b[A\u001b[A\u001b[A\u001b[A"
     ]
    },
    {
     "name": "stdout",
     "output_type": "stream",
     "text": [
      "typs is <class 'numpy.ndarray'>\n"
     ]
    },
    {
     "name": "stderr",
     "output_type": "stream",
     "text": [
      "\n",
      "\n",
      "\n",
      "\n",
      "\n",
      "\n",
      "\n",
      "\n",
      "\n",
      "\n",
      "\n",
      "  7%|▋         | 22/300 [11:49<2:28:29, 32.05s/it]\u001b[A\u001b[A\u001b[A\u001b[A\u001b[A\u001b[A\u001b[A\u001b[A\u001b[A\u001b[A\u001b[A"
     ]
    },
    {
     "name": "stdout",
     "output_type": "stream",
     "text": [
      "typs is <class 'numpy.ndarray'>\n"
     ]
    },
    {
     "name": "stderr",
     "output_type": "stream",
     "text": [
      "\n",
      "\n",
      "\n",
      "\n",
      "\n",
      "\n",
      "\n",
      "\n",
      "\n",
      "\n",
      "\n",
      "  8%|▊         | 23/300 [12:18<2:24:23, 31.28s/it]\u001b[A\u001b[A\u001b[A\u001b[A\u001b[A\u001b[A\u001b[A\u001b[A\u001b[A\u001b[A\u001b[A"
     ]
    },
    {
     "name": "stdout",
     "output_type": "stream",
     "text": [
      "typs is <class 'numpy.ndarray'>\n"
     ]
    },
    {
     "name": "stderr",
     "output_type": "stream",
     "text": [
      "\n",
      "\n",
      "\n",
      "\n",
      "\n",
      "\n",
      "\n",
      "\n",
      "\n",
      "\n",
      "\n",
      "  8%|▊         | 24/300 [12:50<2:24:43, 31.46s/it]\u001b[A\u001b[A\u001b[A\u001b[A\u001b[A\u001b[A\u001b[A\u001b[A\u001b[A\u001b[A\u001b[A"
     ]
    },
    {
     "name": "stdout",
     "output_type": "stream",
     "text": [
      "typs is <class 'numpy.ndarray'>\n"
     ]
    },
    {
     "name": "stderr",
     "output_type": "stream",
     "text": [
      "\n",
      "\n",
      "\n",
      "\n",
      "\n",
      "\n",
      "\n",
      "\n",
      "\n",
      "\n",
      "\n",
      "  8%|▊         | 25/300 [13:20<2:21:30, 30.88s/it]\u001b[A\u001b[A\u001b[A\u001b[A\u001b[A\u001b[A\u001b[A\u001b[A\u001b[A\u001b[A\u001b[A"
     ]
    },
    {
     "name": "stdout",
     "output_type": "stream",
     "text": [
      "typs is <class 'numpy.ndarray'>\n"
     ]
    },
    {
     "name": "stderr",
     "output_type": "stream",
     "text": [
      "\n",
      "\n",
      "\n",
      "\n",
      "\n",
      "\n",
      "\n",
      "\n",
      "\n",
      "\n",
      "\n",
      "  9%|▊         | 26/300 [13:49<2:19:00, 30.44s/it]\u001b[A\u001b[A\u001b[A\u001b[A\u001b[A\u001b[A\u001b[A\u001b[A\u001b[A\u001b[A\u001b[A"
     ]
    },
    {
     "name": "stdout",
     "output_type": "stream",
     "text": [
      "typs is <class 'numpy.ndarray'>\n"
     ]
    },
    {
     "name": "stderr",
     "output_type": "stream",
     "text": [
      "\n",
      "\n",
      "\n",
      "\n",
      "\n",
      "\n",
      "\n",
      "\n",
      "\n",
      "\n",
      "\n",
      "  9%|▉         | 27/300 [14:19<2:17:18, 30.18s/it]\u001b[A\u001b[A\u001b[A\u001b[A\u001b[A\u001b[A\u001b[A\u001b[A\u001b[A\u001b[A\u001b[A"
     ]
    },
    {
     "name": "stdout",
     "output_type": "stream",
     "text": [
      "typs is <class 'numpy.ndarray'>\n"
     ]
    },
    {
     "name": "stderr",
     "output_type": "stream",
     "text": [
      "\n",
      "\n",
      "\n",
      "\n",
      "\n",
      "\n",
      "\n",
      "\n",
      "\n",
      "\n",
      "\n",
      "  9%|▉         | 28/300 [14:49<2:16:51, 30.19s/it]\u001b[A\u001b[A\u001b[A\u001b[A\u001b[A\u001b[A\u001b[A\u001b[A\u001b[A\u001b[A\u001b[A"
     ]
    },
    {
     "name": "stdout",
     "output_type": "stream",
     "text": [
      "typs is <class 'numpy.ndarray'>\n"
     ]
    },
    {
     "name": "stderr",
     "output_type": "stream",
     "text": [
      "\n",
      "\n",
      "\n",
      "\n",
      "\n",
      "\n",
      "\n",
      "\n",
      "\n",
      "\n",
      "\n",
      " 10%|▉         | 29/300 [15:18<2:15:31, 30.00s/it]\u001b[A\u001b[A\u001b[A\u001b[A\u001b[A\u001b[A\u001b[A\u001b[A\u001b[A\u001b[A\u001b[A"
     ]
    },
    {
     "name": "stdout",
     "output_type": "stream",
     "text": [
      "typs is <class 'numpy.ndarray'>\n"
     ]
    },
    {
     "name": "stderr",
     "output_type": "stream",
     "text": [
      "\n",
      "\n",
      "\n",
      "\n",
      "\n",
      "\n",
      "\n",
      "\n",
      "\n",
      "\n",
      "\n",
      " 10%|█         | 30/300 [15:48<2:14:30, 29.89s/it]\u001b[A\u001b[A\u001b[A\u001b[A\u001b[A\u001b[A\u001b[A\u001b[A\u001b[A\u001b[A\u001b[A"
     ]
    },
    {
     "name": "stdout",
     "output_type": "stream",
     "text": [
      "typs is <class 'numpy.ndarray'>\n"
     ]
    },
    {
     "name": "stderr",
     "output_type": "stream",
     "text": [
      "\n",
      "\n",
      "\n",
      "\n",
      "\n",
      "\n",
      "\n",
      "\n",
      "\n",
      "\n",
      "\n",
      " 10%|█         | 31/300 [16:17<2:13:21, 29.75s/it]\u001b[A\u001b[A\u001b[A\u001b[A\u001b[A\u001b[A\u001b[A\u001b[A\u001b[A\u001b[A\u001b[A"
     ]
    },
    {
     "name": "stdout",
     "output_type": "stream",
     "text": [
      "typs is <class 'numpy.ndarray'>\n"
     ]
    },
    {
     "name": "stderr",
     "output_type": "stream",
     "text": [
      "\n",
      "\n",
      "\n",
      "\n",
      "\n",
      "\n",
      "\n",
      "\n",
      "\n",
      "\n",
      "\n",
      " 11%|█         | 32/300 [16:47<2:12:20, 29.63s/it]\u001b[A\u001b[A\u001b[A\u001b[A\u001b[A\u001b[A\u001b[A\u001b[A\u001b[A\u001b[A\u001b[A"
     ]
    },
    {
     "name": "stdout",
     "output_type": "stream",
     "text": [
      "typs is <class 'numpy.ndarray'>\n"
     ]
    },
    {
     "name": "stderr",
     "output_type": "stream",
     "text": [
      "\n",
      "\n",
      "\n",
      "\n",
      "\n",
      "\n",
      "\n",
      "\n",
      "\n",
      "\n",
      "\n",
      " 11%|█         | 33/300 [17:18<2:14:14, 30.17s/it]\u001b[A\u001b[A\u001b[A\u001b[A\u001b[A\u001b[A\u001b[A\u001b[A\u001b[A\u001b[A\u001b[A"
     ]
    },
    {
     "name": "stdout",
     "output_type": "stream",
     "text": [
      "typs is <class 'numpy.ndarray'>\n"
     ]
    },
    {
     "name": "stderr",
     "output_type": "stream",
     "text": [
      "\n",
      "\n",
      "\n",
      "\n",
      "\n",
      "\n",
      "\n",
      "\n",
      "\n",
      "\n",
      "\n",
      " 11%|█▏        | 34/300 [17:47<2:12:20, 29.85s/it]\u001b[A\u001b[A\u001b[A\u001b[A\u001b[A\u001b[A\u001b[A\u001b[A\u001b[A\u001b[A\u001b[A"
     ]
    },
    {
     "name": "stdout",
     "output_type": "stream",
     "text": [
      "typs is <class 'numpy.ndarray'>\n"
     ]
    },
    {
     "name": "stderr",
     "output_type": "stream",
     "text": [
      "\n",
      "\n",
      "\n",
      "\n",
      "\n",
      "\n",
      "\n",
      "\n",
      "\n",
      "\n",
      "\n",
      " 12%|█▏        | 35/300 [18:17<2:11:04, 29.68s/it]\u001b[A\u001b[A\u001b[A\u001b[A\u001b[A\u001b[A\u001b[A\u001b[A\u001b[A\u001b[A\u001b[A"
     ]
    },
    {
     "name": "stdout",
     "output_type": "stream",
     "text": [
      "typs is <class 'numpy.ndarray'>\n"
     ]
    },
    {
     "name": "stderr",
     "output_type": "stream",
     "text": [
      "\n",
      "\n",
      "\n",
      "\n",
      "\n",
      "\n",
      "\n",
      "\n",
      "\n",
      "\n",
      "\n",
      " 12%|█▏        | 36/300 [18:46<2:09:59, 29.54s/it]\u001b[A\u001b[A\u001b[A\u001b[A\u001b[A\u001b[A\u001b[A\u001b[A\u001b[A\u001b[A\u001b[A"
     ]
    },
    {
     "name": "stdout",
     "output_type": "stream",
     "text": [
      "typs is <class 'numpy.ndarray'>\n"
     ]
    },
    {
     "name": "stderr",
     "output_type": "stream",
     "text": [
      "\n",
      "\n",
      "\n",
      "\n",
      "\n",
      "\n",
      "\n",
      "\n",
      "\n",
      "\n",
      "\n",
      " 12%|█▏        | 37/300 [19:16<2:10:46, 29.83s/it]\u001b[A\u001b[A\u001b[A\u001b[A\u001b[A\u001b[A\u001b[A\u001b[A\u001b[A\u001b[A\u001b[A"
     ]
    },
    {
     "name": "stdout",
     "output_type": "stream",
     "text": [
      "typs is <class 'numpy.ndarray'>\n"
     ]
    },
    {
     "name": "stderr",
     "output_type": "stream",
     "text": [
      "\n",
      "\n",
      "\n",
      "\n",
      "\n",
      "\n",
      "\n",
      "\n",
      "\n",
      "\n",
      "\n",
      " 13%|█▎        | 38/300 [19:45<2:09:24, 29.64s/it]\u001b[A\u001b[A\u001b[A\u001b[A\u001b[A\u001b[A\u001b[A\u001b[A\u001b[A\u001b[A\u001b[A"
     ]
    },
    {
     "name": "stdout",
     "output_type": "stream",
     "text": [
      "typs is <class 'numpy.ndarray'>\n"
     ]
    },
    {
     "name": "stderr",
     "output_type": "stream",
     "text": [
      "\n",
      "\n",
      "\n",
      "\n",
      "\n",
      "\n",
      "\n",
      "\n",
      "\n",
      "\n",
      "\n",
      " 13%|█▎        | 39/300 [20:15<2:08:22, 29.51s/it]\u001b[A\u001b[A\u001b[A\u001b[A\u001b[A\u001b[A\u001b[A\u001b[A\u001b[A\u001b[A\u001b[A"
     ]
    },
    {
     "name": "stdout",
     "output_type": "stream",
     "text": [
      "typs is <class 'numpy.ndarray'>\n"
     ]
    },
    {
     "name": "stderr",
     "output_type": "stream",
     "text": [
      "\n",
      "\n",
      "\n",
      "\n",
      "\n",
      "\n",
      "\n",
      "\n",
      "\n",
      "\n",
      "\n",
      " 13%|█▎        | 40/300 [20:44<2:07:32, 29.43s/it]\u001b[A\u001b[A\u001b[A\u001b[A\u001b[A\u001b[A\u001b[A\u001b[A\u001b[A\u001b[A\u001b[A"
     ]
    },
    {
     "name": "stdout",
     "output_type": "stream",
     "text": [
      "typs is <class 'numpy.ndarray'>\n"
     ]
    },
    {
     "name": "stderr",
     "output_type": "stream",
     "text": [
      "\n",
      "\n",
      "\n",
      "\n",
      "\n",
      "\n",
      "\n",
      "\n",
      "\n",
      "\n",
      "\n",
      " 14%|█▎        | 41/300 [21:15<2:09:05, 29.90s/it]\u001b[A\u001b[A\u001b[A\u001b[A\u001b[A\u001b[A\u001b[A\u001b[A\u001b[A\u001b[A\u001b[A"
     ]
    },
    {
     "name": "stdout",
     "output_type": "stream",
     "text": [
      "typs is <class 'numpy.ndarray'>\n"
     ]
    },
    {
     "name": "stderr",
     "output_type": "stream",
     "text": [
      "\n",
      "\n",
      "\n",
      "\n",
      "\n",
      "\n",
      "\n",
      "\n",
      "\n",
      "\n",
      "\n",
      " 14%|█▍        | 42/300 [21:45<2:08:54, 29.98s/it]\u001b[A\u001b[A\u001b[A\u001b[A\u001b[A\u001b[A\u001b[A\u001b[A\u001b[A\u001b[A\u001b[A"
     ]
    },
    {
     "name": "stdout",
     "output_type": "stream",
     "text": [
      "typs is <class 'numpy.ndarray'>\n"
     ]
    },
    {
     "name": "stderr",
     "output_type": "stream",
     "text": [
      "\n",
      "\n",
      "\n",
      "\n",
      "\n",
      "\n",
      "\n",
      "\n",
      "\n",
      "\n",
      "\n",
      " 14%|█▍        | 43/300 [22:15<2:08:00, 29.89s/it]\u001b[A\u001b[A\u001b[A\u001b[A\u001b[A\u001b[A\u001b[A\u001b[A\u001b[A\u001b[A\u001b[A"
     ]
    },
    {
     "name": "stdout",
     "output_type": "stream",
     "text": [
      "typs is <class 'numpy.ndarray'>\n"
     ]
    },
    {
     "name": "stderr",
     "output_type": "stream",
     "text": [
      "\n",
      "\n",
      "\n",
      "\n",
      "\n",
      "\n",
      "\n",
      "\n",
      "\n",
      "\n",
      "\n",
      " 15%|█▍        | 44/300 [22:47<2:10:17, 30.54s/it]\u001b[A\u001b[A\u001b[A\u001b[A\u001b[A\u001b[A\u001b[A\u001b[A\u001b[A\u001b[A\u001b[A"
     ]
    },
    {
     "name": "stdout",
     "output_type": "stream",
     "text": [
      "typs is <class 'numpy.ndarray'>\n"
     ]
    },
    {
     "name": "stderr",
     "output_type": "stream",
     "text": [
      "\n",
      "\n",
      "\n",
      "\n",
      "\n",
      "\n",
      "\n",
      "\n",
      "\n",
      "\n",
      "\n",
      " 15%|█▌        | 45/300 [23:22<2:15:26, 31.87s/it]\u001b[A\u001b[A\u001b[A\u001b[A\u001b[A\u001b[A\u001b[A\u001b[A\u001b[A\u001b[A\u001b[A"
     ]
    },
    {
     "name": "stdout",
     "output_type": "stream",
     "text": [
      "typs is <class 'numpy.ndarray'>\n"
     ]
    },
    {
     "name": "stderr",
     "output_type": "stream",
     "text": [
      "\n",
      "\n",
      "\n",
      "\n",
      "\n",
      "\n",
      "\n",
      "\n",
      "\n",
      "\n",
      "\n",
      " 15%|█▌        | 46/300 [23:53<2:13:51, 31.62s/it]\u001b[A\u001b[A\u001b[A\u001b[A\u001b[A\u001b[A\u001b[A\u001b[A\u001b[A\u001b[A\u001b[A"
     ]
    },
    {
     "name": "stdout",
     "output_type": "stream",
     "text": [
      "typs is <class 'numpy.ndarray'>\n"
     ]
    },
    {
     "name": "stderr",
     "output_type": "stream",
     "text": [
      "\n",
      "\n",
      "\n",
      "\n",
      "\n",
      "\n",
      "\n",
      "\n",
      "\n",
      "\n",
      "\n",
      " 16%|█▌        | 47/300 [24:23<2:11:05, 31.09s/it]\u001b[A\u001b[A\u001b[A\u001b[A\u001b[A\u001b[A\u001b[A\u001b[A\u001b[A\u001b[A\u001b[A"
     ]
    },
    {
     "name": "stdout",
     "output_type": "stream",
     "text": [
      "typs is <class 'numpy.ndarray'>\n"
     ]
    },
    {
     "name": "stderr",
     "output_type": "stream",
     "text": [
      "\n",
      "\n",
      "\n",
      "\n",
      "\n",
      "\n",
      "\n",
      "\n",
      "\n",
      "\n",
      "\n",
      " 16%|█▌        | 48/300 [24:53<2:10:08, 30.99s/it]\u001b[A\u001b[A\u001b[A\u001b[A\u001b[A\u001b[A\u001b[A\u001b[A\u001b[A\u001b[A\u001b[A"
     ]
    },
    {
     "name": "stdout",
     "output_type": "stream",
     "text": [
      "typs is <class 'numpy.ndarray'>\n"
     ]
    },
    {
     "name": "stderr",
     "output_type": "stream",
     "text": [
      "\n",
      "\n",
      "\n",
      "\n",
      "\n",
      "\n",
      "\n",
      "\n",
      "\n",
      "\n",
      "\n",
      " 16%|█▋        | 49/300 [25:24<2:08:45, 30.78s/it]\u001b[A\u001b[A\u001b[A\u001b[A\u001b[A\u001b[A\u001b[A\u001b[A\u001b[A\u001b[A\u001b[A"
     ]
    },
    {
     "name": "stdout",
     "output_type": "stream",
     "text": [
      "typs is <class 'numpy.ndarray'>\n"
     ]
    },
    {
     "name": "stderr",
     "output_type": "stream",
     "text": [
      "\n",
      "\n",
      "\n",
      "\n",
      "\n",
      "\n",
      "\n",
      "\n",
      "\n",
      "\n",
      "\n",
      " 17%|█▋        | 50/300 [25:55<2:09:24, 31.06s/it]\u001b[A\u001b[A\u001b[A\u001b[A\u001b[A\u001b[A\u001b[A\u001b[A\u001b[A\u001b[A\u001b[A"
     ]
    },
    {
     "name": "stdout",
     "output_type": "stream",
     "text": [
      "typs is <class 'numpy.ndarray'>\n"
     ]
    },
    {
     "name": "stderr",
     "output_type": "stream",
     "text": [
      "\n",
      "\n",
      "\n",
      "\n",
      "\n",
      "\n",
      "\n",
      "\n",
      "\n",
      "\n",
      "\n",
      " 17%|█▋        | 51/300 [26:26<2:08:46, 31.03s/it]\u001b[A\u001b[A\u001b[A\u001b[A\u001b[A\u001b[A\u001b[A\u001b[A\u001b[A\u001b[A\u001b[A"
     ]
    },
    {
     "name": "stdout",
     "output_type": "stream",
     "text": [
      "typs is <class 'numpy.ndarray'>\n"
     ]
    },
    {
     "name": "stderr",
     "output_type": "stream",
     "text": [
      "\n",
      "\n",
      "\n",
      "\n",
      "\n",
      "\n",
      "\n",
      "\n",
      "\n",
      "\n",
      "\n",
      " 17%|█▋        | 52/300 [26:58<2:08:51, 31.17s/it]\u001b[A\u001b[A\u001b[A\u001b[A\u001b[A\u001b[A\u001b[A\u001b[A\u001b[A\u001b[A\u001b[A"
     ]
    },
    {
     "name": "stdout",
     "output_type": "stream",
     "text": [
      "typs is <class 'numpy.ndarray'>\n"
     ]
    },
    {
     "name": "stderr",
     "output_type": "stream",
     "text": [
      "\n",
      "\n",
      "\n",
      "\n",
      "\n",
      "\n",
      "\n",
      "\n",
      "\n",
      "\n",
      "\n",
      " 18%|█▊        | 53/300 [27:29<2:08:33, 31.23s/it]\u001b[A\u001b[A\u001b[A\u001b[A\u001b[A\u001b[A\u001b[A\u001b[A\u001b[A\u001b[A\u001b[A"
     ]
    },
    {
     "name": "stdout",
     "output_type": "stream",
     "text": [
      "typs is <class 'numpy.ndarray'>\n"
     ]
    },
    {
     "name": "stderr",
     "output_type": "stream",
     "text": [
      "\n",
      "\n",
      "\n",
      "\n",
      "\n",
      "\n",
      "\n",
      "\n",
      "\n",
      "\n",
      "\n",
      " 18%|█▊        | 54/300 [28:00<2:07:56, 31.20s/it]\u001b[A\u001b[A\u001b[A\u001b[A\u001b[A\u001b[A\u001b[A\u001b[A\u001b[A\u001b[A\u001b[A"
     ]
    },
    {
     "name": "stdout",
     "output_type": "stream",
     "text": [
      "typs is <class 'numpy.ndarray'>\n"
     ]
    },
    {
     "name": "stderr",
     "output_type": "stream",
     "text": [
      "\n",
      "\n",
      "\n",
      "\n",
      "\n",
      "\n",
      "\n",
      "\n",
      "\n",
      "\n",
      "\n",
      " 18%|█▊        | 55/300 [28:31<2:06:25, 30.96s/it]\u001b[A\u001b[A\u001b[A\u001b[A\u001b[A\u001b[A\u001b[A\u001b[A\u001b[A\u001b[A\u001b[A"
     ]
    },
    {
     "name": "stdout",
     "output_type": "stream",
     "text": [
      "typs is <class 'numpy.ndarray'>\n"
     ]
    },
    {
     "name": "stderr",
     "output_type": "stream",
     "text": [
      "\n",
      "\n",
      "\n",
      "\n",
      "\n",
      "\n",
      "\n",
      "\n",
      "\n",
      "\n",
      "\n",
      " 19%|█▊        | 56/300 [29:01<2:04:41, 30.66s/it]\u001b[A\u001b[A\u001b[A\u001b[A\u001b[A\u001b[A\u001b[A\u001b[A\u001b[A\u001b[A\u001b[A"
     ]
    },
    {
     "name": "stdout",
     "output_type": "stream",
     "text": [
      "typs is <class 'numpy.ndarray'>\n"
     ]
    },
    {
     "name": "stderr",
     "output_type": "stream",
     "text": [
      "\n",
      "\n",
      "\n",
      "\n",
      "\n",
      "\n",
      "\n",
      "\n",
      "\n",
      "\n",
      "\n",
      " 19%|█▉        | 57/300 [29:30<2:03:02, 30.38s/it]\u001b[A\u001b[A\u001b[A\u001b[A\u001b[A\u001b[A\u001b[A\u001b[A\u001b[A\u001b[A\u001b[A"
     ]
    },
    {
     "name": "stdout",
     "output_type": "stream",
     "text": [
      "typs is <class 'numpy.ndarray'>\n"
     ]
    },
    {
     "name": "stderr",
     "output_type": "stream",
     "text": [
      "\n",
      "\n",
      "\n",
      "\n",
      "\n",
      "\n",
      "\n",
      "\n",
      "\n",
      "\n",
      "\n",
      " 19%|█▉        | 58/300 [30:00<2:01:50, 30.21s/it]\u001b[A\u001b[A\u001b[A\u001b[A\u001b[A\u001b[A\u001b[A\u001b[A\u001b[A\u001b[A\u001b[A"
     ]
    },
    {
     "name": "stdout",
     "output_type": "stream",
     "text": [
      "typs is <class 'numpy.ndarray'>\n"
     ]
    },
    {
     "name": "stderr",
     "output_type": "stream",
     "text": [
      "\n",
      "\n",
      "\n",
      "\n",
      "\n",
      "\n",
      "\n",
      "\n",
      "\n",
      "\n",
      "\n",
      " 20%|█▉        | 59/300 [30:31<2:01:44, 30.31s/it]\u001b[A\u001b[A\u001b[A\u001b[A\u001b[A\u001b[A\u001b[A\u001b[A\u001b[A\u001b[A\u001b[A"
     ]
    },
    {
     "name": "stdout",
     "output_type": "stream",
     "text": [
      "typs is <class 'numpy.ndarray'>\n"
     ]
    },
    {
     "name": "stderr",
     "output_type": "stream",
     "text": [
      "\n",
      "\n",
      "\n",
      "\n",
      "\n",
      "\n",
      "\n",
      "\n",
      "\n",
      "\n",
      "\n",
      " 20%|██        | 60/300 [31:02<2:01:50, 30.46s/it]\u001b[A\u001b[A\u001b[A\u001b[A\u001b[A\u001b[A\u001b[A\u001b[A\u001b[A\u001b[A\u001b[A"
     ]
    },
    {
     "name": "stdout",
     "output_type": "stream",
     "text": [
      "typs is <class 'numpy.ndarray'>\n"
     ]
    },
    {
     "name": "stderr",
     "output_type": "stream",
     "text": [
      "\n",
      "\n",
      "\n",
      "\n",
      "\n",
      "\n",
      "\n",
      "\n",
      "\n",
      "\n",
      "\n",
      " 20%|██        | 61/300 [31:32<2:01:41, 30.55s/it]\u001b[A\u001b[A\u001b[A\u001b[A\u001b[A\u001b[A\u001b[A\u001b[A\u001b[A\u001b[A\u001b[A"
     ]
    },
    {
     "name": "stdout",
     "output_type": "stream",
     "text": [
      "typs is <class 'numpy.ndarray'>\n"
     ]
    },
    {
     "name": "stderr",
     "output_type": "stream",
     "text": [
      "\n",
      "\n",
      "\n",
      "\n",
      "\n",
      "\n",
      "\n",
      "\n",
      "\n",
      "\n",
      "\n",
      " 21%|██        | 62/300 [32:02<1:59:47, 30.20s/it]\u001b[A\u001b[A\u001b[A\u001b[A\u001b[A\u001b[A\u001b[A\u001b[A\u001b[A\u001b[A\u001b[A"
     ]
    },
    {
     "name": "stdout",
     "output_type": "stream",
     "text": [
      "typs is <class 'numpy.ndarray'>\n"
     ]
    },
    {
     "name": "stderr",
     "output_type": "stream",
     "text": [
      "\n",
      "\n",
      "\n",
      "\n",
      "\n",
      "\n",
      "\n",
      "\n",
      "\n",
      "\n",
      "\n",
      " 21%|██        | 63/300 [32:33<2:00:28, 30.50s/it]\u001b[A\u001b[A\u001b[A\u001b[A\u001b[A\u001b[A\u001b[A\u001b[A\u001b[A\u001b[A\u001b[A"
     ]
    },
    {
     "name": "stdout",
     "output_type": "stream",
     "text": [
      "typs is <class 'numpy.ndarray'>\n"
     ]
    },
    {
     "name": "stderr",
     "output_type": "stream",
     "text": [
      "\n",
      "\n",
      "\n",
      "\n",
      "\n",
      "\n",
      "\n",
      "\n",
      "\n",
      "\n",
      "\n",
      " 21%|██▏       | 64/300 [33:03<1:59:40, 30.43s/it]\u001b[A\u001b[A\u001b[A\u001b[A\u001b[A\u001b[A\u001b[A\u001b[A\u001b[A\u001b[A\u001b[A"
     ]
    },
    {
     "name": "stdout",
     "output_type": "stream",
     "text": [
      "typs is <class 'numpy.ndarray'>\n"
     ]
    },
    {
     "name": "stderr",
     "output_type": "stream",
     "text": [
      "\n",
      "\n",
      "\n",
      "\n",
      "\n",
      "\n",
      "\n",
      "\n",
      "\n",
      "\n",
      "\n",
      " 22%|██▏       | 65/300 [33:35<2:00:16, 30.71s/it]\u001b[A\u001b[A\u001b[A\u001b[A\u001b[A\u001b[A\u001b[A\u001b[A\u001b[A\u001b[A\u001b[A"
     ]
    },
    {
     "name": "stdout",
     "output_type": "stream",
     "text": [
      "typs is <class 'numpy.ndarray'>\n"
     ]
    },
    {
     "name": "stderr",
     "output_type": "stream",
     "text": [
      "\n",
      "\n",
      "\n",
      "\n",
      "\n",
      "\n",
      "\n",
      "\n",
      "\n",
      "\n",
      "\n",
      " 22%|██▏       | 66/300 [34:07<2:01:31, 31.16s/it]\u001b[A\u001b[A\u001b[A\u001b[A\u001b[A\u001b[A\u001b[A\u001b[A\u001b[A\u001b[A\u001b[A"
     ]
    },
    {
     "name": "stdout",
     "output_type": "stream",
     "text": [
      "typs is <class 'numpy.ndarray'>\n"
     ]
    },
    {
     "name": "stderr",
     "output_type": "stream",
     "text": [
      "\n",
      "\n",
      "\n",
      "\n",
      "\n",
      "\n",
      "\n",
      "\n",
      "\n",
      "\n",
      "\n",
      " 22%|██▏       | 67/300 [34:37<1:59:25, 30.75s/it]\u001b[A\u001b[A\u001b[A\u001b[A\u001b[A\u001b[A\u001b[A\u001b[A\u001b[A\u001b[A\u001b[A"
     ]
    },
    {
     "name": "stdout",
     "output_type": "stream",
     "text": [
      "typs is <class 'numpy.ndarray'>\n"
     ]
    },
    {
     "name": "stderr",
     "output_type": "stream",
     "text": [
      "\n",
      "\n",
      "\n",
      "\n",
      "\n",
      "\n",
      "\n",
      "\n",
      "\n",
      "\n",
      "\n",
      " 23%|██▎       | 68/300 [35:06<1:57:20, 30.35s/it]\u001b[A\u001b[A\u001b[A\u001b[A\u001b[A\u001b[A\u001b[A\u001b[A\u001b[A\u001b[A\u001b[A"
     ]
    },
    {
     "name": "stdout",
     "output_type": "stream",
     "text": [
      "typs is <class 'numpy.ndarray'>\n"
     ]
    },
    {
     "name": "stderr",
     "output_type": "stream",
     "text": [
      "\n",
      "\n",
      "\n",
      "\n",
      "\n",
      "\n",
      "\n",
      "\n",
      "\n",
      "\n",
      "\n",
      " 23%|██▎       | 69/300 [35:35<1:55:47, 30.07s/it]\u001b[A\u001b[A\u001b[A\u001b[A\u001b[A\u001b[A\u001b[A\u001b[A\u001b[A\u001b[A\u001b[A"
     ]
    },
    {
     "name": "stdout",
     "output_type": "stream",
     "text": [
      "typs is <class 'numpy.ndarray'>\n"
     ]
    },
    {
     "name": "stderr",
     "output_type": "stream",
     "text": [
      "\n",
      "\n",
      "\n",
      "\n",
      "\n",
      "\n",
      "\n",
      "\n",
      "\n",
      "\n",
      "\n",
      " 23%|██▎       | 70/300 [36:05<1:55:12, 30.05s/it]\u001b[A\u001b[A\u001b[A\u001b[A\u001b[A\u001b[A\u001b[A\u001b[A\u001b[A\u001b[A\u001b[A"
     ]
    },
    {
     "name": "stdout",
     "output_type": "stream",
     "text": [
      "typs is <class 'numpy.ndarray'>\n"
     ]
    },
    {
     "name": "stderr",
     "output_type": "stream",
     "text": [
      "\n",
      "\n",
      "\n",
      "\n",
      "\n",
      "\n",
      "\n",
      "\n",
      "\n",
      "\n",
      "\n",
      " 24%|██▎       | 71/300 [36:35<1:53:37, 29.77s/it]\u001b[A\u001b[A\u001b[A\u001b[A\u001b[A\u001b[A\u001b[A\u001b[A\u001b[A\u001b[A\u001b[A"
     ]
    },
    {
     "name": "stdout",
     "output_type": "stream",
     "text": [
      "typs is <class 'numpy.ndarray'>\n"
     ]
    },
    {
     "name": "stderr",
     "output_type": "stream",
     "text": [
      "\n",
      "\n",
      "\n",
      "\n",
      "\n",
      "\n",
      "\n",
      "\n",
      "\n",
      "\n",
      "\n",
      " 24%|██▍       | 72/300 [37:08<1:57:11, 30.84s/it]\u001b[A\u001b[A\u001b[A\u001b[A\u001b[A\u001b[A\u001b[A\u001b[A\u001b[A\u001b[A\u001b[A"
     ]
    },
    {
     "name": "stdout",
     "output_type": "stream",
     "text": [
      "typs is <class 'numpy.ndarray'>\n"
     ]
    },
    {
     "name": "stderr",
     "output_type": "stream",
     "text": [
      "\n",
      "\n",
      "\n",
      "\n",
      "\n",
      "\n",
      "\n",
      "\n",
      "\n",
      "\n",
      "\n",
      " 24%|██▍       | 73/300 [37:39<1:56:32, 30.80s/it]\u001b[A\u001b[A\u001b[A\u001b[A\u001b[A\u001b[A\u001b[A\u001b[A\u001b[A\u001b[A\u001b[A"
     ]
    },
    {
     "name": "stdout",
     "output_type": "stream",
     "text": [
      "typs is <class 'numpy.ndarray'>\n"
     ]
    },
    {
     "name": "stderr",
     "output_type": "stream",
     "text": [
      "\n",
      "\n",
      "\n",
      "\n",
      "\n",
      "\n",
      "\n",
      "\n",
      "\n",
      "\n",
      "\n",
      " 25%|██▍       | 74/300 [38:09<1:55:13, 30.59s/it]\u001b[A\u001b[A\u001b[A\u001b[A\u001b[A\u001b[A\u001b[A\u001b[A\u001b[A\u001b[A\u001b[A"
     ]
    },
    {
     "name": "stdout",
     "output_type": "stream",
     "text": [
      "typs is <class 'numpy.ndarray'>\n"
     ]
    },
    {
     "name": "stderr",
     "output_type": "stream",
     "text": [
      "\n",
      "\n",
      "\n",
      "\n",
      "\n",
      "\n",
      "\n",
      "\n",
      "\n",
      "\n",
      "\n",
      " 25%|██▌       | 75/300 [38:39<1:54:00, 30.40s/it]\u001b[A\u001b[A\u001b[A\u001b[A\u001b[A\u001b[A\u001b[A\u001b[A\u001b[A\u001b[A\u001b[A"
     ]
    },
    {
     "name": "stdout",
     "output_type": "stream",
     "text": [
      "typs is <class 'numpy.ndarray'>\n"
     ]
    },
    {
     "name": "stderr",
     "output_type": "stream",
     "text": [
      "\n",
      "\n",
      "\n",
      "\n",
      "\n",
      "\n",
      "\n",
      "\n",
      "\n",
      "\n",
      "\n",
      " 25%|██▌       | 76/300 [39:09<1:53:03, 30.28s/it]\u001b[A\u001b[A\u001b[A\u001b[A\u001b[A\u001b[A\u001b[A\u001b[A\u001b[A\u001b[A\u001b[A"
     ]
    },
    {
     "name": "stdout",
     "output_type": "stream",
     "text": [
      "typs is <class 'numpy.ndarray'>\n"
     ]
    },
    {
     "name": "stderr",
     "output_type": "stream",
     "text": [
      "\n",
      "\n",
      "\n",
      "\n",
      "\n",
      "\n",
      "\n",
      "\n",
      "\n",
      "\n",
      "\n",
      " 26%|██▌       | 77/300 [39:39<1:52:06, 30.16s/it]\u001b[A\u001b[A\u001b[A\u001b[A\u001b[A\u001b[A\u001b[A\u001b[A\u001b[A\u001b[A\u001b[A"
     ]
    },
    {
     "name": "stdout",
     "output_type": "stream",
     "text": [
      "typs is <class 'numpy.ndarray'>\n"
     ]
    },
    {
     "name": "stderr",
     "output_type": "stream",
     "text": [
      "\n",
      "\n",
      "\n",
      "\n",
      "\n",
      "\n",
      "\n",
      "\n",
      "\n",
      "\n",
      "\n",
      " 26%|██▌       | 78/300 [40:08<1:51:14, 30.06s/it]\u001b[A\u001b[A\u001b[A\u001b[A\u001b[A\u001b[A\u001b[A\u001b[A\u001b[A\u001b[A\u001b[A"
     ]
    },
    {
     "name": "stdout",
     "output_type": "stream",
     "text": [
      "typs is <class 'numpy.ndarray'>\n"
     ]
    },
    {
     "name": "stderr",
     "output_type": "stream",
     "text": [
      "\n",
      "\n",
      "\n",
      "\n",
      "\n",
      "\n",
      "\n",
      "\n",
      "\n",
      "\n",
      "\n",
      " 26%|██▋       | 79/300 [40:39<1:50:46, 30.07s/it]\u001b[A\u001b[A\u001b[A\u001b[A\u001b[A\u001b[A\u001b[A\u001b[A\u001b[A\u001b[A\u001b[A"
     ]
    },
    {
     "name": "stdout",
     "output_type": "stream",
     "text": [
      "typs is <class 'numpy.ndarray'>\n"
     ]
    },
    {
     "name": "stderr",
     "output_type": "stream",
     "text": [
      "\n",
      "\n",
      "\n",
      "\n",
      "\n",
      "\n",
      "\n",
      "\n",
      "\n",
      "\n",
      "\n",
      " 27%|██▋       | 80/300 [41:08<1:50:06, 30.03s/it]\u001b[A\u001b[A\u001b[A\u001b[A\u001b[A\u001b[A\u001b[A\u001b[A\u001b[A\u001b[A\u001b[A"
     ]
    },
    {
     "name": "stdout",
     "output_type": "stream",
     "text": [
      "typs is <class 'numpy.ndarray'>\n"
     ]
    },
    {
     "name": "stderr",
     "output_type": "stream",
     "text": [
      "\n",
      "\n",
      "\n",
      "\n",
      "\n",
      "\n",
      "\n",
      "\n",
      "\n",
      "\n",
      "\n",
      " 27%|██▋       | 81/300 [41:39<1:49:38, 30.04s/it]\u001b[A\u001b[A\u001b[A\u001b[A\u001b[A\u001b[A\u001b[A\u001b[A\u001b[A\u001b[A\u001b[A"
     ]
    },
    {
     "name": "stdout",
     "output_type": "stream",
     "text": [
      "typs is <class 'numpy.ndarray'>\n"
     ]
    },
    {
     "name": "stderr",
     "output_type": "stream",
     "text": [
      "\n",
      "\n",
      "\n",
      "\n",
      "\n",
      "\n",
      "\n",
      "\n",
      "\n",
      "\n",
      "\n",
      " 27%|██▋       | 82/300 [42:09<1:49:13, 30.06s/it]\u001b[A\u001b[A\u001b[A\u001b[A\u001b[A\u001b[A\u001b[A\u001b[A\u001b[A\u001b[A\u001b[A"
     ]
    },
    {
     "name": "stdout",
     "output_type": "stream",
     "text": [
      "typs is <class 'numpy.ndarray'>\n"
     ]
    },
    {
     "name": "stderr",
     "output_type": "stream",
     "text": [
      "\n",
      "\n",
      "\n",
      "\n",
      "\n",
      "\n",
      "\n",
      "\n",
      "\n",
      "\n",
      "\n",
      " 28%|██▊       | 83/300 [42:39<1:48:34, 30.02s/it]\u001b[A\u001b[A\u001b[A\u001b[A\u001b[A\u001b[A\u001b[A\u001b[A\u001b[A\u001b[A\u001b[A"
     ]
    },
    {
     "name": "stdout",
     "output_type": "stream",
     "text": [
      "typs is <class 'numpy.ndarray'>\n"
     ]
    },
    {
     "name": "stderr",
     "output_type": "stream",
     "text": [
      "\n",
      "\n",
      "\n",
      "\n",
      "\n",
      "\n",
      "\n",
      "\n",
      "\n",
      "\n",
      "\n",
      " 28%|██▊       | 84/300 [43:09<1:48:04, 30.02s/it]\u001b[A\u001b[A\u001b[A\u001b[A\u001b[A\u001b[A\u001b[A\u001b[A\u001b[A\u001b[A\u001b[A"
     ]
    },
    {
     "name": "stdout",
     "output_type": "stream",
     "text": [
      "typs is <class 'numpy.ndarray'>\n"
     ]
    },
    {
     "name": "stderr",
     "output_type": "stream",
     "text": [
      "\n",
      "\n",
      "\n",
      "\n",
      "\n",
      "\n",
      "\n",
      "\n",
      "\n",
      "\n",
      "\n",
      " 28%|██▊       | 85/300 [43:38<1:47:28, 29.99s/it]\u001b[A\u001b[A\u001b[A\u001b[A\u001b[A\u001b[A\u001b[A\u001b[A\u001b[A\u001b[A\u001b[A"
     ]
    },
    {
     "name": "stdout",
     "output_type": "stream",
     "text": [
      "typs is <class 'numpy.ndarray'>\n"
     ]
    },
    {
     "name": "stderr",
     "output_type": "stream",
     "text": [
      "\n",
      "\n",
      "\n",
      "\n",
      "\n",
      "\n",
      "\n",
      "\n",
      "\n",
      "\n",
      "\n",
      " 29%|██▊       | 86/300 [44:08<1:46:39, 29.90s/it]\u001b[A\u001b[A\u001b[A\u001b[A\u001b[A\u001b[A\u001b[A\u001b[A\u001b[A\u001b[A\u001b[A"
     ]
    },
    {
     "name": "stdout",
     "output_type": "stream",
     "text": [
      "typs is <class 'numpy.ndarray'>\n"
     ]
    },
    {
     "name": "stderr",
     "output_type": "stream",
     "text": [
      "\n",
      "\n",
      "\n",
      "\n",
      "\n",
      "\n",
      "\n",
      "\n",
      "\n",
      "\n",
      "\n",
      " 29%|██▉       | 87/300 [44:38<1:46:05, 29.89s/it]\u001b[A\u001b[A\u001b[A\u001b[A\u001b[A\u001b[A\u001b[A\u001b[A\u001b[A\u001b[A\u001b[A"
     ]
    },
    {
     "name": "stdout",
     "output_type": "stream",
     "text": [
      "typs is <class 'numpy.ndarray'>\n"
     ]
    },
    {
     "name": "stderr",
     "output_type": "stream",
     "text": [
      "\n",
      "\n",
      "\n",
      "\n",
      "\n",
      "\n",
      "\n",
      "\n",
      "\n",
      "\n",
      "\n",
      " 29%|██▉       | 88/300 [45:08<1:45:27, 29.85s/it]\u001b[A\u001b[A\u001b[A\u001b[A\u001b[A\u001b[A\u001b[A\u001b[A\u001b[A\u001b[A\u001b[A"
     ]
    },
    {
     "name": "stdout",
     "output_type": "stream",
     "text": [
      "typs is <class 'numpy.ndarray'>\n"
     ]
    },
    {
     "name": "stderr",
     "output_type": "stream",
     "text": [
      "\n",
      "\n",
      "\n",
      "\n",
      "\n",
      "\n",
      "\n",
      "\n",
      "\n",
      "\n",
      "\n",
      " 30%|██▉       | 89/300 [45:38<1:44:50, 29.81s/it]\u001b[A\u001b[A\u001b[A\u001b[A\u001b[A\u001b[A\u001b[A\u001b[A\u001b[A\u001b[A\u001b[A"
     ]
    },
    {
     "name": "stdout",
     "output_type": "stream",
     "text": [
      "typs is <class 'numpy.ndarray'>\n"
     ]
    },
    {
     "name": "stderr",
     "output_type": "stream",
     "text": [
      "\n",
      "\n",
      "\n",
      "\n",
      "\n",
      "\n",
      "\n",
      "\n",
      "\n",
      "\n",
      "\n",
      " 30%|███       | 90/300 [46:11<1:47:48, 30.80s/it]\u001b[A\u001b[A\u001b[A\u001b[A\u001b[A\u001b[A\u001b[A\u001b[A\u001b[A\u001b[A\u001b[A"
     ]
    },
    {
     "name": "stdout",
     "output_type": "stream",
     "text": [
      "typs is <class 'numpy.ndarray'>\n"
     ]
    },
    {
     "name": "stderr",
     "output_type": "stream",
     "text": [
      "\n",
      "\n",
      "\n",
      "\n",
      "\n",
      "\n",
      "\n",
      "\n",
      "\n",
      "\n",
      "\n",
      " 30%|███       | 91/300 [46:43<1:48:49, 31.24s/it]\u001b[A\u001b[A\u001b[A\u001b[A\u001b[A\u001b[A\u001b[A\u001b[A\u001b[A\u001b[A\u001b[A"
     ]
    },
    {
     "name": "stdout",
     "output_type": "stream",
     "text": [
      "typs is <class 'numpy.ndarray'>\n"
     ]
    },
    {
     "name": "stderr",
     "output_type": "stream",
     "text": [
      "\n",
      "\n",
      "\n",
      "\n",
      "\n",
      "\n",
      "\n",
      "\n",
      "\n",
      "\n",
      "\n",
      " 31%|███       | 92/300 [47:13<1:47:26, 30.99s/it]\u001b[A\u001b[A\u001b[A\u001b[A\u001b[A\u001b[A\u001b[A\u001b[A\u001b[A\u001b[A\u001b[A"
     ]
    },
    {
     "name": "stdout",
     "output_type": "stream",
     "text": [
      "typs is <class 'numpy.ndarray'>\n"
     ]
    },
    {
     "name": "stderr",
     "output_type": "stream",
     "text": [
      "\n",
      "\n",
      "\n",
      "\n",
      "\n",
      "\n",
      "\n",
      "\n",
      "\n",
      "\n",
      "\n",
      " 31%|███       | 93/300 [47:43<1:45:43, 30.65s/it]\u001b[A\u001b[A\u001b[A\u001b[A\u001b[A\u001b[A\u001b[A\u001b[A\u001b[A\u001b[A\u001b[A"
     ]
    },
    {
     "name": "stdout",
     "output_type": "stream",
     "text": [
      "typs is <class 'numpy.ndarray'>\n"
     ]
    },
    {
     "name": "stderr",
     "output_type": "stream",
     "text": [
      "\n",
      "\n",
      "\n",
      "\n",
      "\n",
      "\n",
      "\n",
      "\n",
      "\n",
      "\n",
      "\n",
      " 31%|███▏      | 94/300 [48:13<1:44:34, 30.46s/it]\u001b[A\u001b[A\u001b[A\u001b[A\u001b[A\u001b[A\u001b[A\u001b[A\u001b[A\u001b[A\u001b[A"
     ]
    },
    {
     "name": "stdout",
     "output_type": "stream",
     "text": [
      "typs is <class 'numpy.ndarray'>\n"
     ]
    },
    {
     "name": "stderr",
     "output_type": "stream",
     "text": [
      "\n",
      "\n",
      "\n",
      "\n",
      "\n",
      "\n",
      "\n",
      "\n",
      "\n",
      "\n",
      "\n",
      " 32%|███▏      | 95/300 [48:43<1:43:30, 30.29s/it]\u001b[A\u001b[A\u001b[A\u001b[A\u001b[A\u001b[A\u001b[A\u001b[A\u001b[A\u001b[A\u001b[A"
     ]
    },
    {
     "name": "stdout",
     "output_type": "stream",
     "text": [
      "typs is <class 'numpy.ndarray'>\n"
     ]
    },
    {
     "name": "stderr",
     "output_type": "stream",
     "text": [
      "\n",
      "\n",
      "\n",
      "\n",
      "\n",
      "\n",
      "\n",
      "\n",
      "\n",
      "\n",
      "\n",
      " 32%|███▏      | 96/300 [49:13<1:42:21, 30.11s/it]\u001b[A\u001b[A\u001b[A\u001b[A\u001b[A\u001b[A\u001b[A\u001b[A\u001b[A\u001b[A\u001b[A"
     ]
    },
    {
     "name": "stdout",
     "output_type": "stream",
     "text": [
      "typs is <class 'numpy.ndarray'>\n"
     ]
    },
    {
     "name": "stderr",
     "output_type": "stream",
     "text": [
      "\n",
      "\n",
      "\n",
      "\n",
      "\n",
      "\n",
      "\n",
      "\n",
      "\n",
      "\n",
      "\n",
      " 32%|███▏      | 97/300 [49:43<1:41:39, 30.05s/it]\u001b[A\u001b[A\u001b[A\u001b[A\u001b[A\u001b[A\u001b[A\u001b[A\u001b[A\u001b[A\u001b[A"
     ]
    },
    {
     "name": "stdout",
     "output_type": "stream",
     "text": [
      "typs is <class 'numpy.ndarray'>\n"
     ]
    },
    {
     "name": "stderr",
     "output_type": "stream",
     "text": [
      "\n",
      "\n",
      "\n",
      "\n",
      "\n",
      "\n",
      "\n",
      "\n",
      "\n",
      "\n",
      "\n",
      " 33%|███▎      | 98/300 [50:13<1:41:07, 30.04s/it]\u001b[A\u001b[A\u001b[A\u001b[A\u001b[A\u001b[A\u001b[A\u001b[A\u001b[A\u001b[A\u001b[A"
     ]
    },
    {
     "name": "stdout",
     "output_type": "stream",
     "text": [
      "typs is <class 'numpy.ndarray'>\n"
     ]
    },
    {
     "name": "stderr",
     "output_type": "stream",
     "text": [
      "\n",
      "\n",
      "\n",
      "\n",
      "\n",
      "\n",
      "\n",
      "\n",
      "\n",
      "\n",
      "\n",
      " 33%|███▎      | 99/300 [50:43<1:40:30, 30.00s/it]\u001b[A\u001b[A\u001b[A\u001b[A\u001b[A\u001b[A\u001b[A\u001b[A\u001b[A\u001b[A\u001b[A"
     ]
    },
    {
     "name": "stdout",
     "output_type": "stream",
     "text": [
      "typs is <class 'numpy.ndarray'>\n"
     ]
    },
    {
     "name": "stderr",
     "output_type": "stream",
     "text": [
      "\n",
      "\n",
      "\n",
      "\n",
      "\n",
      "\n",
      "\n",
      "\n",
      "\n",
      "\n",
      "\n",
      " 33%|███▎      | 100/300 [51:13<1:39:57, 29.99s/it]\u001b[A\u001b[A\u001b[A\u001b[A\u001b[A\u001b[A\u001b[A\u001b[A\u001b[A\u001b[A\u001b[A"
     ]
    },
    {
     "name": "stdout",
     "output_type": "stream",
     "text": [
      "typs is <class 'numpy.ndarray'>\n"
     ]
    },
    {
     "name": "stderr",
     "output_type": "stream",
     "text": [
      "\n",
      "\n",
      "\n",
      "\n",
      "\n",
      "\n",
      "\n",
      "\n",
      "\n",
      "\n",
      "\n",
      " 34%|███▎      | 101/300 [51:42<1:39:19, 29.95s/it]\u001b[A\u001b[A\u001b[A\u001b[A\u001b[A\u001b[A\u001b[A\u001b[A\u001b[A\u001b[A\u001b[A"
     ]
    },
    {
     "name": "stdout",
     "output_type": "stream",
     "text": [
      "typs is <class 'numpy.ndarray'>\n"
     ]
    },
    {
     "name": "stderr",
     "output_type": "stream",
     "text": [
      "\n",
      "\n",
      "\n",
      "\n",
      "\n",
      "\n",
      "\n",
      "\n",
      "\n",
      "\n",
      "\n",
      " 34%|███▍      | 102/300 [52:13<1:38:59, 30.00s/it]\u001b[A\u001b[A\u001b[A\u001b[A\u001b[A\u001b[A\u001b[A\u001b[A\u001b[A\u001b[A\u001b[A"
     ]
    },
    {
     "name": "stdout",
     "output_type": "stream",
     "text": [
      "typs is <class 'numpy.ndarray'>\n"
     ]
    },
    {
     "name": "stderr",
     "output_type": "stream",
     "text": [
      "\n",
      "\n",
      "\n",
      "\n",
      "\n",
      "\n",
      "\n",
      "\n",
      "\n",
      "\n",
      "\n",
      " 34%|███▍      | 103/300 [52:42<1:38:20, 29.95s/it]\u001b[A\u001b[A\u001b[A\u001b[A\u001b[A\u001b[A\u001b[A\u001b[A\u001b[A\u001b[A\u001b[A"
     ]
    },
    {
     "name": "stdout",
     "output_type": "stream",
     "text": [
      "typs is <class 'numpy.ndarray'>\n"
     ]
    },
    {
     "name": "stderr",
     "output_type": "stream",
     "text": [
      "\n",
      "\n",
      "\n",
      "\n",
      "\n",
      "\n",
      "\n",
      "\n",
      "\n",
      "\n",
      "\n",
      " 35%|███▍      | 104/300 [53:12<1:37:48, 29.94s/it]\u001b[A\u001b[A\u001b[A\u001b[A\u001b[A\u001b[A\u001b[A\u001b[A\u001b[A\u001b[A\u001b[A"
     ]
    },
    {
     "name": "stdout",
     "output_type": "stream",
     "text": [
      "typs is <class 'numpy.ndarray'>\n"
     ]
    },
    {
     "name": "stderr",
     "output_type": "stream",
     "text": [
      "\n",
      "\n",
      "\n",
      "\n",
      "\n",
      "\n",
      "\n",
      "\n",
      "\n",
      "\n",
      "\n",
      " 35%|███▌      | 105/300 [53:42<1:37:03, 29.87s/it]\u001b[A\u001b[A\u001b[A\u001b[A\u001b[A\u001b[A\u001b[A\u001b[A\u001b[A\u001b[A\u001b[A"
     ]
    },
    {
     "name": "stdout",
     "output_type": "stream",
     "text": [
      "typs is <class 'numpy.ndarray'>\n"
     ]
    },
    {
     "name": "stderr",
     "output_type": "stream",
     "text": [
      "\n",
      "\n",
      "\n",
      "\n",
      "\n",
      "\n",
      "\n",
      "\n",
      "\n",
      "\n",
      "\n",
      " 35%|███▌      | 106/300 [54:12<1:36:39, 29.89s/it]\u001b[A\u001b[A\u001b[A\u001b[A\u001b[A\u001b[A\u001b[A\u001b[A\u001b[A\u001b[A\u001b[A"
     ]
    },
    {
     "name": "stdout",
     "output_type": "stream",
     "text": [
      "typs is <class 'numpy.ndarray'>\n"
     ]
    },
    {
     "name": "stderr",
     "output_type": "stream",
     "text": [
      "\n",
      "\n",
      "\n",
      "\n",
      "\n",
      "\n",
      "\n",
      "\n",
      "\n",
      "\n",
      "\n",
      " 36%|███▌      | 107/300 [54:42<1:35:57, 29.83s/it]\u001b[A\u001b[A\u001b[A\u001b[A\u001b[A\u001b[A\u001b[A\u001b[A\u001b[A\u001b[A\u001b[A"
     ]
    },
    {
     "name": "stdout",
     "output_type": "stream",
     "text": [
      "typs is <class 'numpy.ndarray'>\n"
     ]
    },
    {
     "name": "stderr",
     "output_type": "stream",
     "text": [
      "\n",
      "\n",
      "\n",
      "\n",
      "\n",
      "\n",
      "\n",
      "\n",
      "\n",
      "\n",
      "\n",
      " 36%|███▌      | 108/300 [55:11<1:35:11, 29.75s/it]\u001b[A\u001b[A\u001b[A\u001b[A\u001b[A\u001b[A\u001b[A\u001b[A\u001b[A\u001b[A\u001b[A"
     ]
    },
    {
     "name": "stdout",
     "output_type": "stream",
     "text": [
      "typs is <class 'numpy.ndarray'>\n"
     ]
    },
    {
     "name": "stderr",
     "output_type": "stream",
     "text": [
      "\n",
      "\n",
      "\n",
      "\n",
      "\n",
      "\n",
      "\n",
      "\n",
      "\n",
      "\n",
      "\n",
      " 36%|███▋      | 109/300 [55:41<1:34:44, 29.76s/it]\u001b[A\u001b[A\u001b[A\u001b[A\u001b[A\u001b[A\u001b[A\u001b[A\u001b[A\u001b[A\u001b[A"
     ]
    },
    {
     "name": "stdout",
     "output_type": "stream",
     "text": [
      "typs is <class 'numpy.ndarray'>\n"
     ]
    },
    {
     "name": "stderr",
     "output_type": "stream",
     "text": [
      "\n",
      "\n",
      "\n",
      "\n",
      "\n",
      "\n",
      "\n",
      "\n",
      "\n",
      "\n",
      "\n",
      " 37%|███▋      | 110/300 [56:11<1:34:16, 29.77s/it]\u001b[A\u001b[A\u001b[A\u001b[A\u001b[A\u001b[A\u001b[A\u001b[A\u001b[A\u001b[A\u001b[A"
     ]
    },
    {
     "name": "stdout",
     "output_type": "stream",
     "text": [
      "typs is <class 'numpy.ndarray'>\n"
     ]
    },
    {
     "name": "stderr",
     "output_type": "stream",
     "text": [
      "\n",
      "\n",
      "\n",
      "\n",
      "\n",
      "\n",
      "\n",
      "\n",
      "\n",
      "\n",
      "\n",
      " 37%|███▋      | 111/300 [56:41<1:33:48, 29.78s/it]\u001b[A\u001b[A\u001b[A\u001b[A\u001b[A\u001b[A\u001b[A\u001b[A\u001b[A\u001b[A\u001b[A"
     ]
    },
    {
     "name": "stdout",
     "output_type": "stream",
     "text": [
      "typs is <class 'numpy.ndarray'>\n"
     ]
    },
    {
     "name": "stderr",
     "output_type": "stream",
     "text": [
      "\n",
      "\n",
      "\n",
      "\n",
      "\n",
      "\n",
      "\n",
      "\n",
      "\n",
      "\n",
      "\n",
      " 37%|███▋      | 112/300 [57:11<1:33:31, 29.85s/it]\u001b[A\u001b[A\u001b[A\u001b[A\u001b[A\u001b[A\u001b[A\u001b[A\u001b[A\u001b[A\u001b[A"
     ]
    },
    {
     "name": "stdout",
     "output_type": "stream",
     "text": [
      "typs is <class 'numpy.ndarray'>\n"
     ]
    },
    {
     "name": "stderr",
     "output_type": "stream",
     "text": [
      "\n",
      "\n",
      "\n",
      "\n",
      "\n",
      "\n",
      "\n",
      "\n",
      "\n",
      "\n",
      "\n",
      " 38%|███▊      | 113/300 [57:40<1:32:45, 29.76s/it]\u001b[A\u001b[A\u001b[A\u001b[A\u001b[A\u001b[A\u001b[A\u001b[A\u001b[A\u001b[A\u001b[A"
     ]
    },
    {
     "name": "stdout",
     "output_type": "stream",
     "text": [
      "typs is <class 'numpy.ndarray'>\n"
     ]
    },
    {
     "name": "stderr",
     "output_type": "stream",
     "text": [
      "\n",
      "\n",
      "\n",
      "\n",
      "\n",
      "\n",
      "\n",
      "\n",
      "\n",
      "\n",
      "\n",
      " 38%|███▊      | 114/300 [58:09<1:31:53, 29.64s/it]\u001b[A\u001b[A\u001b[A\u001b[A\u001b[A\u001b[A\u001b[A\u001b[A\u001b[A\u001b[A\u001b[A"
     ]
    },
    {
     "name": "stdout",
     "output_type": "stream",
     "text": [
      "typs is <class 'numpy.ndarray'>\n"
     ]
    },
    {
     "name": "stderr",
     "output_type": "stream",
     "text": [
      "\n",
      "\n",
      "\n",
      "\n",
      "\n",
      "\n",
      "\n",
      "\n",
      "\n",
      "\n",
      "\n",
      " 38%|███▊      | 115/300 [58:39<1:31:00, 29.52s/it]\u001b[A\u001b[A\u001b[A\u001b[A\u001b[A\u001b[A\u001b[A\u001b[A\u001b[A\u001b[A\u001b[A"
     ]
    },
    {
     "name": "stdout",
     "output_type": "stream",
     "text": [
      "typs is <class 'numpy.ndarray'>\n"
     ]
    },
    {
     "name": "stderr",
     "output_type": "stream",
     "text": [
      "\n",
      "\n",
      "\n",
      "\n",
      "\n",
      "\n",
      "\n",
      "\n",
      "\n",
      "\n",
      "\n",
      " 39%|███▊      | 116/300 [59:08<1:30:20, 29.46s/it]\u001b[A\u001b[A\u001b[A\u001b[A\u001b[A\u001b[A\u001b[A\u001b[A\u001b[A\u001b[A\u001b[A"
     ]
    },
    {
     "name": "stdout",
     "output_type": "stream",
     "text": [
      "typs is <class 'numpy.ndarray'>\n"
     ]
    },
    {
     "name": "stderr",
     "output_type": "stream",
     "text": [
      "\n",
      "\n",
      "\n",
      "\n",
      "\n",
      "\n",
      "\n",
      "\n",
      "\n",
      "\n",
      "\n",
      " 39%|███▉      | 117/300 [59:38<1:29:55, 29.48s/it]\u001b[A\u001b[A\u001b[A\u001b[A\u001b[A\u001b[A\u001b[A\u001b[A\u001b[A\u001b[A\u001b[A"
     ]
    },
    {
     "name": "stdout",
     "output_type": "stream",
     "text": [
      "typs is <class 'numpy.ndarray'>\n"
     ]
    },
    {
     "name": "stderr",
     "output_type": "stream",
     "text": [
      "\n",
      "\n",
      "\n",
      "\n",
      "\n",
      "\n",
      "\n",
      "\n",
      "\n",
      "\n",
      "\n",
      " 39%|███▉      | 118/300 [1:00:07<1:29:25, 29.48s/it]\u001b[A\u001b[A\u001b[A\u001b[A\u001b[A\u001b[A\u001b[A\u001b[A\u001b[A\u001b[A\u001b[A"
     ]
    },
    {
     "name": "stdout",
     "output_type": "stream",
     "text": [
      "typs is <class 'numpy.ndarray'>\n"
     ]
    },
    {
     "name": "stderr",
     "output_type": "stream",
     "text": [
      "\n",
      "\n",
      "\n",
      "\n",
      "\n",
      "\n",
      "\n",
      "\n",
      "\n",
      "\n",
      "\n",
      " 40%|███▉      | 119/300 [1:00:36<1:28:49, 29.44s/it]\u001b[A\u001b[A\u001b[A\u001b[A\u001b[A\u001b[A\u001b[A\u001b[A\u001b[A\u001b[A\u001b[A"
     ]
    },
    {
     "name": "stdout",
     "output_type": "stream",
     "text": [
      "typs is <class 'numpy.ndarray'>\n"
     ]
    },
    {
     "name": "stderr",
     "output_type": "stream",
     "text": [
      "\n",
      "\n",
      "\n",
      "\n",
      "\n",
      "\n",
      "\n",
      "\n",
      "\n",
      "\n",
      "\n",
      " 40%|████      | 120/300 [1:01:06<1:28:12, 29.40s/it]\u001b[A\u001b[A\u001b[A\u001b[A\u001b[A\u001b[A\u001b[A\u001b[A\u001b[A\u001b[A\u001b[A"
     ]
    },
    {
     "name": "stdout",
     "output_type": "stream",
     "text": [
      "typs is <class 'numpy.ndarray'>\n"
     ]
    },
    {
     "name": "stderr",
     "output_type": "stream",
     "text": [
      "\n",
      "\n",
      "\n",
      "\n",
      "\n",
      "\n",
      "\n",
      "\n",
      "\n",
      "\n",
      "\n",
      " 40%|████      | 121/300 [1:01:35<1:27:47, 29.43s/it]\u001b[A\u001b[A\u001b[A\u001b[A\u001b[A\u001b[A\u001b[A\u001b[A\u001b[A\u001b[A\u001b[A"
     ]
    },
    {
     "name": "stdout",
     "output_type": "stream",
     "text": [
      "typs is <class 'numpy.ndarray'>\n"
     ]
    },
    {
     "name": "stderr",
     "output_type": "stream",
     "text": [
      "\n",
      "\n",
      "\n",
      "\n",
      "\n",
      "\n",
      "\n",
      "\n",
      "\n",
      "\n",
      "\n",
      " 41%|████      | 122/300 [1:02:05<1:27:30, 29.50s/it]\u001b[A\u001b[A\u001b[A\u001b[A\u001b[A\u001b[A\u001b[A\u001b[A\u001b[A\u001b[A\u001b[A"
     ]
    },
    {
     "name": "stdout",
     "output_type": "stream",
     "text": [
      "typs is <class 'numpy.ndarray'>\n"
     ]
    },
    {
     "name": "stderr",
     "output_type": "stream",
     "text": [
      "\n",
      "\n",
      "\n",
      "\n",
      "\n",
      "\n",
      "\n",
      "\n",
      "\n",
      "\n",
      "\n",
      " 41%|████      | 123/300 [1:02:34<1:26:56, 29.47s/it]\u001b[A\u001b[A\u001b[A\u001b[A\u001b[A\u001b[A\u001b[A\u001b[A\u001b[A\u001b[A\u001b[A"
     ]
    },
    {
     "name": "stdout",
     "output_type": "stream",
     "text": [
      "typs is <class 'numpy.ndarray'>\n"
     ]
    },
    {
     "name": "stderr",
     "output_type": "stream",
     "text": [
      "\n",
      "\n",
      "\n",
      "\n",
      "\n",
      "\n",
      "\n",
      "\n",
      "\n",
      "\n",
      "\n",
      " 41%|████▏     | 124/300 [1:03:04<1:26:30, 29.49s/it]\u001b[A\u001b[A\u001b[A\u001b[A\u001b[A\u001b[A\u001b[A\u001b[A\u001b[A\u001b[A\u001b[A"
     ]
    },
    {
     "name": "stdout",
     "output_type": "stream",
     "text": [
      "typs is <class 'numpy.ndarray'>\n"
     ]
    },
    {
     "name": "stderr",
     "output_type": "stream",
     "text": [
      "\n",
      "\n",
      "\n",
      "\n",
      "\n",
      "\n",
      "\n",
      "\n",
      "\n",
      "\n",
      "\n",
      " 42%|████▏     | 125/300 [1:03:33<1:25:53, 29.45s/it]\u001b[A\u001b[A\u001b[A\u001b[A\u001b[A\u001b[A\u001b[A\u001b[A\u001b[A\u001b[A\u001b[A"
     ]
    },
    {
     "name": "stdout",
     "output_type": "stream",
     "text": [
      "typs is <class 'numpy.ndarray'>\n"
     ]
    },
    {
     "name": "stderr",
     "output_type": "stream",
     "text": [
      "\n",
      "\n",
      "\n",
      "\n",
      "\n",
      "\n",
      "\n",
      "\n",
      "\n",
      "\n",
      "\n",
      " 42%|████▏     | 126/300 [1:04:03<1:25:26, 29.46s/it]\u001b[A\u001b[A\u001b[A\u001b[A\u001b[A\u001b[A\u001b[A\u001b[A\u001b[A\u001b[A\u001b[A"
     ]
    },
    {
     "name": "stdout",
     "output_type": "stream",
     "text": [
      "typs is <class 'numpy.ndarray'>\n"
     ]
    },
    {
     "name": "stderr",
     "output_type": "stream",
     "text": [
      "\n",
      "\n",
      "\n",
      "\n",
      "\n",
      "\n",
      "\n",
      "\n",
      "\n",
      "\n",
      "\n",
      " 42%|████▏     | 127/300 [1:04:32<1:25:01, 29.49s/it]\u001b[A\u001b[A\u001b[A\u001b[A\u001b[A\u001b[A\u001b[A\u001b[A\u001b[A\u001b[A\u001b[A"
     ]
    },
    {
     "name": "stdout",
     "output_type": "stream",
     "text": [
      "typs is <class 'numpy.ndarray'>\n"
     ]
    },
    {
     "name": "stderr",
     "output_type": "stream",
     "text": [
      "\n",
      "\n",
      "\n",
      "\n",
      "\n",
      "\n",
      "\n",
      "\n",
      "\n",
      "\n",
      "\n",
      " 43%|████▎     | 128/300 [1:05:02<1:24:27, 29.46s/it]\u001b[A\u001b[A\u001b[A\u001b[A\u001b[A\u001b[A\u001b[A\u001b[A\u001b[A\u001b[A\u001b[A"
     ]
    },
    {
     "name": "stdout",
     "output_type": "stream",
     "text": [
      "typs is <class 'numpy.ndarray'>\n"
     ]
    },
    {
     "name": "stderr",
     "output_type": "stream",
     "text": [
      "\n",
      "\n",
      "\n",
      "\n",
      "\n",
      "\n",
      "\n",
      "\n",
      "\n",
      "\n",
      "\n",
      " 43%|████▎     | 129/300 [1:05:31<1:23:53, 29.44s/it]\u001b[A\u001b[A\u001b[A\u001b[A\u001b[A\u001b[A\u001b[A\u001b[A\u001b[A\u001b[A\u001b[A"
     ]
    },
    {
     "name": "stdout",
     "output_type": "stream",
     "text": [
      "typs is <class 'numpy.ndarray'>\n"
     ]
    },
    {
     "name": "stderr",
     "output_type": "stream",
     "text": [
      "\n",
      "\n",
      "\n",
      "\n",
      "\n",
      "\n",
      "\n",
      "\n",
      "\n",
      "\n",
      "\n",
      " 43%|████▎     | 130/300 [1:06:00<1:23:25, 29.44s/it]\u001b[A\u001b[A\u001b[A\u001b[A\u001b[A\u001b[A\u001b[A\u001b[A\u001b[A\u001b[A\u001b[A"
     ]
    },
    {
     "name": "stdout",
     "output_type": "stream",
     "text": [
      "typs is <class 'numpy.ndarray'>\n"
     ]
    },
    {
     "name": "stderr",
     "output_type": "stream",
     "text": [
      "\n",
      "\n",
      "\n",
      "\n",
      "\n",
      "\n",
      "\n",
      "\n",
      "\n",
      "\n",
      "\n",
      " 44%|████▎     | 131/300 [1:06:30<1:22:51, 29.41s/it]\u001b[A\u001b[A\u001b[A\u001b[A\u001b[A\u001b[A\u001b[A\u001b[A\u001b[A\u001b[A\u001b[A"
     ]
    },
    {
     "name": "stdout",
     "output_type": "stream",
     "text": [
      "typs is <class 'numpy.ndarray'>\n"
     ]
    },
    {
     "name": "stderr",
     "output_type": "stream",
     "text": [
      "\n",
      "\n",
      "\n",
      "\n",
      "\n",
      "\n",
      "\n",
      "\n",
      "\n",
      "\n",
      "\n",
      " 44%|████▍     | 132/300 [1:06:59<1:22:11, 29.35s/it]\u001b[A\u001b[A\u001b[A\u001b[A\u001b[A\u001b[A\u001b[A\u001b[A\u001b[A\u001b[A\u001b[A"
     ]
    },
    {
     "name": "stdout",
     "output_type": "stream",
     "text": [
      "typs is <class 'numpy.ndarray'>\n"
     ]
    },
    {
     "name": "stderr",
     "output_type": "stream",
     "text": [
      "\n",
      "\n",
      "\n",
      "\n",
      "\n",
      "\n",
      "\n",
      "\n",
      "\n",
      "\n",
      "\n",
      " 44%|████▍     | 133/300 [1:07:28<1:21:40, 29.34s/it]\u001b[A\u001b[A\u001b[A\u001b[A\u001b[A\u001b[A\u001b[A\u001b[A\u001b[A\u001b[A\u001b[A"
     ]
    },
    {
     "name": "stdout",
     "output_type": "stream",
     "text": [
      "typs is <class 'numpy.ndarray'>\n"
     ]
    },
    {
     "name": "stderr",
     "output_type": "stream",
     "text": [
      "\n",
      "\n",
      "\n",
      "\n",
      "\n",
      "\n",
      "\n",
      "\n",
      "\n",
      "\n",
      "\n",
      " 45%|████▍     | 134/300 [1:07:58<1:21:05, 29.31s/it]\u001b[A\u001b[A\u001b[A\u001b[A\u001b[A\u001b[A\u001b[A\u001b[A\u001b[A\u001b[A\u001b[A"
     ]
    },
    {
     "name": "stdout",
     "output_type": "stream",
     "text": [
      "typs is <class 'numpy.ndarray'>\n"
     ]
    },
    {
     "name": "stderr",
     "output_type": "stream",
     "text": [
      "\n",
      "\n",
      "\n",
      "\n",
      "\n",
      "\n",
      "\n",
      "\n",
      "\n",
      "\n",
      "\n",
      " 45%|████▌     | 135/300 [1:08:27<1:20:37, 29.32s/it]\u001b[A\u001b[A\u001b[A\u001b[A\u001b[A\u001b[A\u001b[A\u001b[A\u001b[A\u001b[A\u001b[A"
     ]
    },
    {
     "name": "stdout",
     "output_type": "stream",
     "text": [
      "typs is <class 'numpy.ndarray'>\n"
     ]
    },
    {
     "name": "stderr",
     "output_type": "stream",
     "text": [
      "\n",
      "\n",
      "\n",
      "\n",
      "\n",
      "\n",
      "\n",
      "\n",
      "\n",
      "\n",
      "\n",
      " 45%|████▌     | 136/300 [1:08:56<1:20:03, 29.29s/it]\u001b[A\u001b[A\u001b[A\u001b[A\u001b[A\u001b[A\u001b[A\u001b[A\u001b[A\u001b[A\u001b[A"
     ]
    },
    {
     "name": "stdout",
     "output_type": "stream",
     "text": [
      "typs is <class 'numpy.ndarray'>\n"
     ]
    },
    {
     "name": "stderr",
     "output_type": "stream",
     "text": [
      "\n",
      "\n",
      "\n",
      "\n",
      "\n",
      "\n",
      "\n",
      "\n",
      "\n",
      "\n",
      "\n",
      " 46%|████▌     | 137/300 [1:09:25<1:19:35, 29.30s/it]\u001b[A\u001b[A\u001b[A\u001b[A\u001b[A\u001b[A\u001b[A\u001b[A\u001b[A\u001b[A\u001b[A"
     ]
    },
    {
     "name": "stdout",
     "output_type": "stream",
     "text": [
      "typs is <class 'numpy.ndarray'>\n"
     ]
    },
    {
     "name": "stderr",
     "output_type": "stream",
     "text": [
      "\n",
      "\n",
      "\n",
      "\n",
      "\n",
      "\n",
      "\n",
      "\n",
      "\n",
      "\n",
      "\n",
      " 46%|████▌     | 138/300 [1:09:55<1:19:04, 29.29s/it]\u001b[A\u001b[A\u001b[A\u001b[A\u001b[A\u001b[A\u001b[A\u001b[A\u001b[A\u001b[A\u001b[A"
     ]
    },
    {
     "name": "stdout",
     "output_type": "stream",
     "text": [
      "typs is <class 'numpy.ndarray'>\n"
     ]
    },
    {
     "name": "stderr",
     "output_type": "stream",
     "text": [
      "\n",
      "\n",
      "\n",
      "\n",
      "\n",
      "\n",
      "\n",
      "\n",
      "\n",
      "\n",
      "\n",
      " 46%|████▋     | 139/300 [1:10:24<1:18:51, 29.39s/it]\u001b[A\u001b[A\u001b[A\u001b[A\u001b[A\u001b[A\u001b[A\u001b[A\u001b[A\u001b[A\u001b[A"
     ]
    },
    {
     "name": "stdout",
     "output_type": "stream",
     "text": [
      "typs is <class 'numpy.ndarray'>\n"
     ]
    },
    {
     "name": "stderr",
     "output_type": "stream",
     "text": [
      "\n",
      "\n",
      "\n",
      "\n",
      "\n",
      "\n",
      "\n",
      "\n",
      "\n",
      "\n",
      "\n",
      " 47%|████▋     | 140/300 [1:10:58<1:21:29, 30.56s/it]\u001b[A\u001b[A\u001b[A\u001b[A\u001b[A\u001b[A\u001b[A\u001b[A\u001b[A\u001b[A\u001b[A"
     ]
    },
    {
     "name": "stdout",
     "output_type": "stream",
     "text": [
      "typs is <class 'numpy.ndarray'>\n"
     ]
    },
    {
     "name": "stderr",
     "output_type": "stream",
     "text": [
      "\n",
      "\n",
      "\n",
      "\n",
      "\n",
      "\n",
      "\n",
      "\n",
      "\n",
      "\n",
      "\n",
      " 47%|████▋     | 141/300 [1:11:30<1:22:47, 31.24s/it]\u001b[A\u001b[A\u001b[A\u001b[A\u001b[A\u001b[A\u001b[A\u001b[A\u001b[A\u001b[A\u001b[A"
     ]
    },
    {
     "name": "stdout",
     "output_type": "stream",
     "text": [
      "typs is <class 'numpy.ndarray'>\n"
     ]
    },
    {
     "name": "stderr",
     "output_type": "stream",
     "text": [
      "\n",
      "\n",
      "\n",
      "\n",
      "\n",
      "\n",
      "\n",
      "\n",
      "\n",
      "\n",
      "\n",
      " 47%|████▋     | 142/300 [1:12:01<1:21:46, 31.05s/it]\u001b[A\u001b[A\u001b[A\u001b[A\u001b[A\u001b[A\u001b[A\u001b[A\u001b[A\u001b[A\u001b[A"
     ]
    },
    {
     "name": "stdout",
     "output_type": "stream",
     "text": [
      "typs is <class 'numpy.ndarray'>\n"
     ]
    },
    {
     "name": "stderr",
     "output_type": "stream",
     "text": [
      "\n",
      "\n",
      "\n",
      "\n",
      "\n",
      "\n",
      "\n",
      "\n",
      "\n",
      "\n",
      "\n",
      " 48%|████▊     | 143/300 [1:12:30<1:19:53, 30.53s/it]\u001b[A\u001b[A\u001b[A\u001b[A\u001b[A\u001b[A\u001b[A\u001b[A\u001b[A\u001b[A\u001b[A"
     ]
    },
    {
     "name": "stdout",
     "output_type": "stream",
     "text": [
      "typs is <class 'numpy.ndarray'>\n"
     ]
    },
    {
     "name": "stderr",
     "output_type": "stream",
     "text": [
      "\n",
      "\n",
      "\n",
      "\n",
      "\n",
      "\n",
      "\n",
      "\n",
      "\n",
      "\n",
      "\n",
      " 48%|████▊     | 144/300 [1:13:00<1:18:26, 30.17s/it]\u001b[A\u001b[A\u001b[A\u001b[A\u001b[A\u001b[A\u001b[A\u001b[A\u001b[A\u001b[A\u001b[A"
     ]
    },
    {
     "name": "stdout",
     "output_type": "stream",
     "text": [
      "typs is <class 'numpy.ndarray'>\n"
     ]
    },
    {
     "name": "stderr",
     "output_type": "stream",
     "text": [
      "\n",
      "\n",
      "\n",
      "\n",
      "\n",
      "\n",
      "\n",
      "\n",
      "\n",
      "\n",
      "\n",
      " 48%|████▊     | 145/300 [1:13:29<1:17:23, 29.96s/it]\u001b[A\u001b[A\u001b[A\u001b[A\u001b[A\u001b[A\u001b[A\u001b[A\u001b[A\u001b[A\u001b[A"
     ]
    },
    {
     "name": "stdout",
     "output_type": "stream",
     "text": [
      "typs is <class 'numpy.ndarray'>\n"
     ]
    },
    {
     "name": "stderr",
     "output_type": "stream",
     "text": [
      "\n",
      "\n",
      "\n",
      "\n",
      "\n",
      "\n",
      "\n",
      "\n",
      "\n",
      "\n",
      "\n",
      " 49%|████▊     | 146/300 [1:14:01<1:18:05, 30.42s/it]\u001b[A\u001b[A\u001b[A\u001b[A\u001b[A\u001b[A\u001b[A\u001b[A\u001b[A\u001b[A\u001b[A"
     ]
    },
    {
     "name": "stdout",
     "output_type": "stream",
     "text": [
      "typs is <class 'numpy.ndarray'>\n"
     ]
    },
    {
     "name": "stderr",
     "output_type": "stream",
     "text": [
      "\n",
      "\n",
      "\n",
      "\n",
      "\n",
      "\n",
      "\n",
      "\n",
      "\n",
      "\n",
      "\n",
      " 49%|████▉     | 147/300 [1:14:33<1:18:41, 30.86s/it]\u001b[A\u001b[A\u001b[A\u001b[A\u001b[A\u001b[A\u001b[A\u001b[A\u001b[A\u001b[A\u001b[A"
     ]
    },
    {
     "name": "stdout",
     "output_type": "stream",
     "text": [
      "typs is <class 'numpy.ndarray'>\n"
     ]
    },
    {
     "name": "stderr",
     "output_type": "stream",
     "text": [
      "\n",
      "\n",
      "\n",
      "\n",
      "\n",
      "\n",
      "\n",
      "\n",
      "\n",
      "\n",
      "\n",
      " 49%|████▉     | 148/300 [1:15:04<1:18:18, 30.91s/it]\u001b[A\u001b[A\u001b[A\u001b[A\u001b[A\u001b[A\u001b[A\u001b[A\u001b[A\u001b[A\u001b[A"
     ]
    },
    {
     "name": "stdout",
     "output_type": "stream",
     "text": [
      "typs is <class 'numpy.ndarray'>\n"
     ]
    },
    {
     "name": "stderr",
     "output_type": "stream",
     "text": [
      "\n",
      "\n",
      "\n",
      "\n",
      "\n",
      "\n",
      "\n",
      "\n",
      "\n",
      "\n",
      "\n",
      " 50%|████▉     | 149/300 [1:15:37<1:19:36, 31.63s/it]\u001b[A\u001b[A\u001b[A\u001b[A\u001b[A\u001b[A\u001b[A\u001b[A\u001b[A\u001b[A\u001b[A"
     ]
    },
    {
     "name": "stdout",
     "output_type": "stream",
     "text": [
      "typs is <class 'numpy.ndarray'>\n"
     ]
    },
    {
     "name": "stderr",
     "output_type": "stream",
     "text": [
      "\n",
      "\n",
      "\n",
      "\n",
      "\n",
      "\n",
      "\n",
      "\n",
      "\n",
      "\n",
      "\n",
      " 50%|█████     | 150/300 [1:16:08<1:18:53, 31.55s/it]\u001b[A\u001b[A\u001b[A\u001b[A\u001b[A\u001b[A\u001b[A\u001b[A\u001b[A\u001b[A\u001b[A"
     ]
    },
    {
     "name": "stdout",
     "output_type": "stream",
     "text": [
      "typs is <class 'numpy.ndarray'>\n"
     ]
    },
    {
     "name": "stderr",
     "output_type": "stream",
     "text": [
      "\n",
      "\n",
      "\n",
      "\n",
      "\n",
      "\n",
      "\n",
      "\n",
      "\n",
      "\n",
      "\n",
      " 50%|█████     | 151/300 [1:16:40<1:18:19, 31.54s/it]\u001b[A\u001b[A\u001b[A\u001b[A\u001b[A\u001b[A\u001b[A\u001b[A\u001b[A\u001b[A\u001b[A"
     ]
    },
    {
     "name": "stdout",
     "output_type": "stream",
     "text": [
      "typs is <class 'numpy.ndarray'>\n"
     ]
    },
    {
     "name": "stderr",
     "output_type": "stream",
     "text": [
      "\n",
      "\n",
      "\n",
      "\n",
      "\n",
      "\n",
      "\n",
      "\n",
      "\n",
      "\n",
      "\n",
      " 51%|█████     | 152/300 [1:17:09<1:16:08, 30.87s/it]\u001b[A\u001b[A\u001b[A\u001b[A\u001b[A\u001b[A\u001b[A\u001b[A\u001b[A\u001b[A\u001b[A"
     ]
    },
    {
     "name": "stdout",
     "output_type": "stream",
     "text": [
      "typs is <class 'numpy.ndarray'>\n"
     ]
    },
    {
     "name": "stderr",
     "output_type": "stream",
     "text": [
      "\n",
      "\n",
      "\n",
      "\n",
      "\n",
      "\n",
      "\n",
      "\n",
      "\n",
      "\n",
      "\n",
      " 51%|█████     | 153/300 [1:17:38<1:14:17, 30.32s/it]\u001b[A\u001b[A\u001b[A\u001b[A\u001b[A\u001b[A\u001b[A\u001b[A\u001b[A\u001b[A\u001b[A"
     ]
    },
    {
     "name": "stdout",
     "output_type": "stream",
     "text": [
      "typs is <class 'numpy.ndarray'>\n"
     ]
    },
    {
     "name": "stderr",
     "output_type": "stream",
     "text": [
      "\n",
      "\n",
      "\n",
      "\n",
      "\n",
      "\n",
      "\n",
      "\n",
      "\n",
      "\n",
      "\n",
      " 51%|█████▏    | 154/300 [1:18:07<1:12:48, 29.92s/it]\u001b[A\u001b[A\u001b[A\u001b[A\u001b[A\u001b[A\u001b[A\u001b[A\u001b[A\u001b[A\u001b[A"
     ]
    },
    {
     "name": "stdout",
     "output_type": "stream",
     "text": [
      "typs is <class 'numpy.ndarray'>\n"
     ]
    },
    {
     "name": "stderr",
     "output_type": "stream",
     "text": [
      "\n",
      "\n",
      "\n",
      "\n",
      "\n",
      "\n",
      "\n",
      "\n",
      "\n",
      "\n",
      "\n",
      " 52%|█████▏    | 155/300 [1:18:37<1:12:16, 29.90s/it]\u001b[A\u001b[A\u001b[A\u001b[A\u001b[A\u001b[A\u001b[A\u001b[A\u001b[A\u001b[A\u001b[A"
     ]
    },
    {
     "name": "stdout",
     "output_type": "stream",
     "text": [
      "typs is <class 'numpy.ndarray'>\n"
     ]
    },
    {
     "name": "stderr",
     "output_type": "stream",
     "text": [
      "\n",
      "\n",
      "\n",
      "\n",
      "\n",
      "\n",
      "\n",
      "\n",
      "\n",
      "\n",
      "\n",
      " 52%|█████▏    | 156/300 [1:19:06<1:11:10, 29.66s/it]\u001b[A\u001b[A\u001b[A\u001b[A\u001b[A\u001b[A\u001b[A\u001b[A\u001b[A\u001b[A\u001b[A"
     ]
    },
    {
     "name": "stdout",
     "output_type": "stream",
     "text": [
      "typs is <class 'numpy.ndarray'>\n"
     ]
    },
    {
     "name": "stderr",
     "output_type": "stream",
     "text": [
      "\n",
      "\n",
      "\n",
      "\n",
      "\n",
      "\n",
      "\n",
      "\n",
      "\n",
      "\n",
      "\n",
      " 52%|█████▏    | 157/300 [1:19:35<1:10:13, 29.46s/it]\u001b[A\u001b[A\u001b[A\u001b[A\u001b[A\u001b[A\u001b[A\u001b[A\u001b[A\u001b[A\u001b[A"
     ]
    },
    {
     "name": "stdout",
     "output_type": "stream",
     "text": [
      "typs is <class 'numpy.ndarray'>\n"
     ]
    },
    {
     "name": "stderr",
     "output_type": "stream",
     "text": [
      "\n",
      "\n",
      "\n",
      "\n",
      "\n",
      "\n",
      "\n",
      "\n",
      "\n",
      "\n",
      "\n",
      " 53%|█████▎    | 158/300 [1:20:06<1:10:58, 29.99s/it]\u001b[A\u001b[A\u001b[A\u001b[A\u001b[A\u001b[A\u001b[A\u001b[A\u001b[A\u001b[A\u001b[A"
     ]
    },
    {
     "name": "stdout",
     "output_type": "stream",
     "text": [
      "typs is <class 'numpy.ndarray'>\n"
     ]
    },
    {
     "name": "stderr",
     "output_type": "stream",
     "text": [
      "\n",
      "\n",
      "\n",
      "\n",
      "\n",
      "\n",
      "\n",
      "\n",
      "\n",
      "\n",
      "\n",
      " 53%|█████▎    | 159/300 [1:20:38<1:11:30, 30.43s/it]\u001b[A\u001b[A\u001b[A\u001b[A\u001b[A\u001b[A\u001b[A\u001b[A\u001b[A\u001b[A\u001b[A"
     ]
    },
    {
     "name": "stdout",
     "output_type": "stream",
     "text": [
      "typs is <class 'numpy.ndarray'>\n"
     ]
    },
    {
     "name": "stderr",
     "output_type": "stream",
     "text": [
      "\n",
      "\n",
      "\n",
      "\n",
      "\n",
      "\n",
      "\n",
      "\n",
      "\n",
      "\n",
      "\n",
      " 53%|█████▎    | 160/300 [1:21:08<1:11:11, 30.51s/it]\u001b[A\u001b[A\u001b[A\u001b[A\u001b[A\u001b[A\u001b[A\u001b[A\u001b[A\u001b[A\u001b[A"
     ]
    },
    {
     "name": "stdout",
     "output_type": "stream",
     "text": [
      "typs is <class 'numpy.ndarray'>\n"
     ]
    },
    {
     "name": "stderr",
     "output_type": "stream",
     "text": [
      "\n",
      "\n",
      "\n",
      "\n",
      "\n",
      "\n",
      "\n",
      "\n",
      "\n",
      "\n",
      "\n",
      " 54%|█████▎    | 161/300 [1:21:40<1:11:28, 30.85s/it]\u001b[A\u001b[A\u001b[A\u001b[A\u001b[A\u001b[A\u001b[A\u001b[A\u001b[A\u001b[A\u001b[A"
     ]
    },
    {
     "name": "stdout",
     "output_type": "stream",
     "text": [
      "typs is <class 'numpy.ndarray'>\n"
     ]
    },
    {
     "name": "stderr",
     "output_type": "stream",
     "text": [
      "\n",
      "\n",
      "\n",
      "\n",
      "\n",
      "\n",
      "\n",
      "\n",
      "\n",
      "\n",
      "\n",
      " 54%|█████▍    | 162/300 [1:22:12<1:11:54, 31.27s/it]\u001b[A\u001b[A\u001b[A\u001b[A\u001b[A\u001b[A\u001b[A\u001b[A\u001b[A\u001b[A\u001b[A"
     ]
    },
    {
     "name": "stdout",
     "output_type": "stream",
     "text": [
      "typs is <class 'numpy.ndarray'>\n"
     ]
    },
    {
     "name": "stderr",
     "output_type": "stream",
     "text": [
      "\n",
      "\n",
      "\n",
      "\n",
      "\n",
      "\n",
      "\n",
      "\n",
      "\n",
      "\n",
      "\n",
      " 54%|█████▍    | 163/300 [1:22:45<1:12:15, 31.65s/it]\u001b[A\u001b[A\u001b[A\u001b[A\u001b[A\u001b[A\u001b[A\u001b[A\u001b[A\u001b[A\u001b[A"
     ]
    },
    {
     "name": "stdout",
     "output_type": "stream",
     "text": [
      "typs is <class 'numpy.ndarray'>\n"
     ]
    },
    {
     "name": "stderr",
     "output_type": "stream",
     "text": [
      "\n",
      "\n",
      "\n",
      "\n",
      "\n",
      "\n",
      "\n",
      "\n",
      "\n",
      "\n",
      "\n",
      " 55%|█████▍    | 164/300 [1:23:17<1:12:11, 31.85s/it]\u001b[A\u001b[A\u001b[A\u001b[A\u001b[A\u001b[A\u001b[A\u001b[A\u001b[A\u001b[A\u001b[A"
     ]
    },
    {
     "name": "stdout",
     "output_type": "stream",
     "text": [
      "typs is <class 'numpy.ndarray'>\n"
     ]
    },
    {
     "name": "stderr",
     "output_type": "stream",
     "text": [
      "\n",
      "\n",
      "\n",
      "\n",
      "\n",
      "\n",
      "\n",
      "\n",
      "\n",
      "\n",
      "\n",
      " 55%|█████▌    | 165/300 [1:23:46<1:09:48, 31.02s/it]\u001b[A\u001b[A\u001b[A\u001b[A\u001b[A\u001b[A\u001b[A\u001b[A\u001b[A\u001b[A\u001b[A"
     ]
    },
    {
     "name": "stdout",
     "output_type": "stream",
     "text": [
      "typs is <class 'numpy.ndarray'>\n"
     ]
    },
    {
     "name": "stderr",
     "output_type": "stream",
     "text": [
      "\n",
      "\n",
      "\n",
      "\n",
      "\n",
      "\n",
      "\n",
      "\n",
      "\n",
      "\n",
      "\n",
      " 55%|█████▌    | 166/300 [1:24:16<1:08:12, 30.54s/it]\u001b[A\u001b[A\u001b[A\u001b[A\u001b[A\u001b[A\u001b[A\u001b[A\u001b[A\u001b[A\u001b[A"
     ]
    },
    {
     "name": "stdout",
     "output_type": "stream",
     "text": [
      "typs is <class 'numpy.ndarray'>\n"
     ]
    },
    {
     "name": "stderr",
     "output_type": "stream",
     "text": [
      "\n",
      "\n",
      "\n",
      "\n",
      "\n",
      "\n",
      "\n",
      "\n",
      "\n",
      "\n",
      "\n",
      " 56%|█████▌    | 167/300 [1:24:45<1:06:52, 30.17s/it]\u001b[A\u001b[A\u001b[A\u001b[A\u001b[A\u001b[A\u001b[A\u001b[A\u001b[A\u001b[A\u001b[A"
     ]
    },
    {
     "name": "stdout",
     "output_type": "stream",
     "text": [
      "typs is <class 'numpy.ndarray'>\n"
     ]
    },
    {
     "name": "stderr",
     "output_type": "stream",
     "text": [
      "\n",
      "\n",
      "\n",
      "\n",
      "\n",
      "\n",
      "\n",
      "\n",
      "\n",
      "\n",
      "\n",
      " 56%|█████▌    | 168/300 [1:25:16<1:06:39, 30.30s/it]\u001b[A\u001b[A\u001b[A\u001b[A\u001b[A\u001b[A\u001b[A\u001b[A\u001b[A\u001b[A\u001b[A"
     ]
    },
    {
     "name": "stdout",
     "output_type": "stream",
     "text": [
      "typs is <class 'numpy.ndarray'>\n"
     ]
    },
    {
     "name": "stderr",
     "output_type": "stream",
     "text": [
      "\n",
      "\n",
      "\n",
      "\n",
      "\n",
      "\n",
      "\n",
      "\n",
      "\n",
      "\n",
      "\n",
      " 56%|█████▋    | 169/300 [1:25:45<1:05:42, 30.09s/it]\u001b[A\u001b[A\u001b[A\u001b[A\u001b[A\u001b[A\u001b[A\u001b[A\u001b[A\u001b[A\u001b[A"
     ]
    },
    {
     "name": "stdout",
     "output_type": "stream",
     "text": [
      "typs is <class 'numpy.ndarray'>\n"
     ]
    },
    {
     "name": "stderr",
     "output_type": "stream",
     "text": [
      "\n",
      "\n",
      "\n",
      "\n",
      "\n",
      "\n",
      "\n",
      "\n",
      "\n",
      "\n",
      "\n",
      " 57%|█████▋    | 170/300 [1:26:14<1:04:40, 29.85s/it]\u001b[A\u001b[A\u001b[A\u001b[A\u001b[A\u001b[A\u001b[A\u001b[A\u001b[A\u001b[A\u001b[A"
     ]
    },
    {
     "name": "stdout",
     "output_type": "stream",
     "text": [
      "typs is <class 'numpy.ndarray'>\n"
     ]
    },
    {
     "name": "stderr",
     "output_type": "stream",
     "text": [
      "\n",
      "\n",
      "\n",
      "\n",
      "\n",
      "\n",
      "\n",
      "\n",
      "\n",
      "\n",
      "\n",
      " 57%|█████▋    | 171/300 [1:26:45<1:04:45, 30.12s/it]\u001b[A\u001b[A\u001b[A\u001b[A\u001b[A\u001b[A\u001b[A\u001b[A\u001b[A\u001b[A\u001b[A"
     ]
    },
    {
     "name": "stdout",
     "output_type": "stream",
     "text": [
      "typs is <class 'numpy.ndarray'>\n"
     ]
    },
    {
     "name": "stderr",
     "output_type": "stream",
     "text": [
      "\n",
      "\n",
      "\n",
      "\n",
      "\n",
      "\n",
      "\n",
      "\n",
      "\n",
      "\n",
      "\n",
      " 57%|█████▋    | 172/300 [1:27:16<1:04:23, 30.18s/it]\u001b[A\u001b[A\u001b[A\u001b[A\u001b[A\u001b[A\u001b[A\u001b[A\u001b[A\u001b[A\u001b[A"
     ]
    },
    {
     "name": "stdout",
     "output_type": "stream",
     "text": [
      "typs is <class 'numpy.ndarray'>\n"
     ]
    },
    {
     "name": "stderr",
     "output_type": "stream",
     "text": [
      "\n",
      "\n",
      "\n",
      "\n",
      "\n",
      "\n",
      "\n",
      "\n",
      "\n",
      "\n",
      "\n",
      " 58%|█████▊    | 173/300 [1:27:49<1:06:09, 31.26s/it]\u001b[A\u001b[A\u001b[A\u001b[A\u001b[A\u001b[A\u001b[A\u001b[A\u001b[A\u001b[A\u001b[A"
     ]
    },
    {
     "name": "stdout",
     "output_type": "stream",
     "text": [
      "typs is <class 'numpy.ndarray'>\n"
     ]
    },
    {
     "name": "stderr",
     "output_type": "stream",
     "text": [
      "\n",
      "\n",
      "\n",
      "\n",
      "\n",
      "\n",
      "\n",
      "\n",
      "\n",
      "\n",
      "\n",
      " 58%|█████▊    | 174/300 [1:28:21<1:05:40, 31.27s/it]\u001b[A\u001b[A\u001b[A\u001b[A\u001b[A\u001b[A\u001b[A\u001b[A\u001b[A\u001b[A\u001b[A"
     ]
    },
    {
     "name": "stdout",
     "output_type": "stream",
     "text": [
      "typs is <class 'numpy.ndarray'>\n"
     ]
    },
    {
     "name": "stderr",
     "output_type": "stream",
     "text": [
      "\n",
      "\n",
      "\n",
      "\n",
      "\n",
      "\n",
      "\n",
      "\n",
      "\n",
      "\n",
      "\n",
      " 58%|█████▊    | 175/300 [1:28:53<1:05:43, 31.55s/it]\u001b[A\u001b[A\u001b[A\u001b[A\u001b[A\u001b[A\u001b[A\u001b[A\u001b[A\u001b[A\u001b[A"
     ]
    },
    {
     "name": "stdout",
     "output_type": "stream",
     "text": [
      "typs is <class 'numpy.ndarray'>\n"
     ]
    },
    {
     "name": "stderr",
     "output_type": "stream",
     "text": [
      "\n",
      "\n",
      "\n",
      "\n",
      "\n",
      "\n",
      "\n",
      "\n",
      "\n",
      "\n",
      "\n",
      " 59%|█████▊    | 176/300 [1:29:23<1:04:38, 31.28s/it]\u001b[A\u001b[A\u001b[A\u001b[A\u001b[A\u001b[A\u001b[A\u001b[A\u001b[A\u001b[A\u001b[A"
     ]
    },
    {
     "name": "stdout",
     "output_type": "stream",
     "text": [
      "typs is <class 'numpy.ndarray'>\n"
     ]
    },
    {
     "name": "stderr",
     "output_type": "stream",
     "text": [
      "\n",
      "\n",
      "\n",
      "\n",
      "\n",
      "\n",
      "\n",
      "\n",
      "\n",
      "\n",
      "\n",
      " 59%|█████▉    | 177/300 [1:29:54<1:03:44, 31.09s/it]\u001b[A\u001b[A\u001b[A\u001b[A\u001b[A\u001b[A\u001b[A\u001b[A\u001b[A\u001b[A\u001b[A"
     ]
    },
    {
     "name": "stdout",
     "output_type": "stream",
     "text": [
      "typs is <class 'numpy.ndarray'>\n"
     ]
    },
    {
     "name": "stderr",
     "output_type": "stream",
     "text": [
      "\n",
      "\n",
      "\n",
      "\n",
      "\n",
      "\n",
      "\n",
      "\n",
      "\n",
      "\n",
      "\n",
      " 59%|█████▉    | 178/300 [1:30:26<1:03:38, 31.30s/it]\u001b[A\u001b[A\u001b[A\u001b[A\u001b[A\u001b[A\u001b[A\u001b[A\u001b[A\u001b[A\u001b[A"
     ]
    },
    {
     "name": "stdout",
     "output_type": "stream",
     "text": [
      "typs is <class 'numpy.ndarray'>\n"
     ]
    },
    {
     "name": "stderr",
     "output_type": "stream",
     "text": [
      "\n",
      "\n",
      "\n",
      "\n",
      "\n",
      "\n",
      "\n",
      "\n",
      "\n",
      "\n",
      "\n",
      " 60%|█████▉    | 179/300 [1:30:56<1:02:35, 31.04s/it]\u001b[A\u001b[A\u001b[A\u001b[A\u001b[A\u001b[A\u001b[A\u001b[A\u001b[A\u001b[A\u001b[A"
     ]
    },
    {
     "name": "stdout",
     "output_type": "stream",
     "text": [
      "typs is <class 'numpy.ndarray'>\n"
     ]
    },
    {
     "name": "stderr",
     "output_type": "stream",
     "text": [
      "\n",
      "\n",
      "\n",
      "\n",
      "\n",
      "\n",
      "\n",
      "\n",
      "\n",
      "\n",
      "\n",
      " 60%|██████    | 180/300 [1:31:26<1:01:24, 30.70s/it]\u001b[A\u001b[A\u001b[A\u001b[A\u001b[A\u001b[A\u001b[A\u001b[A\u001b[A\u001b[A\u001b[A"
     ]
    },
    {
     "name": "stdout",
     "output_type": "stream",
     "text": [
      "typs is <class 'numpy.ndarray'>\n"
     ]
    },
    {
     "name": "stderr",
     "output_type": "stream",
     "text": [
      "\n",
      "\n",
      "\n",
      "\n",
      "\n",
      "\n",
      "\n",
      "\n",
      "\n",
      "\n",
      "\n",
      " 60%|██████    | 181/300 [1:31:57<1:01:02, 30.77s/it]\u001b[A\u001b[A\u001b[A\u001b[A\u001b[A\u001b[A\u001b[A\u001b[A\u001b[A\u001b[A\u001b[A"
     ]
    },
    {
     "name": "stdout",
     "output_type": "stream",
     "text": [
      "typs is <class 'numpy.ndarray'>\n"
     ]
    },
    {
     "name": "stderr",
     "output_type": "stream",
     "text": [
      "\n",
      "\n",
      "\n",
      "\n",
      "\n",
      "\n",
      "\n",
      "\n",
      "\n",
      "\n",
      "\n",
      " 61%|██████    | 182/300 [1:32:26<59:37, 30.32s/it]  \u001b[A\u001b[A\u001b[A\u001b[A\u001b[A\u001b[A\u001b[A\u001b[A\u001b[A\u001b[A\u001b[A"
     ]
    },
    {
     "name": "stdout",
     "output_type": "stream",
     "text": [
      "typs is <class 'numpy.ndarray'>\n"
     ]
    },
    {
     "name": "stderr",
     "output_type": "stream",
     "text": [
      "\n",
      "\n",
      "\n",
      "\n",
      "\n",
      "\n",
      "\n",
      "\n",
      "\n",
      "\n",
      "\n",
      " 61%|██████    | 183/300 [1:32:59<1:00:31, 31.04s/it]\u001b[A\u001b[A\u001b[A\u001b[A\u001b[A\u001b[A\u001b[A\u001b[A\u001b[A\u001b[A\u001b[A"
     ]
    },
    {
     "name": "stdout",
     "output_type": "stream",
     "text": [
      "typs is <class 'numpy.ndarray'>\n"
     ]
    },
    {
     "name": "stderr",
     "output_type": "stream",
     "text": [
      "\n",
      "\n",
      "\n",
      "\n",
      "\n",
      "\n",
      "\n",
      "\n",
      "\n",
      "\n",
      "\n",
      " 61%|██████▏   | 184/300 [1:33:31<1:00:17, 31.19s/it]\u001b[A\u001b[A\u001b[A\u001b[A\u001b[A\u001b[A\u001b[A\u001b[A\u001b[A\u001b[A\u001b[A"
     ]
    },
    {
     "name": "stdout",
     "output_type": "stream",
     "text": [
      "typs is <class 'numpy.ndarray'>\n"
     ]
    },
    {
     "name": "stderr",
     "output_type": "stream",
     "text": [
      "\n",
      "\n",
      "\n",
      "\n",
      "\n",
      "\n",
      "\n",
      "\n",
      "\n",
      "\n",
      "\n",
      " 62%|██████▏   | 185/300 [1:34:03<1:00:41, 31.67s/it]\u001b[A\u001b[A\u001b[A\u001b[A\u001b[A\u001b[A\u001b[A\u001b[A\u001b[A\u001b[A\u001b[A"
     ]
    },
    {
     "name": "stdout",
     "output_type": "stream",
     "text": [
      "typs is <class 'numpy.ndarray'>\n"
     ]
    },
    {
     "name": "stderr",
     "output_type": "stream",
     "text": [
      "\n",
      "\n",
      "\n",
      "\n",
      "\n",
      "\n",
      "\n",
      "\n",
      "\n",
      "\n",
      "\n",
      " 62%|██████▏   | 186/300 [1:34:34<59:42, 31.42s/it]  \u001b[A\u001b[A\u001b[A\u001b[A\u001b[A\u001b[A\u001b[A\u001b[A\u001b[A\u001b[A\u001b[A"
     ]
    },
    {
     "name": "stdout",
     "output_type": "stream",
     "text": [
      "typs is <class 'numpy.ndarray'>\n"
     ]
    },
    {
     "name": "stderr",
     "output_type": "stream",
     "text": [
      "\n",
      "\n",
      "\n",
      "\n",
      "\n",
      "\n",
      "\n",
      "\n",
      "\n",
      "\n",
      "\n",
      " 62%|██████▏   | 187/300 [1:35:07<1:00:01, 31.87s/it]\u001b[A\u001b[A\u001b[A\u001b[A\u001b[A\u001b[A\u001b[A\u001b[A\u001b[A\u001b[A\u001b[A"
     ]
    },
    {
     "name": "stdout",
     "output_type": "stream",
     "text": [
      "typs is <class 'numpy.ndarray'>\n"
     ]
    },
    {
     "name": "stderr",
     "output_type": "stream",
     "text": [
      "\n",
      "\n",
      "\n",
      "\n",
      "\n",
      "\n",
      "\n",
      "\n",
      "\n",
      "\n",
      "\n",
      " 63%|██████▎   | 188/300 [1:35:39<59:29, 31.87s/it]  \u001b[A\u001b[A\u001b[A\u001b[A\u001b[A\u001b[A\u001b[A\u001b[A\u001b[A\u001b[A\u001b[A"
     ]
    },
    {
     "name": "stdout",
     "output_type": "stream",
     "text": [
      "typs is <class 'numpy.ndarray'>\n"
     ]
    },
    {
     "name": "stderr",
     "output_type": "stream",
     "text": [
      "\n",
      "\n",
      "\n",
      "\n",
      "\n",
      "\n",
      "\n",
      "\n",
      "\n",
      "\n",
      "\n",
      " 63%|██████▎   | 189/300 [1:36:09<57:54, 31.31s/it]\u001b[A\u001b[A\u001b[A\u001b[A\u001b[A\u001b[A\u001b[A\u001b[A\u001b[A\u001b[A\u001b[A"
     ]
    },
    {
     "name": "stdout",
     "output_type": "stream",
     "text": [
      "typs is <class 'numpy.ndarray'>\n"
     ]
    },
    {
     "name": "stderr",
     "output_type": "stream",
     "text": [
      "\n",
      "\n",
      "\n",
      "\n",
      "\n",
      "\n",
      "\n",
      "\n",
      "\n",
      "\n",
      "\n",
      " 63%|██████▎   | 190/300 [1:36:40<56:53, 31.03s/it]\u001b[A\u001b[A\u001b[A\u001b[A\u001b[A\u001b[A\u001b[A\u001b[A\u001b[A\u001b[A\u001b[A"
     ]
    },
    {
     "name": "stdout",
     "output_type": "stream",
     "text": [
      "typs is <class 'numpy.ndarray'>\n"
     ]
    },
    {
     "name": "stderr",
     "output_type": "stream",
     "text": [
      "\n",
      "\n",
      "\n",
      "\n",
      "\n",
      "\n",
      "\n",
      "\n",
      "\n",
      "\n",
      "\n",
      " 64%|██████▎   | 191/300 [1:37:12<56:57, 31.35s/it]\u001b[A\u001b[A\u001b[A\u001b[A\u001b[A\u001b[A\u001b[A\u001b[A\u001b[A\u001b[A\u001b[A"
     ]
    },
    {
     "name": "stdout",
     "output_type": "stream",
     "text": [
      "typs is <class 'numpy.ndarray'>\n"
     ]
    },
    {
     "name": "stderr",
     "output_type": "stream",
     "text": [
      "\n",
      "\n",
      "\n",
      "\n",
      "\n",
      "\n",
      "\n",
      "\n",
      "\n",
      "\n",
      "\n",
      " 64%|██████▍   | 192/300 [1:37:42<55:50, 31.03s/it]\u001b[A\u001b[A\u001b[A\u001b[A\u001b[A\u001b[A\u001b[A\u001b[A\u001b[A\u001b[A\u001b[A"
     ]
    },
    {
     "name": "stdout",
     "output_type": "stream",
     "text": [
      "typs is <class 'numpy.ndarray'>\n"
     ]
    },
    {
     "name": "stderr",
     "output_type": "stream",
     "text": [
      "\n",
      "\n",
      "\n",
      "\n",
      "\n",
      "\n",
      "\n",
      "\n",
      "\n",
      "\n",
      "\n",
      " 64%|██████▍   | 193/300 [1:38:13<55:20, 31.03s/it]\u001b[A\u001b[A\u001b[A\u001b[A\u001b[A\u001b[A\u001b[A\u001b[A\u001b[A\u001b[A\u001b[A"
     ]
    },
    {
     "name": "stdout",
     "output_type": "stream",
     "text": [
      "typs is <class 'numpy.ndarray'>\n"
     ]
    },
    {
     "name": "stderr",
     "output_type": "stream",
     "text": [
      "\n",
      "\n",
      "\n",
      "\n",
      "\n",
      "\n",
      "\n",
      "\n",
      "\n",
      "\n",
      "\n",
      " 65%|██████▍   | 194/300 [1:38:45<55:22, 31.34s/it]\u001b[A\u001b[A\u001b[A\u001b[A\u001b[A\u001b[A\u001b[A\u001b[A\u001b[A\u001b[A\u001b[A"
     ]
    },
    {
     "name": "stdout",
     "output_type": "stream",
     "text": [
      "typs is <class 'numpy.ndarray'>\n"
     ]
    },
    {
     "name": "stderr",
     "output_type": "stream",
     "text": [
      "\n",
      "\n",
      "\n",
      "\n",
      "\n",
      "\n",
      "\n",
      "\n",
      "\n",
      "\n",
      "\n",
      " 65%|██████▌   | 195/300 [1:39:17<55:04, 31.47s/it]\u001b[A\u001b[A\u001b[A\u001b[A\u001b[A\u001b[A\u001b[A\u001b[A\u001b[A\u001b[A\u001b[A"
     ]
    },
    {
     "name": "stdout",
     "output_type": "stream",
     "text": [
      "typs is <class 'numpy.ndarray'>\n"
     ]
    },
    {
     "name": "stderr",
     "output_type": "stream",
     "text": [
      "\n",
      "\n",
      "\n",
      "\n",
      "\n",
      "\n",
      "\n",
      "\n",
      "\n",
      "\n",
      "\n",
      " 65%|██████▌   | 196/300 [1:39:49<54:56, 31.70s/it]\u001b[A\u001b[A\u001b[A\u001b[A\u001b[A\u001b[A\u001b[A\u001b[A\u001b[A\u001b[A\u001b[A"
     ]
    },
    {
     "name": "stdout",
     "output_type": "stream",
     "text": [
      "typs is <class 'numpy.ndarray'>\n"
     ]
    },
    {
     "name": "stderr",
     "output_type": "stream",
     "text": [
      "\n",
      "\n",
      "\n",
      "\n",
      "\n",
      "\n",
      "\n",
      "\n",
      "\n",
      "\n",
      "\n",
      " 66%|██████▌   | 197/300 [1:40:20<54:05, 31.51s/it]\u001b[A\u001b[A\u001b[A\u001b[A\u001b[A\u001b[A\u001b[A\u001b[A\u001b[A\u001b[A\u001b[A"
     ]
    },
    {
     "name": "stdout",
     "output_type": "stream",
     "text": [
      "typs is <class 'numpy.ndarray'>\n"
     ]
    },
    {
     "name": "stderr",
     "output_type": "stream",
     "text": [
      "\n",
      "\n",
      "\n",
      "\n",
      "\n",
      "\n",
      "\n",
      "\n",
      "\n",
      "\n",
      "\n",
      " 66%|██████▌   | 198/300 [1:40:53<54:03, 31.80s/it]\u001b[A\u001b[A\u001b[A\u001b[A\u001b[A\u001b[A\u001b[A\u001b[A\u001b[A\u001b[A\u001b[A"
     ]
    },
    {
     "name": "stdout",
     "output_type": "stream",
     "text": [
      "typs is <class 'numpy.ndarray'>\n"
     ]
    },
    {
     "name": "stderr",
     "output_type": "stream",
     "text": [
      "\n",
      "\n",
      "\n",
      "\n",
      "\n",
      "\n",
      "\n",
      "\n",
      "\n",
      "\n",
      "\n",
      " 66%|██████▋   | 199/300 [1:41:23<52:38, 31.27s/it]\u001b[A\u001b[A\u001b[A\u001b[A\u001b[A\u001b[A\u001b[A\u001b[A\u001b[A\u001b[A\u001b[A"
     ]
    },
    {
     "name": "stdout",
     "output_type": "stream",
     "text": [
      "typs is <class 'numpy.ndarray'>\n"
     ]
    },
    {
     "name": "stderr",
     "output_type": "stream",
     "text": [
      "\n",
      "\n",
      "\n",
      "\n",
      "\n",
      "\n",
      "\n",
      "\n",
      "\n",
      "\n",
      "\n",
      " 67%|██████▋   | 200/300 [1:41:54<52:01, 31.22s/it]\u001b[A\u001b[A\u001b[A\u001b[A\u001b[A\u001b[A\u001b[A\u001b[A\u001b[A\u001b[A\u001b[A"
     ]
    },
    {
     "name": "stdout",
     "output_type": "stream",
     "text": [
      "typs is <class 'numpy.ndarray'>\n"
     ]
    },
    {
     "name": "stderr",
     "output_type": "stream",
     "text": [
      "\n",
      "\n",
      "\n",
      "\n",
      "\n",
      "\n",
      "\n",
      "\n",
      "\n",
      "\n",
      "\n",
      " 67%|██████▋   | 201/300 [1:42:24<51:16, 31.08s/it]\u001b[A\u001b[A\u001b[A\u001b[A\u001b[A\u001b[A\u001b[A\u001b[A\u001b[A\u001b[A\u001b[A"
     ]
    },
    {
     "name": "stdout",
     "output_type": "stream",
     "text": [
      "typs is <class 'numpy.ndarray'>\n"
     ]
    },
    {
     "name": "stderr",
     "output_type": "stream",
     "text": [
      "\n",
      "\n",
      "\n",
      "\n",
      "\n",
      "\n",
      "\n",
      "\n",
      "\n",
      "\n",
      "\n",
      " 67%|██████▋   | 202/300 [1:42:55<50:31, 30.93s/it]\u001b[A\u001b[A\u001b[A\u001b[A\u001b[A\u001b[A\u001b[A\u001b[A\u001b[A\u001b[A\u001b[A"
     ]
    },
    {
     "name": "stdout",
     "output_type": "stream",
     "text": [
      "typs is <class 'numpy.ndarray'>\n"
     ]
    },
    {
     "name": "stderr",
     "output_type": "stream",
     "text": [
      "\n",
      "\n",
      "\n",
      "\n",
      "\n",
      "\n",
      "\n",
      "\n",
      "\n",
      "\n",
      "\n",
      " 68%|██████▊   | 203/300 [1:43:27<50:29, 31.23s/it]\u001b[A\u001b[A\u001b[A\u001b[A\u001b[A\u001b[A\u001b[A\u001b[A\u001b[A\u001b[A\u001b[A"
     ]
    },
    {
     "name": "stdout",
     "output_type": "stream",
     "text": [
      "typs is <class 'numpy.ndarray'>\n"
     ]
    },
    {
     "name": "stderr",
     "output_type": "stream",
     "text": [
      "\n",
      "\n",
      "\n",
      "\n",
      "\n",
      "\n",
      "\n",
      "\n",
      "\n",
      "\n",
      "\n",
      " 68%|██████▊   | 204/300 [1:44:01<51:06, 31.94s/it]\u001b[A\u001b[A\u001b[A\u001b[A\u001b[A\u001b[A\u001b[A\u001b[A\u001b[A\u001b[A\u001b[A"
     ]
    },
    {
     "name": "stdout",
     "output_type": "stream",
     "text": [
      "typs is <class 'numpy.ndarray'>\n"
     ]
    },
    {
     "name": "stderr",
     "output_type": "stream",
     "text": [
      "\n",
      "\n",
      "\n",
      "\n",
      "\n",
      "\n",
      "\n",
      "\n",
      "\n",
      "\n",
      "\n",
      " 68%|██████▊   | 205/300 [1:44:33<50:44, 32.05s/it]\u001b[A\u001b[A\u001b[A\u001b[A\u001b[A\u001b[A\u001b[A\u001b[A\u001b[A\u001b[A\u001b[A"
     ]
    },
    {
     "name": "stdout",
     "output_type": "stream",
     "text": [
      "typs is <class 'numpy.ndarray'>\n"
     ]
    },
    {
     "name": "stderr",
     "output_type": "stream",
     "text": [
      "\n",
      "\n",
      "\n",
      "\n",
      "\n",
      "\n",
      "\n",
      "\n",
      "\n",
      "\n",
      "\n",
      " 69%|██████▊   | 206/300 [1:45:04<49:48, 31.79s/it]\u001b[A\u001b[A\u001b[A\u001b[A\u001b[A\u001b[A\u001b[A\u001b[A\u001b[A\u001b[A\u001b[A"
     ]
    },
    {
     "name": "stdout",
     "output_type": "stream",
     "text": [
      "typs is <class 'numpy.ndarray'>\n"
     ]
    },
    {
     "name": "stderr",
     "output_type": "stream",
     "text": [
      "\n",
      "\n",
      "\n",
      "\n",
      "\n",
      "\n",
      "\n",
      "\n",
      "\n",
      "\n",
      "\n",
      " 69%|██████▉   | 207/300 [1:45:33<48:09, 31.07s/it]\u001b[A\u001b[A\u001b[A\u001b[A\u001b[A\u001b[A\u001b[A\u001b[A\u001b[A\u001b[A\u001b[A"
     ]
    },
    {
     "name": "stdout",
     "output_type": "stream",
     "text": [
      "typs is <class 'numpy.ndarray'>\n"
     ]
    },
    {
     "name": "stderr",
     "output_type": "stream",
     "text": [
      "\n",
      "\n",
      "\n",
      "\n",
      "\n",
      "\n",
      "\n",
      "\n",
      "\n",
      "\n",
      "\n",
      " 69%|██████▉   | 208/300 [1:46:06<48:08, 31.39s/it]\u001b[A\u001b[A\u001b[A\u001b[A\u001b[A\u001b[A\u001b[A\u001b[A\u001b[A\u001b[A\u001b[A"
     ]
    },
    {
     "name": "stdout",
     "output_type": "stream",
     "text": [
      "typs is <class 'numpy.ndarray'>\n"
     ]
    },
    {
     "name": "stderr",
     "output_type": "stream",
     "text": [
      "\n",
      "\n",
      "\n",
      "\n",
      "\n",
      "\n",
      "\n",
      "\n",
      "\n",
      "\n",
      "\n",
      " 70%|██████▉   | 209/300 [1:46:40<48:49, 32.20s/it]\u001b[A\u001b[A\u001b[A\u001b[A\u001b[A\u001b[A\u001b[A\u001b[A\u001b[A\u001b[A\u001b[A"
     ]
    },
    {
     "name": "stdout",
     "output_type": "stream",
     "text": [
      "typs is <class 'numpy.ndarray'>\n"
     ]
    },
    {
     "name": "stderr",
     "output_type": "stream",
     "text": [
      "\n",
      "\n",
      "\n",
      "\n",
      "\n",
      "\n",
      "\n",
      "\n",
      "\n",
      "\n",
      "\n",
      " 70%|███████   | 210/300 [1:47:13<48:55, 32.62s/it]\u001b[A\u001b[A\u001b[A\u001b[A\u001b[A\u001b[A\u001b[A\u001b[A\u001b[A\u001b[A\u001b[A"
     ]
    },
    {
     "name": "stdout",
     "output_type": "stream",
     "text": [
      "typs is <class 'numpy.ndarray'>\n"
     ]
    },
    {
     "name": "stderr",
     "output_type": "stream",
     "text": [
      "\n",
      "\n",
      "\n",
      "\n",
      "\n",
      "\n",
      "\n",
      "\n",
      "\n",
      "\n",
      "\n",
      " 70%|███████   | 211/300 [1:47:47<48:54, 32.98s/it]\u001b[A\u001b[A\u001b[A\u001b[A\u001b[A\u001b[A\u001b[A\u001b[A\u001b[A\u001b[A\u001b[A"
     ]
    },
    {
     "name": "stdout",
     "output_type": "stream",
     "text": [
      "typs is <class 'numpy.ndarray'>\n"
     ]
    },
    {
     "name": "stderr",
     "output_type": "stream",
     "text": [
      "\n",
      "\n",
      "\n",
      "\n",
      "\n",
      "\n",
      "\n",
      "\n",
      "\n",
      "\n",
      "\n",
      " 71%|███████   | 212/300 [1:48:18<47:26, 32.34s/it]\u001b[A\u001b[A\u001b[A\u001b[A\u001b[A\u001b[A\u001b[A\u001b[A\u001b[A\u001b[A\u001b[A"
     ]
    },
    {
     "name": "stdout",
     "output_type": "stream",
     "text": [
      "typs is <class 'numpy.ndarray'>\n"
     ]
    },
    {
     "name": "stderr",
     "output_type": "stream",
     "text": [
      "\n",
      "\n",
      "\n",
      "\n",
      "\n",
      "\n",
      "\n",
      "\n",
      "\n",
      "\n",
      "\n",
      " 71%|███████   | 213/300 [1:48:52<47:29, 32.76s/it]\u001b[A\u001b[A\u001b[A\u001b[A\u001b[A\u001b[A\u001b[A\u001b[A\u001b[A\u001b[A\u001b[A"
     ]
    },
    {
     "name": "stdout",
     "output_type": "stream",
     "text": [
      "typs is <class 'numpy.ndarray'>\n"
     ]
    },
    {
     "name": "stderr",
     "output_type": "stream",
     "text": [
      "\n",
      "\n",
      "\n",
      "\n",
      "\n",
      "\n",
      "\n",
      "\n",
      "\n",
      "\n",
      "\n",
      " 71%|███████▏  | 214/300 [1:49:25<47:15, 32.97s/it]\u001b[A\u001b[A\u001b[A\u001b[A\u001b[A\u001b[A\u001b[A\u001b[A\u001b[A\u001b[A\u001b[A"
     ]
    },
    {
     "name": "stdout",
     "output_type": "stream",
     "text": [
      "typs is <class 'numpy.ndarray'>\n"
     ]
    },
    {
     "name": "stderr",
     "output_type": "stream",
     "text": [
      "\n",
      "\n",
      "\n",
      "\n",
      "\n",
      "\n",
      "\n",
      "\n",
      "\n",
      "\n",
      "\n",
      " 72%|███████▏  | 215/300 [1:50:03<48:48, 34.45s/it]\u001b[A\u001b[A\u001b[A\u001b[A\u001b[A\u001b[A\u001b[A\u001b[A\u001b[A\u001b[A\u001b[A"
     ]
    },
    {
     "name": "stdout",
     "output_type": "stream",
     "text": [
      "typs is <class 'numpy.ndarray'>\n"
     ]
    },
    {
     "name": "stderr",
     "output_type": "stream",
     "text": [
      "\n",
      "\n",
      "\n",
      "\n",
      "\n",
      "\n",
      "\n",
      "\n",
      "\n",
      "\n",
      "\n",
      " 72%|███████▏  | 216/300 [1:50:36<47:47, 34.14s/it]\u001b[A\u001b[A\u001b[A\u001b[A\u001b[A\u001b[A\u001b[A\u001b[A\u001b[A\u001b[A\u001b[A"
     ]
    },
    {
     "name": "stdout",
     "output_type": "stream",
     "text": [
      "typs is <class 'numpy.ndarray'>\n"
     ]
    },
    {
     "name": "stderr",
     "output_type": "stream",
     "text": [
      "\n",
      "\n",
      "\n",
      "\n",
      "\n",
      "\n",
      "\n",
      "\n",
      "\n",
      "\n",
      "\n",
      " 72%|███████▏  | 217/300 [1:51:08<46:08, 33.35s/it]\u001b[A\u001b[A\u001b[A\u001b[A\u001b[A\u001b[A\u001b[A\u001b[A\u001b[A\u001b[A\u001b[A"
     ]
    },
    {
     "name": "stdout",
     "output_type": "stream",
     "text": [
      "typs is <class 'numpy.ndarray'>\n"
     ]
    },
    {
     "name": "stderr",
     "output_type": "stream",
     "text": [
      "\n",
      "\n",
      "\n",
      "\n",
      "\n",
      "\n",
      "\n",
      "\n",
      "\n",
      "\n",
      "\n",
      " 73%|███████▎  | 218/300 [1:51:39<44:37, 32.65s/it]\u001b[A\u001b[A\u001b[A\u001b[A\u001b[A\u001b[A\u001b[A\u001b[A\u001b[A\u001b[A\u001b[A"
     ]
    },
    {
     "name": "stdout",
     "output_type": "stream",
     "text": [
      "typs is <class 'numpy.ndarray'>\n"
     ]
    },
    {
     "name": "stderr",
     "output_type": "stream",
     "text": [
      "\n",
      "\n",
      "\n",
      "\n",
      "\n",
      "\n",
      "\n",
      "\n",
      "\n",
      "\n",
      "\n",
      " 73%|███████▎  | 219/300 [1:52:11<43:56, 32.55s/it]\u001b[A\u001b[A\u001b[A\u001b[A\u001b[A\u001b[A\u001b[A\u001b[A\u001b[A\u001b[A\u001b[A"
     ]
    },
    {
     "name": "stdout",
     "output_type": "stream",
     "text": [
      "typs is <class 'numpy.ndarray'>\n"
     ]
    },
    {
     "name": "stderr",
     "output_type": "stream",
     "text": [
      "\n",
      "\n",
      "\n",
      "\n",
      "\n",
      "\n",
      "\n",
      "\n",
      "\n",
      "\n",
      "\n",
      " 73%|███████▎  | 220/300 [1:52:42<42:44, 32.06s/it]\u001b[A\u001b[A\u001b[A\u001b[A\u001b[A\u001b[A\u001b[A\u001b[A\u001b[A\u001b[A\u001b[A"
     ]
    },
    {
     "name": "stdout",
     "output_type": "stream",
     "text": [
      "typs is <class 'numpy.ndarray'>\n"
     ]
    },
    {
     "name": "stderr",
     "output_type": "stream",
     "text": [
      "\n",
      "\n",
      "\n",
      "\n",
      "\n",
      "\n",
      "\n",
      "\n",
      "\n",
      "\n",
      "\n",
      " 74%|███████▎  | 221/300 [1:53:16<42:48, 32.51s/it]\u001b[A\u001b[A\u001b[A\u001b[A\u001b[A\u001b[A\u001b[A\u001b[A\u001b[A\u001b[A\u001b[A"
     ]
    },
    {
     "name": "stdout",
     "output_type": "stream",
     "text": [
      "typs is <class 'numpy.ndarray'>\n"
     ]
    },
    {
     "name": "stderr",
     "output_type": "stream",
     "text": [
      "\n",
      "\n",
      "\n",
      "\n",
      "\n",
      "\n",
      "\n",
      "\n",
      "\n",
      "\n",
      "\n",
      " 74%|███████▍  | 222/300 [1:53:47<41:55, 32.25s/it]\u001b[A\u001b[A\u001b[A\u001b[A\u001b[A\u001b[A\u001b[A\u001b[A\u001b[A\u001b[A\u001b[A"
     ]
    },
    {
     "name": "stdout",
     "output_type": "stream",
     "text": [
      "typs is <class 'numpy.ndarray'>\n"
     ]
    },
    {
     "name": "stderr",
     "output_type": "stream",
     "text": [
      "\n",
      "\n",
      "\n",
      "\n",
      "\n",
      "\n",
      "\n",
      "\n",
      "\n",
      "\n",
      "\n",
      " 74%|███████▍  | 223/300 [1:54:19<40:57, 31.92s/it]\u001b[A\u001b[A\u001b[A\u001b[A\u001b[A\u001b[A\u001b[A\u001b[A\u001b[A\u001b[A\u001b[A"
     ]
    },
    {
     "name": "stdout",
     "output_type": "stream",
     "text": [
      "typs is <class 'numpy.ndarray'>\n"
     ]
    },
    {
     "name": "stderr",
     "output_type": "stream",
     "text": [
      "\n",
      "\n",
      "\n",
      "\n",
      "\n",
      "\n",
      "\n",
      "\n",
      "\n",
      "\n",
      "\n",
      " 75%|███████▍  | 224/300 [1:54:49<39:47, 31.41s/it]\u001b[A\u001b[A\u001b[A\u001b[A\u001b[A\u001b[A\u001b[A\u001b[A\u001b[A\u001b[A\u001b[A"
     ]
    },
    {
     "name": "stdout",
     "output_type": "stream",
     "text": [
      "typs is <class 'numpy.ndarray'>\n"
     ]
    },
    {
     "name": "stderr",
     "output_type": "stream",
     "text": [
      "\n",
      "\n",
      "\n",
      "\n",
      "\n",
      "\n",
      "\n",
      "\n",
      "\n",
      "\n",
      "\n",
      " 75%|███████▌  | 225/300 [1:55:20<39:10, 31.35s/it]\u001b[A\u001b[A\u001b[A\u001b[A\u001b[A\u001b[A\u001b[A\u001b[A\u001b[A\u001b[A\u001b[A"
     ]
    },
    {
     "name": "stdout",
     "output_type": "stream",
     "text": [
      "typs is <class 'numpy.ndarray'>\n"
     ]
    },
    {
     "name": "stderr",
     "output_type": "stream",
     "text": [
      "\n",
      "\n",
      "\n",
      "\n",
      "\n",
      "\n",
      "\n",
      "\n",
      "\n",
      "\n",
      "\n",
      " 75%|███████▌  | 226/300 [1:55:53<39:12, 31.79s/it]\u001b[A\u001b[A\u001b[A\u001b[A\u001b[A\u001b[A\u001b[A\u001b[A\u001b[A\u001b[A\u001b[A"
     ]
    },
    {
     "name": "stdout",
     "output_type": "stream",
     "text": [
      "typs is <class 'numpy.ndarray'>\n"
     ]
    },
    {
     "name": "stderr",
     "output_type": "stream",
     "text": [
      "\n",
      "\n",
      "\n",
      "\n",
      "\n",
      "\n",
      "\n",
      "\n",
      "\n",
      "\n",
      "\n",
      " 76%|███████▌  | 227/300 [1:56:24<38:38, 31.75s/it]\u001b[A\u001b[A\u001b[A\u001b[A\u001b[A\u001b[A\u001b[A\u001b[A\u001b[A\u001b[A\u001b[A"
     ]
    },
    {
     "name": "stdout",
     "output_type": "stream",
     "text": [
      "typs is <class 'numpy.ndarray'>\n"
     ]
    },
    {
     "name": "stderr",
     "output_type": "stream",
     "text": [
      "\n",
      "\n",
      "\n",
      "\n",
      "\n",
      "\n",
      "\n",
      "\n",
      "\n",
      "\n",
      "\n",
      " 76%|███████▌  | 228/300 [1:56:58<38:37, 32.18s/it]\u001b[A\u001b[A\u001b[A\u001b[A\u001b[A\u001b[A\u001b[A\u001b[A\u001b[A\u001b[A\u001b[A"
     ]
    },
    {
     "name": "stdout",
     "output_type": "stream",
     "text": [
      "typs is <class 'numpy.ndarray'>\n"
     ]
    },
    {
     "name": "stderr",
     "output_type": "stream",
     "text": [
      "\n",
      "\n",
      "\n",
      "\n",
      "\n",
      "\n",
      "\n",
      "\n",
      "\n",
      "\n",
      "\n",
      " 76%|███████▋  | 229/300 [1:57:27<37:11, 31.43s/it]\u001b[A\u001b[A\u001b[A\u001b[A\u001b[A\u001b[A\u001b[A\u001b[A\u001b[A\u001b[A\u001b[A"
     ]
    },
    {
     "name": "stdout",
     "output_type": "stream",
     "text": [
      "typs is <class 'numpy.ndarray'>\n"
     ]
    },
    {
     "name": "stderr",
     "output_type": "stream",
     "text": [
      "\n",
      "\n",
      "\n",
      "\n",
      "\n",
      "\n",
      "\n",
      "\n",
      "\n",
      "\n",
      "\n",
      " 77%|███████▋  | 230/300 [1:57:58<36:16, 31.09s/it]\u001b[A\u001b[A\u001b[A\u001b[A\u001b[A\u001b[A\u001b[A\u001b[A\u001b[A\u001b[A\u001b[A"
     ]
    },
    {
     "name": "stdout",
     "output_type": "stream",
     "text": [
      "typs is <class 'numpy.ndarray'>\n"
     ]
    },
    {
     "name": "stderr",
     "output_type": "stream",
     "text": [
      "\n",
      "\n",
      "\n",
      "\n",
      "\n",
      "\n",
      "\n",
      "\n",
      "\n",
      "\n",
      "\n",
      " 77%|███████▋  | 231/300 [1:58:28<35:26, 30.81s/it]\u001b[A\u001b[A\u001b[A\u001b[A\u001b[A\u001b[A\u001b[A\u001b[A\u001b[A\u001b[A\u001b[A"
     ]
    },
    {
     "name": "stdout",
     "output_type": "stream",
     "text": [
      "typs is <class 'numpy.ndarray'>\n"
     ]
    },
    {
     "name": "stderr",
     "output_type": "stream",
     "text": [
      "\n",
      "\n",
      "\n",
      "\n",
      "\n",
      "\n",
      "\n",
      "\n",
      "\n",
      "\n",
      "\n",
      " 77%|███████▋  | 232/300 [1:58:58<34:51, 30.76s/it]\u001b[A\u001b[A\u001b[A\u001b[A\u001b[A\u001b[A\u001b[A\u001b[A\u001b[A\u001b[A\u001b[A"
     ]
    },
    {
     "name": "stdout",
     "output_type": "stream",
     "text": [
      "typs is <class 'numpy.ndarray'>\n"
     ]
    },
    {
     "name": "stderr",
     "output_type": "stream",
     "text": [
      "\n",
      "\n",
      "\n",
      "\n",
      "\n",
      "\n",
      "\n",
      "\n",
      "\n",
      "\n",
      "\n",
      " 78%|███████▊  | 233/300 [1:59:30<34:30, 30.91s/it]\u001b[A\u001b[A\u001b[A\u001b[A\u001b[A\u001b[A\u001b[A\u001b[A\u001b[A\u001b[A\u001b[A"
     ]
    },
    {
     "name": "stdout",
     "output_type": "stream",
     "text": [
      "typs is <class 'numpy.ndarray'>\n"
     ]
    },
    {
     "name": "stderr",
     "output_type": "stream",
     "text": [
      "\n",
      "\n",
      "\n",
      "\n",
      "\n",
      "\n",
      "\n",
      "\n",
      "\n",
      "\n",
      "\n",
      " 78%|███████▊  | 234/300 [2:00:03<34:40, 31.53s/it]\u001b[A\u001b[A\u001b[A\u001b[A\u001b[A\u001b[A\u001b[A\u001b[A\u001b[A\u001b[A\u001b[A"
     ]
    },
    {
     "name": "stdout",
     "output_type": "stream",
     "text": [
      "typs is <class 'numpy.ndarray'>\n"
     ]
    },
    {
     "name": "stderr",
     "output_type": "stream",
     "text": [
      "\n",
      "\n",
      "\n",
      "\n",
      "\n",
      "\n",
      "\n",
      "\n",
      "\n",
      "\n",
      "\n",
      " 78%|███████▊  | 235/300 [2:00:33<33:51, 31.26s/it]\u001b[A\u001b[A\u001b[A\u001b[A\u001b[A\u001b[A\u001b[A\u001b[A\u001b[A\u001b[A\u001b[A"
     ]
    },
    {
     "name": "stdout",
     "output_type": "stream",
     "text": [
      "typs is <class 'numpy.ndarray'>\n"
     ]
    },
    {
     "name": "stderr",
     "output_type": "stream",
     "text": [
      "\n",
      "\n",
      "\n",
      "\n",
      "\n",
      "\n",
      "\n",
      "\n",
      "\n",
      "\n",
      "\n",
      " 79%|███████▊  | 236/300 [2:01:04<33:01, 30.97s/it]\u001b[A\u001b[A\u001b[A\u001b[A\u001b[A\u001b[A\u001b[A\u001b[A\u001b[A\u001b[A\u001b[A"
     ]
    },
    {
     "name": "stdout",
     "output_type": "stream",
     "text": [
      "typs is <class 'numpy.ndarray'>\n"
     ]
    },
    {
     "name": "stderr",
     "output_type": "stream",
     "text": [
      "\n",
      "\n",
      "\n",
      "\n",
      "\n",
      "\n",
      "\n",
      "\n",
      "\n",
      "\n",
      "\n",
      " 79%|███████▉  | 237/300 [2:01:36<32:51, 31.30s/it]\u001b[A\u001b[A\u001b[A\u001b[A\u001b[A\u001b[A\u001b[A\u001b[A\u001b[A\u001b[A\u001b[A"
     ]
    },
    {
     "name": "stdout",
     "output_type": "stream",
     "text": [
      "typs is <class 'numpy.ndarray'>\n"
     ]
    },
    {
     "name": "stderr",
     "output_type": "stream",
     "text": [
      "\n",
      "\n",
      "\n",
      "\n",
      "\n",
      "\n",
      "\n",
      "\n",
      "\n",
      "\n",
      "\n",
      " 79%|███████▉  | 238/300 [2:02:08<32:46, 31.72s/it]\u001b[A\u001b[A\u001b[A\u001b[A\u001b[A\u001b[A\u001b[A\u001b[A\u001b[A\u001b[A\u001b[A"
     ]
    },
    {
     "name": "stdout",
     "output_type": "stream",
     "text": [
      "typs is <class 'numpy.ndarray'>\n"
     ]
    },
    {
     "name": "stderr",
     "output_type": "stream",
     "text": [
      "\n",
      "\n",
      "\n",
      "\n",
      "\n",
      "\n",
      "\n",
      "\n",
      "\n",
      "\n",
      "\n",
      " 80%|███████▉  | 239/300 [2:02:38<31:42, 31.20s/it]\u001b[A\u001b[A\u001b[A\u001b[A\u001b[A\u001b[A\u001b[A\u001b[A\u001b[A\u001b[A\u001b[A"
     ]
    },
    {
     "name": "stdout",
     "output_type": "stream",
     "text": [
      "typs is <class 'numpy.ndarray'>\n"
     ]
    },
    {
     "name": "stderr",
     "output_type": "stream",
     "text": [
      "\n",
      "\n",
      "\n",
      "\n",
      "\n",
      "\n",
      "\n",
      "\n",
      "\n",
      "\n",
      "\n",
      " 80%|████████  | 240/300 [2:03:08<30:52, 30.87s/it]\u001b[A\u001b[A\u001b[A\u001b[A\u001b[A\u001b[A\u001b[A\u001b[A\u001b[A\u001b[A\u001b[A"
     ]
    },
    {
     "name": "stdout",
     "output_type": "stream",
     "text": [
      "typs is <class 'numpy.ndarray'>\n"
     ]
    },
    {
     "name": "stderr",
     "output_type": "stream",
     "text": [
      "\n",
      "\n",
      "\n",
      "\n",
      "\n",
      "\n",
      "\n",
      "\n",
      "\n",
      "\n",
      "\n",
      " 80%|████████  | 241/300 [2:03:40<30:32, 31.06s/it]\u001b[A\u001b[A\u001b[A\u001b[A\u001b[A\u001b[A\u001b[A\u001b[A\u001b[A\u001b[A\u001b[A"
     ]
    },
    {
     "name": "stdout",
     "output_type": "stream",
     "text": [
      "typs is <class 'numpy.ndarray'>\n"
     ]
    },
    {
     "name": "stderr",
     "output_type": "stream",
     "text": [
      "\n",
      "\n",
      "\n",
      "\n",
      "\n",
      "\n",
      "\n",
      "\n",
      "\n",
      "\n",
      "\n",
      " 81%|████████  | 242/300 [2:04:12<30:22, 31.42s/it]\u001b[A\u001b[A\u001b[A\u001b[A\u001b[A\u001b[A\u001b[A\u001b[A\u001b[A\u001b[A\u001b[A"
     ]
    },
    {
     "name": "stdout",
     "output_type": "stream",
     "text": [
      "typs is <class 'numpy.ndarray'>\n"
     ]
    },
    {
     "name": "stderr",
     "output_type": "stream",
     "text": [
      "\n",
      "\n",
      "\n",
      "\n",
      "\n",
      "\n",
      "\n",
      "\n",
      "\n",
      "\n",
      "\n",
      " 81%|████████  | 243/300 [2:04:42<29:22, 30.92s/it]\u001b[A\u001b[A\u001b[A\u001b[A\u001b[A\u001b[A\u001b[A\u001b[A\u001b[A\u001b[A\u001b[A"
     ]
    },
    {
     "name": "stdout",
     "output_type": "stream",
     "text": [
      "typs is <class 'numpy.ndarray'>\n"
     ]
    },
    {
     "name": "stderr",
     "output_type": "stream",
     "text": [
      "\n",
      "\n",
      "\n",
      "\n",
      "\n",
      "\n",
      "\n",
      "\n",
      "\n",
      "\n",
      "\n",
      " 81%|████████▏ | 244/300 [2:05:14<29:10, 31.26s/it]\u001b[A\u001b[A\u001b[A\u001b[A\u001b[A\u001b[A\u001b[A\u001b[A\u001b[A\u001b[A\u001b[A"
     ]
    },
    {
     "name": "stdout",
     "output_type": "stream",
     "text": [
      "typs is <class 'numpy.ndarray'>\n"
     ]
    },
    {
     "name": "stderr",
     "output_type": "stream",
     "text": [
      "\n",
      "\n",
      "\n",
      "\n",
      "\n",
      "\n",
      "\n",
      "\n",
      "\n",
      "\n",
      "\n",
      " 82%|████████▏ | 245/300 [2:05:46<28:46, 31.39s/it]\u001b[A\u001b[A\u001b[A\u001b[A\u001b[A\u001b[A\u001b[A\u001b[A\u001b[A\u001b[A\u001b[A"
     ]
    },
    {
     "name": "stdout",
     "output_type": "stream",
     "text": [
      "typs is <class 'numpy.ndarray'>\n"
     ]
    },
    {
     "name": "stderr",
     "output_type": "stream",
     "text": [
      "\n",
      "\n",
      "\n",
      "\n",
      "\n",
      "\n",
      "\n",
      "\n",
      "\n",
      "\n",
      "\n",
      " 82%|████████▏ | 246/300 [2:06:17<28:11, 31.33s/it]\u001b[A\u001b[A\u001b[A\u001b[A\u001b[A\u001b[A\u001b[A\u001b[A\u001b[A\u001b[A\u001b[A"
     ]
    },
    {
     "name": "stdout",
     "output_type": "stream",
     "text": [
      "typs is <class 'numpy.ndarray'>\n"
     ]
    },
    {
     "name": "stderr",
     "output_type": "stream",
     "text": [
      "\n",
      "\n",
      "\n",
      "\n",
      "\n",
      "\n",
      "\n",
      "\n",
      "\n",
      "\n",
      "\n",
      " 82%|████████▏ | 247/300 [2:06:49<27:56, 31.64s/it]\u001b[A\u001b[A\u001b[A\u001b[A\u001b[A\u001b[A\u001b[A\u001b[A\u001b[A\u001b[A\u001b[A"
     ]
    },
    {
     "name": "stdout",
     "output_type": "stream",
     "text": [
      "typs is <class 'numpy.ndarray'>\n"
     ]
    },
    {
     "name": "stderr",
     "output_type": "stream",
     "text": [
      "\n",
      "\n",
      "\n",
      "\n",
      "\n",
      "\n",
      "\n",
      "\n",
      "\n",
      "\n",
      "\n",
      " 83%|████████▎ | 248/300 [2:07:22<27:35, 31.83s/it]\u001b[A\u001b[A\u001b[A\u001b[A\u001b[A\u001b[A\u001b[A\u001b[A\u001b[A\u001b[A\u001b[A"
     ]
    },
    {
     "name": "stdout",
     "output_type": "stream",
     "text": [
      "typs is <class 'numpy.ndarray'>\n"
     ]
    },
    {
     "name": "stderr",
     "output_type": "stream",
     "text": [
      "\n",
      "\n",
      "\n",
      "\n",
      "\n",
      "\n",
      "\n",
      "\n",
      "\n",
      "\n",
      "\n",
      " 83%|████████▎ | 249/300 [2:07:56<27:50, 32.75s/it]\u001b[A\u001b[A\u001b[A\u001b[A\u001b[A\u001b[A\u001b[A\u001b[A\u001b[A\u001b[A\u001b[A"
     ]
    },
    {
     "name": "stdout",
     "output_type": "stream",
     "text": [
      "typs is <class 'numpy.ndarray'>\n"
     ]
    },
    {
     "name": "stderr",
     "output_type": "stream",
     "text": [
      "\n",
      "\n",
      "\n",
      "\n",
      "\n",
      "\n",
      "\n",
      "\n",
      "\n",
      "\n",
      "\n",
      " 83%|████████▎ | 250/300 [2:08:28<26:59, 32.40s/it]\u001b[A\u001b[A\u001b[A\u001b[A\u001b[A\u001b[A\u001b[A\u001b[A\u001b[A\u001b[A\u001b[A"
     ]
    },
    {
     "name": "stdout",
     "output_type": "stream",
     "text": [
      "typs is <class 'numpy.ndarray'>\n"
     ]
    },
    {
     "name": "stderr",
     "output_type": "stream",
     "text": [
      "\n",
      "\n",
      "\n",
      "\n",
      "\n",
      "\n",
      "\n",
      "\n",
      "\n",
      "\n",
      "\n",
      " 84%|████████▎ | 251/300 [2:09:00<26:26, 32.38s/it]\u001b[A\u001b[A\u001b[A\u001b[A\u001b[A\u001b[A\u001b[A\u001b[A\u001b[A\u001b[A\u001b[A"
     ]
    },
    {
     "name": "stdout",
     "output_type": "stream",
     "text": [
      "typs is <class 'numpy.ndarray'>\n"
     ]
    }
   ],
   "source": [
    "test_movie_lens_data(num_factors=5, task='regression')"
   ]
  },
  {
   "cell_type": "code",
   "execution_count": null,
   "metadata": {},
   "outputs": [],
   "source": [
    "test_movie_lens_data(num_factors=5, task='classification')"
   ]
  },
  {
   "cell_type": "code",
   "execution_count": null,
   "metadata": {},
   "outputs": [],
   "source": [
    "test_criteo_data(num_factors=6)"
   ]
  }
 ],
 "metadata": {
  "kernelspec": {
   "display_name": "Python 3",
   "language": "python",
   "name": "python3"
  },
  "language_info": {
   "codemirror_mode": {
    "name": "ipython",
    "version": 3
   },
   "file_extension": ".py",
   "mimetype": "text/x-python",
   "name": "python",
   "nbconvert_exporter": "python",
   "pygments_lexer": "ipython3",
   "version": "3.7.4"
  }
 },
 "nbformat": 4,
 "nbformat_minor": 2
}
