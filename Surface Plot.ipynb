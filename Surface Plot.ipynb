{
 "cells": [
  {
   "cell_type": "code",
   "execution_count": null,
   "metadata": {},
   "outputs": [],
   "source": []
  },
  {
   "cell_type": "code",
   "execution_count": 1,
   "metadata": {},
   "outputs": [
    {
     "name": "stdout",
     "output_type": "stream",
     "text": [
      "1.5523812860566177\n"
     ]
    },
    {
     "data": {
      "text/plain": [
       "<Figure size 640x480 with 1 Axes>"
      ]
     },
     "metadata": {},
     "output_type": "display_data"
    }
   ],
   "source": [
    "\n",
    "\n",
    "\n",
    "import csv\n",
    "import os\n",
    "import numpy as np\n",
    "import matplotlib.pyplot as plt\n",
    "\n",
    "with open('problem3.csv', newline='') as csvfile:\n",
    "    data = list(csv.reader(csvfile))\n",
    "# print(data)\n",
    "d = np.array([float(i[0]) for i in data])\n",
    "print(d[0])\n",
    "\n",
    "\n",
    "x_0 = np.linspace(-6, 6, 1000)\n",
    "gamma = x_0.copy() # transpose\n",
    "\n",
    "\n",
    "def likelihood(a,b):\n",
    "\n",
    "    return np.sum(np.log(1+(d-a)**2/np.exp(b)**2))\n",
    "\n",
    "array = np.empty([1000,1000])\n",
    "\n",
    "for i in range(len(x_0)):\n",
    "    for j in range (len(gamma)):\n",
    "        array[i][j] = likelihood(x_0[i], gamma[j])\n",
    "\n",
    "\n",
    "\n",
    "\n",
    "\n",
    "import matplotlib.pyplot as plt\n",
    "\n",
    "import mpl_toolkits\n",
    "from mpl_toolkits import mplot3d\n",
    "\n",
    "\n",
    "lnlik = -1000*np.log(np.pi) - 1000*gamma - array\n",
    "\n",
    "fig = plt.figure()\n",
    "ax = plt.axes(projection='3d')\n",
    "\n",
    "ax.plot_surface(x_0, gamma, lnlik, cmap='viridis', edgecolor='none')\n",
    "ax.set_title('Surface plot')\n",
    "plt.savefig('3d.png')\n",
    "plt.show()\n",
    "\n",
    "  "
   ]
  },
  {
   "cell_type": "code",
   "execution_count": null,
   "metadata": {},
   "outputs": [],
   "source": []
  }
 ],
 "metadata": {
  "kernelspec": {
   "display_name": "Python 3",
   "language": "python",
   "name": "python3"
  },
  "language_info": {
   "codemirror_mode": {
    "name": "ipython",
    "version": 3
   },
   "file_extension": ".py",
   "mimetype": "text/x-python",
   "name": "python",
   "nbconvert_exporter": "python",
   "pygments_lexer": "ipython3",
   "version": "3.7.4"
  }
 },
 "nbformat": 4,
 "nbformat_minor": 2
}
